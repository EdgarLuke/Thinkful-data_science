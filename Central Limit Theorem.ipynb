{
 "cells": [
  {
   "cell_type": "code",
   "execution_count": 10,
   "metadata": {},
   "outputs": [],
   "source": [
    "import numpy as np\n",
    "import pandas as pd\n",
    "import matplotlib.pyplot as plt\n",
    "%matplotlib inline"
   ]
  },
  {
   "cell_type": "code",
   "execution_count": null,
   "metadata": {},
   "outputs": [],
   "source": [
    "# Create 2 populations to draw samples from and plot their distributions as histograms. Pop1 with p=0.2, Pop2 with p=0.5"
   ]
  },
  {
   "cell_type": "code",
   "execution_count": 11,
   "metadata": {},
   "outputs": [
    {
     "data": {
      "image/png": "[encoded data removed]",
      "text/plain": [
       "<matplotlib.figure.Figure at 0x113869710>"
      ]
     },
     "metadata": {},
     "output_type": "display_data"
    }
   ],
   "source": [
    "pop1 = np.random.binomial(10, 0.2, 10000)\n",
    "pop2 = np.random.binomial(10, 0.5, 10000)\n",
    "\n",
    "plt.hist(pop1, alpha=0.5, label='Population 1')\n",
    "plt.hist(pop2, alpha=0.5, label='Population 2')\n",
    "plt.legend(loc='upper right')\n",
    "plt.show()"
   ]
  },
  {
   "cell_type": "code",
   "execution_count": null,
   "metadata": {},
   "outputs": [],
   "source": [
    "# Create two samples from the population to compare"
   ]
  },
  {
   "cell_type": "code",
   "execution_count": 12,
   "metadata": {},
   "outputs": [
    {
     "data": {
      "image/png": "[encoded data removed]",
      "text/plain": [
       "<matplotlib.figure.Figure at 0x113869128>"
      ]
     },
     "metadata": {},
     "output_type": "display_data"
    }
   ],
   "source": [
    "sample1 = np.random.choice(pop1, 100, replace=True)\n",
    "sample2 = np.random.choice(pop2, 100, replace=True)\n",
    "\n",
    "plt.hist(sample1, alpha=0.5, label='sample 1')\n",
    "plt.hist(sample2, alpha=0.5, label='sample 2')\n",
    "plt.legend(loc='upper right')\n",
    "plt.show()"
   ]
  },
  {
   "cell_type": "code",
   "execution_count": null,
   "metadata": {},
   "outputs": [],
   "source": [
    "# Find mean and standard deviation for the samples"
   ]
  },
  {
   "cell_type": "code",
   "execution_count": 13,
   "metadata": {},
   "outputs": [
    {
     "name": "stdout",
     "output_type": "stream",
     "text": [
      "2.18\n",
      "4.84\n",
      "1.444852933692561\n",
      "1.820549367636044\n",
      "2.6599999999999997\n"
     ]
    }
   ],
   "source": [
    "print(sample1.mean())\n",
    "      \n",
    "print(sample2.mean())\n",
    "      \n",
    "print(sample1.std())\n",
    "      \n",
    "print(sample2.std())\n",
    "      \n",
    "diff= sample2.mean() - sample1.mean()\n",
    "print(diff)"
   ]
  },
  {
   "cell_type": "code",
   "execution_count": 14,
   "metadata": {},
   "outputs": [
    {
     "name": "stdout",
     "output_type": "stream",
     "text": [
      "11.444698253095437\n"
     ]
    }
   ],
   "source": [
    "size = np.array([len(sample1), len(sample2)])\n",
    "sd = np.array([sample1.std(), sample2.std()])\n",
    "\n",
    "diff_se = (sum(sd**2 / size))**0.5\n",
    "\n",
    "print(diff/diff_se)"
   ]
  },
  {
   "cell_type": "code",
   "execution_count": 15,
   "metadata": {},
   "outputs": [
    {
     "name": "stdout",
     "output_type": "stream",
     "text": [
      "Ttest_indResult(statistic=11.38733098330604, pvalue=3.4124994260336665e-23)\n"
     ]
    }
   ],
   "source": [
    "from scipy.stats import ttest_ind\n",
    "print(ttest_ind(sample2, sample1, equal_var=False))"
   ]
  },
  {
   "cell_type": "code",
   "execution_count": null,
   "metadata": {},
   "outputs": [],
   "source": [
    "# 1. Prediction: Increasing sample size should result in a decrease in standard deviation, less overlap in samples, and a divergence in the sample means. \n",
    "# This is due to the fact that as sample size increases, the more representative of the population as a whole it becomes."
   ]
  },
  {
   "cell_type": "code",
   "execution_count": 16,
   "metadata": {},
   "outputs": [
    {
     "data": {
      "image/png": "[encoded data removed]",
      "text/plain": [
       "<matplotlib.figure.Figure at 0x11391b5f8>"
      ]
     },
     "metadata": {},
     "output_type": "display_data"
    }
   ],
   "source": [
    "sample3 = np.random.choice(pop1, 1000, replace=True)\n",
    "sample4 = np.random.choice(pop2, 1000, replace=True)\n",
    "\n",
    "plt.hist(sample3, alpha=0.5, label='sample 3')\n",
    "plt.hist(sample4, alpha=0.5, label='sample 4')\n",
    "plt.legend(loc='upper right')\n",
    "plt.show()"
   ]
  },
  {
   "cell_type": "code",
   "execution_count": 17,
   "metadata": {},
   "outputs": [
    {
     "name": "stdout",
     "output_type": "stream",
     "text": [
      "2.029\n",
      "4.941\n",
      "1.2915722976279727\n",
      "1.6166381784431543\n",
      "2.912\n"
     ]
    }
   ],
   "source": [
    "print(sample3.mean())\n",
    "      \n",
    "print(sample4.mean())\n",
    "      \n",
    "print(sample3.std())\n",
    "      \n",
    "print(sample4.std())\n",
    "      \n",
    "diff= sample4.mean() - sample3.mean()\n",
    "print(diff)"
   ]
  },
  {
   "cell_type": "code",
   "execution_count": null,
   "metadata": {},
   "outputs": [],
   "source": [
    "# 1. Prediction: A small sample size should produce larger standard deviations, lower means, and lower variance in each sample."
   ]
  },
  {
   "cell_type": "code",
   "execution_count": 18,
   "metadata": {},
   "outputs": [
    {
     "data": {
      "image/png": "[encoded data removed]",
      "text/plain": [
       "<matplotlib.figure.Figure at 0x113b3cf98>"
      ]
     },
     "metadata": {},
     "output_type": "display_data"
    }
   ],
   "source": [
    "sample5 = np.random.choice(pop1, 20, replace=True)\n",
    "sample6 = np.random.choice(pop2, 20, replace=True)\n",
    "\n",
    "plt.hist(sample5, alpha=0.5, label='sample 5')\n",
    "plt.hist(sample6, alpha=0.5, label='sample 6')\n",
    "plt.legend(loc='upper right')\n",
    "plt.show()"
   ]
  },
  {
   "cell_type": "code",
   "execution_count": 19,
   "metadata": {},
   "outputs": [
    {
     "name": "stdout",
     "output_type": "stream",
     "text": [
      "1.8\n",
      "4.5\n",
      "1.469693845669907\n",
      "1.6278820596099706\n",
      "2.7\n"
     ]
    }
   ],
   "source": [
    "print(sample5.mean())\n",
    "      \n",
    "print(sample6.mean())\n",
    "      \n",
    "print(sample5.std())\n",
    "      \n",
    "print(sample6.std())\n",
    "      \n",
    "diff= sample6.mean() - sample5.mean()\n",
    "print(diff)"
   ]
  },
  {
   "cell_type": "code",
   "execution_count": null,
   "metadata": {},
   "outputs": [],
   "source": [
    "# 2. Prediction: With an increase in probability of one population closer to the other, can expect to see higher similarities in distribution of values. "
   ]
  },
  {
   "cell_type": "code",
   "execution_count": 20,
   "metadata": {},
   "outputs": [
    {
     "data": {
      "image/png": "[encoded data removed]",
      "text/plain": [
       "<matplotlib.figure.Figure at 0x113875e48>"
      ]
     },
     "metadata": {},
     "output_type": "display_data"
    }
   ],
   "source": [
    "pop1 = np.random.binomial(10, 0.3, 10000)\n",
    "pop2 = np.random.binomial(10, 0.5, 10000)\n",
    "\n",
    "plt.hist(pop1, alpha=0.5, label='Population 1')\n",
    "plt.hist(pop2, alpha=0.5, label='Population 2')\n",
    "plt.legend(loc='upper right')\n",
    "plt.show()"
   ]
  },
  {
   "cell_type": "code",
   "execution_count": 24,
   "metadata": {},
   "outputs": [
    {
     "name": "stdout",
     "output_type": "stream",
     "text": [
      "2.89\n",
      "4.81\n",
      "1.3556917053666737\n",
      "1.7244999275152202\n",
      "1.9199999999999995\n",
      "8.752808863167122\n",
      "Ttest_indResult(statistic=8.708934858246762, pvalue=1.5800956366482079e-15)\n"
     ]
    }
   ],
   "source": [
    "sample7 = np.random.choice(pop1, 100, replace=True)\n",
    "sample8 = np.random.choice(pop2, 100, replace=True)\n",
    "\n",
    "\n",
    "print(sample7.mean())\n",
    "      \n",
    "print(sample8.mean())\n",
    "      \n",
    "print(sample7.std())\n",
    "      \n",
    "print(sample8.std())\n",
    "      \n",
    "diff= sample8.mean() - sample7.mean()\n",
    "print(diff)\n",
    "\n",
    "size = np.array([len(sample7), len(sample8)])\n",
    "sd = np.array([sample7.std(), sample8.std()])\n",
    "\n",
    "diff_se = (sum(sd**2 / size))**0.5\n",
    "\n",
    "print(diff/diff_se)\n",
    "\n",
    "print(ttest_ind(sample8, sample7, equal_var=False))"
   ]
  },
  {
   "cell_type": "code",
   "execution_count": null,
   "metadata": {},
   "outputs": [],
   "source": [
    "# 2. Prediction: Again, an increase in probability of one population toward the probability of the second we can expect more similar outcomes from the sampling. Convergence of means, standard deviations, and variance. "
   ]
  },
  {
   "cell_type": "code",
   "execution_count": 25,
   "metadata": {},
   "outputs": [
    {
     "data": {
      "image/png": "[encoded data removed]",
      "text/plain": [
       "<matplotlib.figure.Figure at 0x113ea8a90>"
      ]
     },
     "metadata": {},
     "output_type": "display_data"
    }
   ],
   "source": [
    "pop3 = np.random.binomial(10, 0.4, 10000)\n",
    "pop4 = np.random.binomial(10, 0.5, 10000)\n",
    "\n",
    "plt.hist(pop3, alpha=0.5, label='Population 1')\n",
    "plt.hist(pop4, alpha=0.5, label='Population 2')\n",
    "plt.legend(loc='upper right')\n",
    "plt.show()"
   ]
  },
  {
   "cell_type": "code",
   "execution_count": 26,
   "metadata": {},
   "outputs": [
    {
     "name": "stdout",
     "output_type": "stream",
     "text": [
      "3.12\n",
      "5.11\n",
      "1.328758819349847\n",
      "1.5993436153622522\n",
      "1.9900000000000002\n",
      "9.570515803944748\n",
      "Ttest_indResult(statistic=9.522542991555387, pvalue=7.605741222562291e-18)\n"
     ]
    }
   ],
   "source": [
    "sample9 = np.random.choice(pop1, 100, replace=True)\n",
    "sample10 = np.random.choice(pop2, 100, replace=True)\n",
    "\n",
    "\n",
    "print(sample9.mean())\n",
    "      \n",
    "print(sample10.mean())\n",
    "      \n",
    "print(sample9.std())\n",
    "      \n",
    "print(sample10.std())\n",
    "      \n",
    "diff= sample10.mean() - sample9.mean()\n",
    "print(diff)\n",
    "\n",
    "size = np.array([len(sample9), len(sample10)])\n",
    "sd = np.array([sample9.std(), sample10.std()])\n",
    "\n",
    "diff_se = (sum(sd**2 / size))**0.5\n",
    "\n",
    "print(diff/diff_se)\n",
    "\n",
    "print(ttest_ind(sample10, sample9, equal_var=False))"
   ]
  },
  {
   "cell_type": "code",
   "execution_count": 27,
   "metadata": {},
   "outputs": [],
   "source": [
    "# 3. Prediction: As Central Limit Theorem says, no matter the shape of the distribution, a large enough sample from that distribution will trend toward a normal distribution. "
   ]
  },
  {
   "cell_type": "code",
   "execution_count": 33,
   "metadata": {},
   "outputs": [
    {
     "data": {
      "image/png": "[encoded data removed]",
      "text/plain": [
       "<matplotlib.figure.Figure at 0x1116c9da0>"
      ]
     },
     "metadata": {},
     "output_type": "display_data"
    }
   ],
   "source": [
    "pop1 = np.random.gamma(4, 1,  10000)\n",
    "pop2 = np.random.binomial(5, 0.75, 10000)\n",
    "\n",
    "plt.hist(pop1, alpha=0.5, label='Population 1')\n",
    "plt.hist(pop2, alpha=0.5, label='Population 2')\n",
    "plt.legend(loc='upper right')\n",
    "plt.show()"
   ]
  },
  {
   "cell_type": "code",
   "execution_count": 35,
   "metadata": {},
   "outputs": [
    {
     "data": {
      "image/png": "[encoded data removed]",
      "text/plain": [
       "<matplotlib.figure.Figure at 0x113eeaa90>"
      ]
     },
     "metadata": {},
     "output_type": "display_data"
    }
   ],
   "source": [
    "sample1 = np.random.choice(pop1, 100, replace=True)\n",
    "sample2 = np.random.choice(pop2, 100, replace=True)\n",
    "\n",
    "plt.hist(sample1, alpha=0.5, label='sample 1')\n",
    "plt.hist(sample2, alpha=0.5, label='sample 2')\n",
    "plt.legend(loc='upper right')\n",
    "plt.show()"
   ]
  },
  {
   "cell_type": "code",
   "execution_count": 36,
   "metadata": {},
   "outputs": [
    {
     "name": "stdout",
     "output_type": "stream",
     "text": [
      "3.7967767983227\n",
      "3.72\n",
      "1.9472199655786018\n",
      "0.9389355675444402\n",
      "-0.07677679832269968\n"
     ]
    }
   ],
   "source": [
    "print(sample1.mean())\n",
    "      \n",
    "print(sample2.mean())\n",
    "      \n",
    "print(sample1.std())\n",
    "      \n",
    "print(sample2.std())\n",
    "      \n",
    "diff= sample2.mean() - sample1.mean()\n",
    "print(diff)"
   ]
  },
  {
   "cell_type": "code",
   "execution_count": null,
   "metadata": {},
   "outputs": [],
   "source": []
  }
 ],
 "metadata": {
  "kernelspec": {
   "display_name": "Python 3",
   "language": "python",
   "name": "python3"
  },
  "language_info": {
   "codemirror_mode": {
    "name": "ipython",
    "version": 3
   },
   "file_extension": ".py",
   "mimetype": "text/x-python",
   "name": "python",
   "nbconvert_exporter": "python",
   "pygments_lexer": "ipython3",
   "version": "3.6.3"
  }
 },
 "nbformat": 4,
 "nbformat_minor": 2
}
