{
 "cells": [
  {
   "cell_type": "markdown",
   "metadata": {},
   "source": [
    "For this analysis and research proposal, I'll be looking into the recently released data on Russian-linked Facebook ads, purchased by the Internet Research Agency (IRA) and identified by Facebook, during the 2016 presidential campaign. These ads and their corresponding data were published by Democrats on the House Permanent Select Committee on Intelligence (HPSCI). The reasoning behind this release according to the minority committee members was, \"As part of that continuing effort to educate the public and seek additional analysis, the Committee Minority is making available all IRA advertisements identified by Facebook\". This is a very interesting data set so let's see what types of questions and potential experiments can be derived from it. "
   ]
  },
  {
   "cell_type": "code",
   "execution_count": 1,
   "metadata": {},
   "outputs": [],
   "source": [
    "# Importing necessary modules for data and visual analysis\n",
    "import pandas as pd\n",
    "import numpy as np\n",
    "import seaborn as sns\n",
    "import matplotlib.pyplot as plt\n",
    "import scipy.stats as stats\n",
    "%matplotlib inline"
   ]
  },
  {
   "cell_type": "code",
   "execution_count": 2,
   "metadata": {},
   "outputs": [],
   "source": [
    "# Reading in the data set\n",
    "fbook = pd.read_csv('FacebookAds.csv')"
   ]
  },
  {
   "cell_type": "code",
   "execution_count": 3,
   "metadata": {},
   "outputs": [
    {
     "data": {
      "text/html": [
       "<div>\n",
       "<style scoped>\n",
       "    .dataframe tbody tr th:only-of-type {\n",
       "        vertical-align: middle;\n",
       "    }\n",
       "\n",
       "    .dataframe tbody tr th {\n",
       "        vertical-align: top;\n",
       "    }\n",
       "\n",
       "    .dataframe thead th {\n",
       "        text-align: right;\n",
       "    }\n",
       "</style>\n",
       "<table border=\"1\" class=\"dataframe\">\n",
       "  <thead>\n",
       "    <tr style=\"text-align: right;\">\n",
       "      <th></th>\n",
       "      <th>AdID</th>\n",
       "      <th>AdText</th>\n",
       "      <th>Impressions</th>\n",
       "      <th>Age</th>\n",
       "      <th>Clicks</th>\n",
       "      <th>CreationDate</th>\n",
       "      <th>EndDate</th>\n",
       "      <th>Location</th>\n",
       "      <th>Behaviors</th>\n",
       "      <th>Placements</th>\n",
       "      <th>...</th>\n",
       "      <th>Language</th>\n",
       "      <th>FriendsOfConnections</th>\n",
       "      <th>ExcludedConnections</th>\n",
       "      <th>Gender</th>\n",
       "      <th>Generation</th>\n",
       "      <th>Politics</th>\n",
       "      <th>AdSpend</th>\n",
       "      <th>AdSpendCurrency</th>\n",
       "      <th>SourceFile</th>\n",
       "      <th>SourceZip</th>\n",
       "    </tr>\n",
       "  </thead>\n",
       "  <tbody>\n",
       "    <tr>\n",
       "      <th>0</th>\n",
       "      <td>374</td>\n",
       "      <td>Join us because we care. Black matters.</td>\n",
       "      <td>137.0</td>\n",
       "      <td>18 - 65+</td>\n",
       "      <td>0.0</td>\n",
       "      <td>06/10/15 02:59:53 AM PDT</td>\n",
       "      <td>NaN</td>\n",
       "      <td>United States: Baltimore (+20 km) Maryland; St...</td>\n",
       "      <td>NaN</td>\n",
       "      <td>News Feed on desktop computers or News Feed on...</td>\n",
       "      <td>...</td>\n",
       "      <td>English (UK) or English (US)</td>\n",
       "      <td>NaN</td>\n",
       "      <td>Exclude people who like Black Matters</td>\n",
       "      <td>NaN</td>\n",
       "      <td>NaN</td>\n",
       "      <td>NaN</td>\n",
       "      <td>44.87</td>\n",
       "      <td>RUB</td>\n",
       "      <td>/2015-06/P(1)0000054.pdf</td>\n",
       "      <td>2015-q2.zip</td>\n",
       "    </tr>\n",
       "    <tr>\n",
       "      <th>1</th>\n",
       "      <td>655</td>\n",
       "      <td>NOT EVERY BOY WANTS TO BE A SOLDIER. A beautif...</td>\n",
       "      <td>452.0</td>\n",
       "      <td>18 - 65+</td>\n",
       "      <td>35.0</td>\n",
       "      <td>06/23/15 07:04:01 AM PDT</td>\n",
       "      <td>06/24/15 07:04:00 AM PDT</td>\n",
       "      <td>Living In: United States</td>\n",
       "      <td>NaN</td>\n",
       "      <td>News Feed on desktop computers or News Feed on...</td>\n",
       "      <td>...</td>\n",
       "      <td>NaN</td>\n",
       "      <td>Friends of people who are connected to LGBT Un...</td>\n",
       "      <td>NaN</td>\n",
       "      <td>NaN</td>\n",
       "      <td>NaN</td>\n",
       "      <td>NaN</td>\n",
       "      <td>184.81</td>\n",
       "      <td>RUB</td>\n",
       "      <td>/2015-06/P(1)0000180.pdf</td>\n",
       "      <td>2015-q2.zip</td>\n",
       "    </tr>\n",
       "    <tr>\n",
       "      <th>2</th>\n",
       "      <td>664</td>\n",
       "      <td>\"People can tolerate two homosexuals they see ...</td>\n",
       "      <td>37.0</td>\n",
       "      <td>18 - 65+</td>\n",
       "      <td>4.0</td>\n",
       "      <td>06/23/15 07:02:40 AM PDT</td>\n",
       "      <td>06/24/15 07:02:39 AM PDT</td>\n",
       "      <td>Living In: United States</td>\n",
       "      <td>NaN</td>\n",
       "      <td>News Feed on desktop computers or News Feed on...</td>\n",
       "      <td>...</td>\n",
       "      <td>NaN</td>\n",
       "      <td>Friends of people who are connected to LGBT Un...</td>\n",
       "      <td>NaN</td>\n",
       "      <td>NaN</td>\n",
       "      <td>NaN</td>\n",
       "      <td>NaN</td>\n",
       "      <td>99.95</td>\n",
       "      <td>RUB</td>\n",
       "      <td>/2015-06/P(1)0000182.pdf</td>\n",
       "      <td>2015-q2.zip</td>\n",
       "    </tr>\n",
       "    <tr>\n",
       "      <th>3</th>\n",
       "      <td>79</td>\n",
       "      <td>?????? ??? ????? ? ??????????</td>\n",
       "      <td>31.0</td>\n",
       "      <td>18 - 65+</td>\n",
       "      <td>0.0</td>\n",
       "      <td>06/09/15 03:50:21 AM PDT</td>\n",
       "      <td>06/11/15 03:48:00 AM PDT</td>\n",
       "      <td>United States</td>\n",
       "      <td>NaN</td>\n",
       "      <td>News Feed on desktop computers, News Feed on m...</td>\n",
       "      <td>...</td>\n",
       "      <td>English (UK) or English (US)</td>\n",
       "      <td>NaN</td>\n",
       "      <td>Exclude people who like L for life</td>\n",
       "      <td>NaN</td>\n",
       "      <td>NaN</td>\n",
       "      <td>NaN</td>\n",
       "      <td>33.59</td>\n",
       "      <td>RUB</td>\n",
       "      <td>/2015-06/P(1)0001844.pdf</td>\n",
       "      <td>2015-q2.zip</td>\n",
       "    </tr>\n",
       "    <tr>\n",
       "      <th>4</th>\n",
       "      <td>325</td>\n",
       "      <td>California... knows how to party California......</td>\n",
       "      <td>326.0</td>\n",
       "      <td>18 - 65+</td>\n",
       "      <td>4.0</td>\n",
       "      <td>06/10/15 07:34:52 AM PDT</td>\n",
       "      <td>06/11/15 07:34:51 AM PDT</td>\n",
       "      <td>United States: Baltimore Maryland; Ferguson, S...</td>\n",
       "      <td>NaN</td>\n",
       "      <td>News Feed on desktop computers or News Feed on...</td>\n",
       "      <td>...</td>\n",
       "      <td>NaN</td>\n",
       "      <td>NaN</td>\n",
       "      <td>NaN</td>\n",
       "      <td>NaN</td>\n",
       "      <td>NaN</td>\n",
       "      <td>NaN</td>\n",
       "      <td>45.94</td>\n",
       "      <td>RUB</td>\n",
       "      <td>/2015-06/P(1)0002111.pdf</td>\n",
       "      <td>2015-q2.zip</td>\n",
       "    </tr>\n",
       "  </tbody>\n",
       "</table>\n",
       "<p>5 rows × 22 columns</p>\n",
       "</div>"
      ],
      "text/plain": [
       "   AdID                                             AdText  Impressions  \\\n",
       "0   374            Join us because we care. Black matters.        137.0   \n",
       "1   655  NOT EVERY BOY WANTS TO BE A SOLDIER. A beautif...        452.0   \n",
       "2   664  \"People can tolerate two homosexuals they see ...         37.0   \n",
       "3    79                      ?????? ??? ????? ? ??????????         31.0   \n",
       "4   325  California... knows how to party California......        326.0   \n",
       "\n",
       "        Age  Clicks              CreationDate                   EndDate  \\\n",
       "0  18 - 65+     0.0  06/10/15 02:59:53 AM PDT                       NaN   \n",
       "1  18 - 65+    35.0  06/23/15 07:04:01 AM PDT  06/24/15 07:04:00 AM PDT   \n",
       "2  18 - 65+     4.0  06/23/15 07:02:40 AM PDT  06/24/15 07:02:39 AM PDT   \n",
       "3  18 - 65+     0.0  06/09/15 03:50:21 AM PDT  06/11/15 03:48:00 AM PDT   \n",
       "4  18 - 65+     4.0  06/10/15 07:34:52 AM PDT  06/11/15 07:34:51 AM PDT   \n",
       "\n",
       "                                            Location Behaviors  \\\n",
       "0  United States: Baltimore (+20 km) Maryland; St...       NaN   \n",
       "1                           Living In: United States       NaN   \n",
       "2                           Living In: United States       NaN   \n",
       "3                                      United States       NaN   \n",
       "4  United States: Baltimore Maryland; Ferguson, S...       NaN   \n",
       "\n",
       "                                          Placements     ...       \\\n",
       "0  News Feed on desktop computers or News Feed on...     ...        \n",
       "1  News Feed on desktop computers or News Feed on...     ...        \n",
       "2  News Feed on desktop computers or News Feed on...     ...        \n",
       "3  News Feed on desktop computers, News Feed on m...     ...        \n",
       "4  News Feed on desktop computers or News Feed on...     ...        \n",
       "\n",
       "                       Language  \\\n",
       "0  English (UK) or English (US)   \n",
       "1                           NaN   \n",
       "2                           NaN   \n",
       "3  English (UK) or English (US)   \n",
       "4                           NaN   \n",
       "\n",
       "                                FriendsOfConnections  \\\n",
       "0                                                NaN   \n",
       "1  Friends of people who are connected to LGBT Un...   \n",
       "2  Friends of people who are connected to LGBT Un...   \n",
       "3                                                NaN   \n",
       "4                                                NaN   \n",
       "\n",
       "                     ExcludedConnections Gender Generation Politics AdSpend  \\\n",
       "0  Exclude people who like Black Matters    NaN        NaN      NaN   44.87   \n",
       "1                                    NaN    NaN        NaN      NaN  184.81   \n",
       "2                                    NaN    NaN        NaN      NaN   99.95   \n",
       "3     Exclude people who like L for life    NaN        NaN      NaN   33.59   \n",
       "4                                    NaN    NaN        NaN      NaN   45.94   \n",
       "\n",
       "  AdSpendCurrency                SourceFile    SourceZip  \n",
       "0             RUB  /2015-06/P(1)0000054.pdf  2015-q2.zip  \n",
       "1             RUB  /2015-06/P(1)0000180.pdf  2015-q2.zip  \n",
       "2             RUB  /2015-06/P(1)0000182.pdf  2015-q2.zip  \n",
       "3             RUB  /2015-06/P(1)0001844.pdf  2015-q2.zip  \n",
       "4             RUB  /2015-06/P(1)0002111.pdf  2015-q2.zip  \n",
       "\n",
       "[5 rows x 22 columns]"
      ]
     },
     "execution_count": 3,
     "metadata": {},
     "output_type": "execute_result"
    }
   ],
   "source": [
    "# Taking a first look at the data, its column info and types of data recorded\n",
    "fbook.head()"
   ]
  },
  {
   "cell_type": "markdown",
   "metadata": {},
   "source": [
    "Taking a look at the dataset, we have a wide range of info for each ad including the ad text, number of views(impressions), targeted age ranges, clicks, creation and end dates, etc. Now that we have a sense of the breadth of the data, consisting of continuous and categorical data, just how much data,  a.k.a. how many ads, do we have to explore? "
   ]
  },
  {
   "cell_type": "code",
   "execution_count": 4,
   "metadata": {},
   "outputs": [
    {
     "data": {
      "text/plain": [
       "(3516, 22)"
      ]
     },
     "execution_count": 4,
     "metadata": {},
     "output_type": "execute_result"
    }
   ],
   "source": [
    "# To get a better sense of the amount of data we're working with, examine the shape of the dataframe\n",
    "fbook.shape"
   ]
  },
  {
   "cell_type": "markdown",
   "metadata": {},
   "source": [
    "It appears we have data for roughly 3,500 ads purchased by the Russia-based IRA, with 22 columns describing specific aspects of each ad. A better understanding of this data will require a bit more exploration which I would like to focus on how broad a target were these ads aimed at, what potential impacts these ads had, how much money was spent on these ads and how might these variables be correlated?"
   ]
  },
  {
   "cell_type": "code",
   "execution_count": 5,
   "metadata": {},
   "outputs": [],
   "source": [
    "# For cleaner viz, set visualization to default Seaborn parameters\n",
    "sns.set()"
   ]
  },
  {
   "cell_type": "code",
   "execution_count": 6,
   "metadata": {},
   "outputs": [
    {
     "data": {
      "image/png": "[encoded data removed]",
      "text/plain": [
       "<matplotlib.figure.Figure at 0x105bbbbe0>"
      ]
     },
     "metadata": {},
     "output_type": "display_data"
    }
   ],
   "source": [
    "# Examining the age ranges targeted by the Russian-linked ads\n",
    "fbook.Age.value_counts().head(10).plot(kind='bar', figsize=(15,5))\n",
    "plt.xlabel('Targeted Age Range')\n",
    "plt.ylabel('Number of Ads')\n",
    "plt.show()"
   ]
  },
  {
   "cell_type": "markdown",
   "metadata": {},
   "source": [
    "Taking a look at how the ads were targeted by age, it appears almost all of the ads were aimed at the widest range of possible ages. So the age of Facebook users is not what drove the targeting of the ads. Since we have a column for gender, let's see if there was a gendered aspect to how these ads were placed. "
   ]
  },
  {
   "cell_type": "code",
   "execution_count": 7,
   "metadata": {
    "scrolled": true
   },
   "outputs": [
    {
     "data": {
      "image/png": "[encoded data removed]",
      "text/plain": [
       "<matplotlib.figure.Figure at 0x114093ac8>"
      ]
     },
     "metadata": {},
     "output_type": "display_data"
    }
   ],
   "source": [
    "plt.subplot(1,2,1)\n",
    "fbook['Gender'].value_counts().plot(kind='bar')\n",
    "plt.title(\"Number of Ads Targeted by Gender\")\n",
    "\n",
    "plt.subplot(1,2,2)\n",
    "sns.barplot(x='Gender', y='Clicks', data=fbook)\n",
    "plt.title('Average # of Clicks by Gender')\n",
    "plt.tight_layout()\n",
    "\n",
    "plt.show()"
   ]
  },
  {
   "cell_type": "markdown",
   "metadata": {},
   "source": [
    "From these plots, we can see that a relatively small number of ads were targeted by gender, yet more than double the ads were targeted at males with over 100 while only 40 were targeted at females. However, when looking at the average number of clicks generated by each group, female-targeted ads have more than double the average clicks that male targeted ads received. This split could help inform our potential research based on this data. When designing my experiment, I will definitely take this disparity by gender into account.   "
   ]
  },
  {
   "cell_type": "code",
   "execution_count": 8,
   "metadata": {
    "scrolled": true
   },
   "outputs": [
    {
     "data": {
      "text/html": [
       "<div>\n",
       "<style scoped>\n",
       "    .dataframe tbody tr th:only-of-type {\n",
       "        vertical-align: middle;\n",
       "    }\n",
       "\n",
       "    .dataframe tbody tr th {\n",
       "        vertical-align: top;\n",
       "    }\n",
       "\n",
       "    .dataframe thead tr th {\n",
       "        text-align: left;\n",
       "    }\n",
       "\n",
       "    .dataframe thead tr:last-of-type th {\n",
       "        text-align: right;\n",
       "    }\n",
       "</style>\n",
       "<table border=\"1\" class=\"dataframe\">\n",
       "  <thead>\n",
       "    <tr>\n",
       "      <th></th>\n",
       "      <th colspan=\"8\" halign=\"left\">Clicks</th>\n",
       "    </tr>\n",
       "    <tr>\n",
       "      <th></th>\n",
       "      <th>count</th>\n",
       "      <th>mean</th>\n",
       "      <th>std</th>\n",
       "      <th>min</th>\n",
       "      <th>25%</th>\n",
       "      <th>50%</th>\n",
       "      <th>75%</th>\n",
       "      <th>max</th>\n",
       "    </tr>\n",
       "    <tr>\n",
       "      <th>Gender</th>\n",
       "      <th></th>\n",
       "      <th></th>\n",
       "      <th></th>\n",
       "      <th></th>\n",
       "      <th></th>\n",
       "      <th></th>\n",
       "      <th></th>\n",
       "      <th></th>\n",
       "    </tr>\n",
       "  </thead>\n",
       "  <tbody>\n",
       "    <tr>\n",
       "      <th>Female</th>\n",
       "      <td>40.0</td>\n",
       "      <td>264.150000</td>\n",
       "      <td>828.877200</td>\n",
       "      <td>0.0</td>\n",
       "      <td>0.0</td>\n",
       "      <td>0.0</td>\n",
       "      <td>1.25</td>\n",
       "      <td>3501.0</td>\n",
       "    </tr>\n",
       "    <tr>\n",
       "      <th>Male</th>\n",
       "      <td>108.0</td>\n",
       "      <td>122.518519</td>\n",
       "      <td>483.315951</td>\n",
       "      <td>0.0</td>\n",
       "      <td>0.0</td>\n",
       "      <td>0.0</td>\n",
       "      <td>0.00</td>\n",
       "      <td>3160.0</td>\n",
       "    </tr>\n",
       "  </tbody>\n",
       "</table>\n",
       "</div>"
      ],
      "text/plain": [
       "       Clicks                                                     \n",
       "        count        mean         std  min  25%  50%   75%     max\n",
       "Gender                                                            \n",
       "Female   40.0  264.150000  828.877200  0.0  0.0  0.0  1.25  3501.0\n",
       "Male    108.0  122.518519  483.315951  0.0  0.0  0.0  0.00  3160.0"
      ]
     },
     "execution_count": 8,
     "metadata": {},
     "output_type": "execute_result"
    }
   ],
   "source": [
    "fbook[['Clicks', 'Gender']].dropna().groupby('Gender').describe()"
   ]
  },
  {
   "cell_type": "markdown",
   "metadata": {},
   "source": [
    "My next area of inquiry is where were these ads placed? Were they focused on one particular platform or more broadly targeted?"
   ]
  },
  {
   "cell_type": "code",
   "execution_count": 9,
   "metadata": {},
   "outputs": [
    {
     "data": {
      "image/png": "[encoded data removed]",
      "text/plain": [
       "<matplotlib.figure.Figure at 0x11427e518>"
      ]
     },
     "metadata": {},
     "output_type": "display_data"
    }
   ],
   "source": [
    "sns.set()\n",
    "fbook.Placements.value_counts().head(10).plot(kind='bar')\n",
    "plt.show()"
   ]
  },
  {
   "cell_type": "markdown",
   "metadata": {},
   "source": [
    "While ads appear to have been place across several different aspects of the Facebook platform, the vast majority were placed in the News Feed on both desktop and mobile devices, and not particularly limited to one or the other. Nor were they targeted at specific pages that users were affiliated with. \n",
    "\n",
    "So we know these ads were targeted at the widest potential audience, but how much money was spent and did that make an correspond to an increased number of clicks? "
   ]
  },
  {
   "cell_type": "code",
   "execution_count": 20,
   "metadata": {},
   "outputs": [
    {
     "data": {
      "text/plain": [
       "count      2470.000000\n",
       "mean       1986.613239\n",
       "std        9866.765272\n",
       "min           0.050000\n",
       "25%         133.162500\n",
       "50%         300.000000\n",
       "75%         680.177500\n",
       "max      331675.750000\n",
       "Name: AdSpend, dtype: float64"
      ]
     },
     "execution_count": 20,
     "metadata": {},
     "output_type": "execute_result"
    }
   ],
   "source": [
    "fbook.AdSpend.dropna().describe()"
   ]
  },
  {
   "cell_type": "code",
   "execution_count": 21,
   "metadata": {},
   "outputs": [
    {
     "name": "stdout",
     "output_type": "stream",
     "text": [
      "Total Ad Spend:  4906934.700000001\n"
     ]
    }
   ],
   "source": [
    "print('Total Ad Spend: ', fbook.AdSpend.sum())"
   ]
  },
  {
   "cell_type": "markdown",
   "metadata": {},
   "source": [
    "The data shows ad spend varied quite significantly with the least being spent a mere \\$0.05 and max of \\$331,676, averaging out to around \\$300 per ad. The total spent on the ads amounted to \\$4,906,935. So how did this money perform in terms of clicks?"
   ]
  },
  {
   "cell_type": "code",
   "execution_count": 42,
   "metadata": {},
   "outputs": [
    {
     "data": {
      "text/html": [
       "<div>\n",
       "<style scoped>\n",
       "    .dataframe tbody tr th:only-of-type {\n",
       "        vertical-align: middle;\n",
       "    }\n",
       "\n",
       "    .dataframe tbody tr th {\n",
       "        vertical-align: top;\n",
       "    }\n",
       "\n",
       "    .dataframe thead th {\n",
       "        text-align: right;\n",
       "    }\n",
       "</style>\n",
       "<table border=\"1\" class=\"dataframe\">\n",
       "  <thead>\n",
       "    <tr style=\"text-align: right;\">\n",
       "      <th></th>\n",
       "      <th>Clicks</th>\n",
       "      <th>AdSpend</th>\n",
       "    </tr>\n",
       "  </thead>\n",
       "  <tbody>\n",
       "    <tr>\n",
       "      <th>1814</th>\n",
       "      <td>4303896.0</td>\n",
       "      <td>2.69</td>\n",
       "    </tr>\n",
       "    <tr>\n",
       "      <th>2055</th>\n",
       "      <td>73063.0</td>\n",
       "      <td>110587.67</td>\n",
       "    </tr>\n",
       "    <tr>\n",
       "      <th>74</th>\n",
       "      <td>72043.0</td>\n",
       "      <td>331675.75</td>\n",
       "    </tr>\n",
       "    <tr>\n",
       "      <th>2414</th>\n",
       "      <td>56405.0</td>\n",
       "      <td>59571.41</td>\n",
       "    </tr>\n",
       "    <tr>\n",
       "      <th>3142</th>\n",
       "      <td>49197.0</td>\n",
       "      <td>1500.00</td>\n",
       "    </tr>\n",
       "    <tr>\n",
       "      <th>2058</th>\n",
       "      <td>40134.0</td>\n",
       "      <td>78357.33</td>\n",
       "    </tr>\n",
       "    <tr>\n",
       "      <th>2436</th>\n",
       "      <td>33444.0</td>\n",
       "      <td>58193.59</td>\n",
       "    </tr>\n",
       "    <tr>\n",
       "      <th>3249</th>\n",
       "      <td>28137.0</td>\n",
       "      <td>89081.11</td>\n",
       "    </tr>\n",
       "    <tr>\n",
       "      <th>3332</th>\n",
       "      <td>26964.0</td>\n",
       "      <td>200.00</td>\n",
       "    </tr>\n",
       "    <tr>\n",
       "      <th>2482</th>\n",
       "      <td>26179.0</td>\n",
       "      <td>523.00</td>\n",
       "    </tr>\n",
       "    <tr>\n",
       "      <th>2084</th>\n",
       "      <td>24955.0</td>\n",
       "      <td>48305.55</td>\n",
       "    </tr>\n",
       "    <tr>\n",
       "      <th>497</th>\n",
       "      <td>24838.0</td>\n",
       "      <td>58408.48</td>\n",
       "    </tr>\n",
       "    <tr>\n",
       "      <th>3143</th>\n",
       "      <td>23054.0</td>\n",
       "      <td>300.00</td>\n",
       "    </tr>\n",
       "    <tr>\n",
       "      <th>3139</th>\n",
       "      <td>23021.0</td>\n",
       "      <td>491.23</td>\n",
       "    </tr>\n",
       "    <tr>\n",
       "      <th>2421</th>\n",
       "      <td>21197.0</td>\n",
       "      <td>35594.58</td>\n",
       "    </tr>\n",
       "  </tbody>\n",
       "</table>\n",
       "</div>"
      ],
      "text/plain": [
       "         Clicks    AdSpend\n",
       "1814  4303896.0       2.69\n",
       "2055    73063.0  110587.67\n",
       "74      72043.0  331675.75\n",
       "2414    56405.0   59571.41\n",
       "3142    49197.0    1500.00\n",
       "2058    40134.0   78357.33\n",
       "2436    33444.0   58193.59\n",
       "3249    28137.0   89081.11\n",
       "3332    26964.0     200.00\n",
       "2482    26179.0     523.00\n",
       "2084    24955.0   48305.55\n",
       "497     24838.0   58408.48\n",
       "3143    23054.0     300.00\n",
       "3139    23021.0     491.23\n",
       "2421    21197.0   35594.58"
      ]
     },
     "execution_count": 42,
     "metadata": {},
     "output_type": "execute_result"
    }
   ],
   "source": [
    "# Extract the top performing ads in terms of clicks and their corresponding Ad Spend\n",
    "fbook[['Clicks', 'AdSpend']].dropna().sort_values(by='Clicks', ascending=False).head(15)"
   ]
  },
  {
   "cell_type": "markdown",
   "metadata": {},
   "source": [
    "Examining the data in terms of clicks by ad spend, we can see that larger ad spends doesn't necessarily mean a higher click count. The highest performance in clicks only had an ad spend of \\$2.69 while the next highest performance by clicks had an ad spend of roughly \\$110,587. Let's look at this graphically to get a sense of performance by ad spend and examine the correlation between these 2 variables. "
   ]
  },
  {
   "cell_type": "code",
   "execution_count": 30,
   "metadata": {},
   "outputs": [
    {
     "data": {
      "image/png": "[encoded data removed]",
      "text/plain": [
       "<matplotlib.figure.Figure at 0x114f6fdd8>"
      ]
     },
     "metadata": {},
     "output_type": "display_data"
    }
   ],
   "source": [
    "# Plot the relationship between Ad Spend and Clicks\n",
    "plt.plot('AdSpend', 'Clicks', data=fbook, marker='.', linestyle='none')\n",
    "plt.xlabel('Expenditure per Ad')\n",
    "plt.ylabel('Clicks')\n",
    "plt.show()"
   ]
  },
  {
   "cell_type": "markdown",
   "metadata": {},
   "source": [
    "As for any correlation between the 2 variables, I'd like to see what sort of t-value and p-value exist for these variables. If our null hypothesis is that the two variables are uncorrelated, we can expect a p-value greater than 0.05, elsewise we can begin to explore the relationship between these variables more."
   ]
  },
  {
   "cell_type": "code",
   "execution_count": 17,
   "metadata": {},
   "outputs": [
    {
     "data": {
      "text/plain": [
       "Ttest_indResult(statistic=0.09721293593602563, pvalue=0.9225605839241373)"
      ]
     },
     "execution_count": 17,
     "metadata": {},
     "output_type": "execute_result"
    }
   ],
   "source": [
    "stats.ttest_ind(fbook['Clicks'].dropna(), fbook['AdSpend'].dropna())"
   ]
  },
  {
   "cell_type": "markdown",
   "metadata": {},
   "source": [
    "When viewing these variables graphically, we see that no matter the expenditure on the ad it has no major impact on clicks. So what could account for a higher click rate other than ad spend? The next logical place to look is the ad text itself. "
   ]
  },
  {
   "cell_type": "code",
   "execution_count": 41,
   "metadata": {},
   "outputs": [
    {
     "data": {
      "text/html": [
       "<div>\n",
       "<style scoped>\n",
       "    .dataframe tbody tr th:only-of-type {\n",
       "        vertical-align: middle;\n",
       "    }\n",
       "\n",
       "    .dataframe tbody tr th {\n",
       "        vertical-align: top;\n",
       "    }\n",
       "\n",
       "    .dataframe thead th {\n",
       "        text-align: right;\n",
       "    }\n",
       "</style>\n",
       "<table border=\"1\" class=\"dataframe\">\n",
       "  <thead>\n",
       "    <tr style=\"text-align: right;\">\n",
       "      <th></th>\n",
       "      <th>AdID</th>\n",
       "      <th>AdText</th>\n",
       "      <th>Clicks</th>\n",
       "    </tr>\n",
       "  </thead>\n",
       "  <tbody>\n",
       "    <tr>\n",
       "      <th>1814</th>\n",
       "      <td>2292</td>\n",
       "      <td>Your help is needed. This case is a classic ex...</td>\n",
       "      <td>4303896.0</td>\n",
       "    </tr>\n",
       "    <tr>\n",
       "      <th>2055</th>\n",
       "      <td>2751</td>\n",
       "      <td>Community of people who support our brave Poli...</td>\n",
       "      <td>73063.0</td>\n",
       "    </tr>\n",
       "    <tr>\n",
       "      <th>74</th>\n",
       "      <td>450</td>\n",
       "      <td>United We Stand! Welcome every patriot we can ...</td>\n",
       "      <td>72043.0</td>\n",
       "    </tr>\n",
       "    <tr>\n",
       "      <th>2414</th>\n",
       "      <td>2647</td>\n",
       "      <td>Brown Power is a platform designed to educate,...</td>\n",
       "      <td>56405.0</td>\n",
       "    </tr>\n",
       "    <tr>\n",
       "      <th>3142</th>\n",
       "      <td>1033</td>\n",
       "      <td>This video may bring tears to your eyes. Make ...</td>\n",
       "      <td>49197.0</td>\n",
       "    </tr>\n",
       "    <tr>\n",
       "      <th>2058</th>\n",
       "      <td>2774</td>\n",
       "      <td>Heritage, not hate. The South will rise again!...</td>\n",
       "      <td>40134.0</td>\n",
       "    </tr>\n",
       "    <tr>\n",
       "      <th>2436</th>\n",
       "      <td>3145</td>\n",
       "      <td>Staying Woke, building-up our communities, upl...</td>\n",
       "      <td>33444.0</td>\n",
       "    </tr>\n",
       "    <tr>\n",
       "      <th>3249</th>\n",
       "      <td>2885</td>\n",
       "      <td>Together we are a shining beacon of faithfulne...</td>\n",
       "      <td>28137.0</td>\n",
       "    </tr>\n",
       "    <tr>\n",
       "      <th>3332</th>\n",
       "      <td>1131</td>\n",
       "      <td>repost</td>\n",
       "      <td>26964.0</td>\n",
       "    </tr>\n",
       "    <tr>\n",
       "      <th>2482</th>\n",
       "      <td>955</td>\n",
       "      <td>This hairdresser from Atlanta is amazing. She ...</td>\n",
       "      <td>26179.0</td>\n",
       "    </tr>\n",
       "  </tbody>\n",
       "</table>\n",
       "</div>"
      ],
      "text/plain": [
       "      AdID                                             AdText     Clicks\n",
       "1814  2292  Your help is needed. This case is a classic ex...  4303896.0\n",
       "2055  2751  Community of people who support our brave Poli...    73063.0\n",
       "74     450  United We Stand! Welcome every patriot we can ...    72043.0\n",
       "2414  2647  Brown Power is a platform designed to educate,...    56405.0\n",
       "3142  1033  This video may bring tears to your eyes. Make ...    49197.0\n",
       "2058  2774  Heritage, not hate. The South will rise again!...    40134.0\n",
       "2436  3145  Staying Woke, building-up our communities, upl...    33444.0\n",
       "3249  2885  Together we are a shining beacon of faithfulne...    28137.0\n",
       "3332  1131                                             repost    26964.0\n",
       "2482   955  This hairdresser from Atlanta is amazing. She ...    26179.0"
      ]
     },
     "execution_count": 41,
     "metadata": {},
     "output_type": "execute_result"
    }
   ],
   "source": [
    "fbook[['AdID', 'AdText','Clicks']].sort_values(by='Clicks', ascending=False).head(10)"
   ]
  },
  {
   "cell_type": "code",
   "execution_count": 40,
   "metadata": {},
   "outputs": [
    {
     "data": {
      "text/plain": [
       "'Your help is needed. This case is a classic example of racial profiling in the system which has cost innocent Jerome Smith 31 years of his life already and can cost even more. Jerome must be brought home. No one pays attention to him, no one fights for his life. Let us help this man achieve justice! Please sign the petition. https://www.facebook. com/Save-I nnocent-Man-Jerome-Skee-Smith-From-Life- I m prison  ent- 109065791 4303896/?sk=a pp_1 903225443331 96&ref=s'"
      ]
     },
     "execution_count": 40,
     "metadata": {},
     "output_type": "execute_result"
    }
   ],
   "source": [
    "# Looking at the full text of the highest performing ad\n",
    "fbook.iloc[1814, 1]"
   ]
  },
  {
   "cell_type": "markdown",
   "metadata": {},
   "source": [
    "After looking closer at the highest performing ad text, we get a sense of what kind of ad text would be the most impactful on Facebook users. This will help formulate the rest of our research proposal and what kinds of wording to use if we wanted to create a potentially high performing ad. "
   ]
  },
  {
   "cell_type": "markdown",
   "metadata": {},
   "source": [
    "   ### Research Proposal"
   ]
  },
  {
   "cell_type": "markdown",
   "metadata": {},
   "source": [
    "Based on the prior analysis, the question I want to focus on is: What ads used by Russian trolls are most effective? Assuming that more clicks is an indicator of the effectiveness of the ad text, this seems a good measure for determining how large an influence the ad is having. With what we can see from this data set, the most impactful ad, by nearly 2 orders of magnitude, talks about justice for an innocent black man who has been racially profiled. I'm interested in this question because it seems useful to understand what sorts of tactics Russian trolls have taken and are likely to take in the future. This dataset gives us a reasonable set of cues to look for when trying to identify and try to remove or at least make users aware of their existence to protect US elections from outside influence. \n",
    "\n",
    "However, if I were attempting to replicate the most effective Russian troll ad, I would use the same ad text from this ad for my control, and my test would be to change the gender of the innocent person in the ad text. This is based on my hypothesis that a black female in the content of the ad will illicit more clicks than that of a black man, amongst targeted female Facebook users. The click rate would be my variable of interest, while also monitoring the number of impressions (or views) the ad recieved.  \n",
    "\n",
    "Implementing this test will involve using the same amount of money on the ad spend, same placements, and same run time to ensure any impact from the new ad text is measurable. Given these baselines, rollout between the 2 ad versions will occur at the same time, targeted at equally sized populations. The ads will be randomly assigned to avoid any selection bias and measurements will be taken at the end of the 2 day period of the experiment. \n",
    "\n",
    "If the performance of the new ad text exceeds that of the original ad by more than 25%, measured in clicks, that will become the only ad implemented. Otherwise, the original ad text will continue to be used. "
   ]
  },
  {
   "cell_type": "code",
   "execution_count": null,
   "metadata": {},
   "outputs": [],
   "source": []
  }
 ],
 "metadata": {
  "kernelspec": {
   "display_name": "Python 3",
   "language": "python",
   "name": "python3"
  },
  "language_info": {
   "codemirror_mode": {
    "name": "ipython",
    "version": 3
   },
   "file_extension": ".py",
   "mimetype": "text/x-python",
   "name": "python",
   "nbconvert_exporter": "python",
   "pygments_lexer": "ipython3",
   "version": "3.6.3"
  }
 },
 "nbformat": 4,
 "nbformat_minor": 2
}
