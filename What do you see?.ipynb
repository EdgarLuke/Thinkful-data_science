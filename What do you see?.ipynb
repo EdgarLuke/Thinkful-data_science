{
 "cells": [
  {
   "cell_type": "code",
   "execution_count": 413,
   "metadata": {},
   "outputs": [],
   "source": [
    "import pandas as pd\n",
    "import numpy as np\n",
    "import matplotlib.pyplot as plt\n",
    "%matplotlib inline"
   ]
  },
  {
   "cell_type": "code",
   "execution_count": 414,
   "metadata": {},
   "outputs": [],
   "source": [
    "df = pd.read_csv('UN_wind_energy.csv')\n",
    "for year in range(2006,2016):\n",
    "    df= df.drop('%s Footnotes' %year,axis=1)\n",
    "    "
   ]
  },
  {
   "cell_type": "code",
   "execution_count": 415,
   "metadata": {},
   "outputs": [
    {
     "data": {
      "text/html": [
       "<div>\n",
       "<style scoped>\n",
       "    .dataframe tbody tr th:only-of-type {\n",
       "        vertical-align: middle;\n",
       "    }\n",
       "\n",
       "    .dataframe tbody tr th {\n",
       "        vertical-align: top;\n",
       "    }\n",
       "\n",
       "    .dataframe thead th {\n",
       "        text-align: right;\n",
       "    }\n",
       "</style>\n",
       "<table border=\"1\" class=\"dataframe\">\n",
       "  <thead>\n",
       "    <tr style=\"text-align: right;\">\n",
       "      <th></th>\n",
       "      <th>Country or Area</th>\n",
       "      <th>Commodity - Transaction</th>\n",
       "      <th>Unit</th>\n",
       "      <th>2006</th>\n",
       "      <th>2007</th>\n",
       "      <th>2008</th>\n",
       "      <th>2009</th>\n",
       "      <th>2010</th>\n",
       "      <th>2011</th>\n",
       "      <th>2012</th>\n",
       "      <th>2013</th>\n",
       "      <th>2014</th>\n",
       "      <th>2015</th>\n",
       "    </tr>\n",
       "  </thead>\n",
       "  <tbody>\n",
       "    <tr>\n",
       "      <th>0</th>\n",
       "      <td>China</td>\n",
       "      <td>Electricity - total wind production</td>\n",
       "      <td>Kilowatt-hours, million</td>\n",
       "      <td>NaN</td>\n",
       "      <td>NaN</td>\n",
       "      <td>NaN</td>\n",
       "      <td>NaN</td>\n",
       "      <td>44622.0</td>\n",
       "      <td>70331.0</td>\n",
       "      <td>95978.0</td>\n",
       "      <td>141197.0</td>\n",
       "      <td>156078.0</td>\n",
       "      <td>185766.0</td>\n",
       "    </tr>\n",
       "    <tr>\n",
       "      <th>1</th>\n",
       "      <td>Germany</td>\n",
       "      <td>Electricity - total wind production</td>\n",
       "      <td>Kilowatt-hours, million</td>\n",
       "      <td>30710.0</td>\n",
       "      <td>39713.0</td>\n",
       "      <td>40574.0</td>\n",
       "      <td>38647.0</td>\n",
       "      <td>37793.0</td>\n",
       "      <td>48883.0</td>\n",
       "      <td>50670.0</td>\n",
       "      <td>51708.0</td>\n",
       "      <td>57357.0</td>\n",
       "      <td>79206.0</td>\n",
       "    </tr>\n",
       "    <tr>\n",
       "      <th>2</th>\n",
       "      <td>United States</td>\n",
       "      <td>Electricity - total wind production</td>\n",
       "      <td>Kilowatt-hours, million</td>\n",
       "      <td>26676.0</td>\n",
       "      <td>34603.0</td>\n",
       "      <td>55696.0</td>\n",
       "      <td>74226.0</td>\n",
       "      <td>95148.0</td>\n",
       "      <td>120854.0</td>\n",
       "      <td>141922.0</td>\n",
       "      <td>169713.0</td>\n",
       "      <td>183892.0</td>\n",
       "      <td>192992.0</td>\n",
       "    </tr>\n",
       "    <tr>\n",
       "      <th>3</th>\n",
       "      <td>fnSeqID</td>\n",
       "      <td>Footnote</td>\n",
       "      <td>NaN</td>\n",
       "      <td>NaN</td>\n",
       "      <td>NaN</td>\n",
       "      <td>NaN</td>\n",
       "      <td>NaN</td>\n",
       "      <td>NaN</td>\n",
       "      <td>NaN</td>\n",
       "      <td>NaN</td>\n",
       "      <td>NaN</td>\n",
       "      <td>NaN</td>\n",
       "      <td>NaN</td>\n",
       "    </tr>\n",
       "    <tr>\n",
       "      <th>4</th>\n",
       "      <td>1</td>\n",
       "      <td>Estimate</td>\n",
       "      <td>NaN</td>\n",
       "      <td>NaN</td>\n",
       "      <td>NaN</td>\n",
       "      <td>NaN</td>\n",
       "      <td>NaN</td>\n",
       "      <td>NaN</td>\n",
       "      <td>NaN</td>\n",
       "      <td>NaN</td>\n",
       "      <td>NaN</td>\n",
       "      <td>NaN</td>\n",
       "      <td>NaN</td>\n",
       "    </tr>\n",
       "  </tbody>\n",
       "</table>\n",
       "</div>"
      ],
      "text/plain": [
       "  Country or Area              Commodity - Transaction  \\\n",
       "0           China  Electricity - total wind production   \n",
       "1         Germany  Electricity - total wind production   \n",
       "2   United States  Electricity - total wind production   \n",
       "3         fnSeqID                             Footnote   \n",
       "4               1                             Estimate   \n",
       "\n",
       "                      Unit     2006     2007     2008     2009     2010  \\\n",
       "0  Kilowatt-hours, million      NaN      NaN      NaN      NaN  44622.0   \n",
       "1  Kilowatt-hours, million  30710.0  39713.0  40574.0  38647.0  37793.0   \n",
       "2  Kilowatt-hours, million  26676.0  34603.0  55696.0  74226.0  95148.0   \n",
       "3                      NaN      NaN      NaN      NaN      NaN      NaN   \n",
       "4                      NaN      NaN      NaN      NaN      NaN      NaN   \n",
       "\n",
       "       2011      2012      2013      2014      2015  \n",
       "0   70331.0   95978.0  141197.0  156078.0  185766.0  \n",
       "1   48883.0   50670.0   51708.0   57357.0   79206.0  \n",
       "2  120854.0  141922.0  169713.0  183892.0  192992.0  \n",
       "3       NaN       NaN       NaN       NaN       NaN  \n",
       "4       NaN       NaN       NaN       NaN       NaN  "
      ]
     },
     "execution_count": 415,
     "metadata": {},
     "output_type": "execute_result"
    }
   ],
   "source": [
    "df.head()"
   ]
  },
  {
   "cell_type": "code",
   "execution_count": 416,
   "metadata": {},
   "outputs": [],
   "source": [
    "df=df.drop(3, axis=0)\n",
    "df=df.drop(4, axis=0)"
   ]
  },
  {
   "cell_type": "code",
   "execution_count": 417,
   "metadata": {},
   "outputs": [],
   "source": [
    "df= df.drop('Unit', axis=1)\n",
    "df= df.drop('Commodity - Transaction', axis=1)"
   ]
  },
  {
   "cell_type": "code",
   "execution_count": 418,
   "metadata": {},
   "outputs": [],
   "source": [
    "df = df.set_index('Country or Area')"
   ]
  },
  {
   "cell_type": "code",
   "execution_count": 419,
   "metadata": {
    "scrolled": false
   },
   "outputs": [],
   "source": [
    "df = df.fillna(0)"
   ]
  },
  {
   "cell_type": "code",
   "execution_count": 420,
   "metadata": {},
   "outputs": [
    {
     "data": {
      "text/html": [
       "<div>\n",
       "<style scoped>\n",
       "    .dataframe tbody tr th:only-of-type {\n",
       "        vertical-align: middle;\n",
       "    }\n",
       "\n",
       "    .dataframe tbody tr th {\n",
       "        vertical-align: top;\n",
       "    }\n",
       "\n",
       "    .dataframe thead th {\n",
       "        text-align: right;\n",
       "    }\n",
       "</style>\n",
       "<table border=\"1\" class=\"dataframe\">\n",
       "  <thead>\n",
       "    <tr style=\"text-align: right;\">\n",
       "      <th></th>\n",
       "      <th>2006</th>\n",
       "      <th>2007</th>\n",
       "      <th>2008</th>\n",
       "      <th>2009</th>\n",
       "      <th>2010</th>\n",
       "      <th>2011</th>\n",
       "      <th>2012</th>\n",
       "      <th>2013</th>\n",
       "      <th>2014</th>\n",
       "      <th>2015</th>\n",
       "    </tr>\n",
       "    <tr>\n",
       "      <th>Country or Area</th>\n",
       "      <th></th>\n",
       "      <th></th>\n",
       "      <th></th>\n",
       "      <th></th>\n",
       "      <th></th>\n",
       "      <th></th>\n",
       "      <th></th>\n",
       "      <th></th>\n",
       "      <th></th>\n",
       "      <th></th>\n",
       "    </tr>\n",
       "  </thead>\n",
       "  <tbody>\n",
       "    <tr>\n",
       "      <th>China</th>\n",
       "      <td>0.0</td>\n",
       "      <td>0.0</td>\n",
       "      <td>0.0</td>\n",
       "      <td>0.0</td>\n",
       "      <td>44622.0</td>\n",
       "      <td>70331.0</td>\n",
       "      <td>95978.0</td>\n",
       "      <td>141197.0</td>\n",
       "      <td>156078.0</td>\n",
       "      <td>185766.0</td>\n",
       "    </tr>\n",
       "    <tr>\n",
       "      <th>Germany</th>\n",
       "      <td>30710.0</td>\n",
       "      <td>39713.0</td>\n",
       "      <td>40574.0</td>\n",
       "      <td>38647.0</td>\n",
       "      <td>37793.0</td>\n",
       "      <td>48883.0</td>\n",
       "      <td>50670.0</td>\n",
       "      <td>51708.0</td>\n",
       "      <td>57357.0</td>\n",
       "      <td>79206.0</td>\n",
       "    </tr>\n",
       "    <tr>\n",
       "      <th>United States</th>\n",
       "      <td>26676.0</td>\n",
       "      <td>34603.0</td>\n",
       "      <td>55696.0</td>\n",
       "      <td>74226.0</td>\n",
       "      <td>95148.0</td>\n",
       "      <td>120854.0</td>\n",
       "      <td>141922.0</td>\n",
       "      <td>169713.0</td>\n",
       "      <td>183892.0</td>\n",
       "      <td>192992.0</td>\n",
       "    </tr>\n",
       "  </tbody>\n",
       "</table>\n",
       "</div>"
      ],
      "text/plain": [
       "                    2006     2007     2008     2009     2010      2011  \\\n",
       "Country or Area                                                          \n",
       "China                0.0      0.0      0.0      0.0  44622.0   70331.0   \n",
       "Germany          30710.0  39713.0  40574.0  38647.0  37793.0   48883.0   \n",
       "United States    26676.0  34603.0  55696.0  74226.0  95148.0  120854.0   \n",
       "\n",
       "                     2012      2013      2014      2015  \n",
       "Country or Area                                          \n",
       "China             95978.0  141197.0  156078.0  185766.0  \n",
       "Germany           50670.0   51708.0   57357.0   79206.0  \n",
       "United States    141922.0  169713.0  183892.0  192992.0  "
      ]
     },
     "execution_count": 420,
     "metadata": {},
     "output_type": "execute_result"
    }
   ],
   "source": [
    "df.head()"
   ]
  },
  {
   "cell_type": "code",
   "execution_count": 421,
   "metadata": {},
   "outputs": [
    {
     "data": {
      "image/png": "[encoded data removed]",
      "text/plain": [
       "<matplotlib.figure.Figure at 0x1161b5390>"
      ]
     },
     "metadata": {},
     "output_type": "display_data"
    }
   ],
   "source": [
    "plt.plot(df.loc['China',:], color='red', label='China')\n",
    "plt.plot(df.loc['Germany'], color='green', label=\"Germany\")\n",
    "plt.plot(df.loc['United States'], color='blue', label=\"US\")\n",
    "plt.title('Wind Power production')\n",
    "plt.ylabel('Output in millions of kWh')\n",
    "plt.show()"
   ]
  },
  {
   "cell_type": "code",
   "execution_count": null,
   "metadata": {},
   "outputs": [],
   "source": [
    "# Looking at these line graphs we can see that for the US, China, and Germany over a 9 year period, all 3 countries experienced growth in their wind power production.\n",
    "# However, looking at Germany we notice very flat growth up until 2014-2015 where there appears to be a sharp increase in output. \n",
    "# As for the US and China, while for the first 3 years of data it appears China has no wind power output, the slope of the line indicates rapid growth in production almost catching up to US output by 2015 and trending towards overtaking the US in total output. "
   ]
  },
  {
   "cell_type": "code",
   "execution_count": 458,
   "metadata": {
    "scrolled": true
   },
   "outputs": [
    {
     "data": {
      "image/png": "[encoded data removed]",
      "text/plain": [
       "<matplotlib.figure.Figure at 0x1163864e0>"
      ]
     },
     "metadata": {},
     "output_type": "display_data"
    }
   ],
   "source": [
    "plt.hist(df.loc['Germany'], normed=True, bins=5, color='green', alpha=0.5)\n",
    "plt.hist(df.loc['United States'], normed=True, bins=5, color='blue', alpha=0.5)\n",
    "plt.show()"
   ]
  },
  {
   "cell_type": "code",
   "execution_count": null,
   "metadata": {},
   "outputs": [],
   "source": [
    "# For the above histogram, we can observe that the shape of data from Germany is skewed to the right, indicating smaller output, where as the US data is more symmetrical showing a more steady rate of output.\n",
    "# Looking at the spread of the histograms, we note that the range for Germany is much smaller while the range for the US is much larger "
   ]
  },
  {
   "cell_type": "code",
   "execution_count": 448,
   "metadata": {},
   "outputs": [
    {
     "data": {
      "image/png": "[encoded data removed]",
      "text/plain": [
       "<matplotlib.figure.Figure at 0x114807c88>"
      ]
     },
     "metadata": {},
     "output_type": "display_data"
    }
   ],
   "source": [
    "plt.figure(figsize=(10,10))\n",
    "plt.subplot(1,2,1)\n",
    "plt.boxplot(df.iloc[2])\n",
    "plt.ylabel('Values')\n",
    "plt.title('US Production Figures')\n",
    "\n",
    "plt.subplot(1,2,2)\n",
    "plt.boxplot(df.iloc[1])\n",
    "plt.ylabel('Values')\n",
    "plt.title('German Production Figures')\n",
    "\n",
    "plt.tight_layout()\n",
    "plt.show()"
   ]
  },
  {
   "cell_type": "code",
   "execution_count": null,
   "metadata": {},
   "outputs": [],
   "source": [
    "# Comparing the above two boxplots, we can see that the US values appear to all fall within 1.5x the IQR, indicating no seeming outliers in the data. \n",
    "# As for the German figures, this boxplot represents a comparatively small range for German production when compared to the US, and indicating one outlier value that would require further investigation.\n",
    "\n",
    "\n",
    "\n",
    "\n"
   ]
  }
 ],
 "metadata": {
  "kernelspec": {
   "display_name": "Python 3",
   "language": "python",
   "name": "python3"
  },
  "language_info": {
   "codemirror_mode": {
    "name": "ipython",
    "version": 3
   },
   "file_extension": ".py",
   "mimetype": "text/x-python",
   "name": "python",
   "nbconvert_exporter": "python",
   "pygments_lexer": "ipython3",
   "version": "3.6.3"
  }
 },
 "nbformat": 4,
 "nbformat_minor": 2
}
