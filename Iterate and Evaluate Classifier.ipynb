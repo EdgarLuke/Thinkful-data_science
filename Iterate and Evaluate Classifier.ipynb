{
 "cells": [
  {
   "cell_type": "code",
   "execution_count": 2,
   "metadata": {},
   "outputs": [],
   "source": [
    "import numpy as np\n",
    "import pandas as pd\n",
    "import scipy\n",
    "import sklearn\n",
    "import matplotlib.pyplot as plt\n",
    "import seaborn as sns\n",
    "%matplotlib inline\n",
    "pd.options.display.float_format = '{:.2f}'.format"
   ]
  },
  {
   "cell_type": "code",
   "execution_count": 3,
   "metadata": {},
   "outputs": [
    {
     "data": {
      "text/html": [
       "<div>\n",
       "<style scoped>\n",
       "    .dataframe tbody tr th:only-of-type {\n",
       "        vertical-align: middle;\n",
       "    }\n",
       "\n",
       "    .dataframe tbody tr th {\n",
       "        vertical-align: top;\n",
       "    }\n",
       "\n",
       "    .dataframe thead th {\n",
       "        text-align: right;\n",
       "    }\n",
       "</style>\n",
       "<table border=\"1\" class=\"dataframe\">\n",
       "  <thead>\n",
       "    <tr style=\"text-align: right;\">\n",
       "      <th></th>\n",
       "      <th>0</th>\n",
       "      <th>1</th>\n",
       "    </tr>\n",
       "  </thead>\n",
       "  <tbody>\n",
       "    <tr>\n",
       "      <th>0</th>\n",
       "      <td>A very, very, very slow-moving, aimless movie ...</td>\n",
       "      <td>0</td>\n",
       "    </tr>\n",
       "    <tr>\n",
       "      <th>1</th>\n",
       "      <td>Not sure who was more lost - the flat characte...</td>\n",
       "      <td>0</td>\n",
       "    </tr>\n",
       "    <tr>\n",
       "      <th>2</th>\n",
       "      <td>Attempting artiness with black &amp; white and cle...</td>\n",
       "      <td>0</td>\n",
       "    </tr>\n",
       "    <tr>\n",
       "      <th>3</th>\n",
       "      <td>Very little music or anything to speak of.</td>\n",
       "      <td>0</td>\n",
       "    </tr>\n",
       "    <tr>\n",
       "      <th>4</th>\n",
       "      <td>The best scene in the movie was when Gerardo i...</td>\n",
       "      <td>1</td>\n",
       "    </tr>\n",
       "  </tbody>\n",
       "</table>\n",
       "</div>"
      ],
      "text/plain": [
       "                                                   0  1\n",
       "0  A very, very, very slow-moving, aimless movie ...  0\n",
       "1  Not sure who was more lost - the flat characte...  0\n",
       "2  Attempting artiness with black & white and cle...  0\n",
       "3       Very little music or anything to speak of.    0\n",
       "4  The best scene in the movie was when Gerardo i...  1"
      ]
     },
     "execution_count": 3,
     "metadata": {},
     "output_type": "execute_result"
    }
   ],
   "source": [
    "imdb = pd.read_csv('imdb_labelled.txt', delimiter= '\\t', header=None)\n",
    "imdb.head()"
   ]
  },
  {
   "cell_type": "code",
   "execution_count": 4,
   "metadata": {},
   "outputs": [],
   "source": [
    "imdb.columns = ['review', 'pos_neg']"
   ]
  },
  {
   "cell_type": "code",
   "execution_count": 5,
   "metadata": {},
   "outputs": [
    {
     "name": "stdout",
     "output_type": "stream",
     "text": [
      "<class 'pandas.core.frame.DataFrame'>\n",
      "RangeIndex: 748 entries, 0 to 747\n",
      "Data columns (total 2 columns):\n",
      "review     748 non-null object\n",
      "pos_neg    748 non-null int64\n",
      "dtypes: int64(1), object(1)\n",
      "memory usage: 11.8+ KB\n"
     ]
    }
   ],
   "source": [
    "imdb.info()"
   ]
  },
  {
   "cell_type": "markdown",
   "metadata": {},
   "source": [
    "### Iteration #1"
   ]
  },
  {
   "cell_type": "markdown",
   "metadata": {},
   "source": [
    "For the first iteration of our model, I will compile a list of generally positive words that should help our model to properly classify between positive and negative movie reviews.  "
   ]
  },
  {
   "cell_type": "code",
   "execution_count": 6,
   "metadata": {},
   "outputs": [],
   "source": [
    "keywords = ['best', 'love', 'good', 'great', 'beautiful', 'enjoy', 'perfect', 'wonderful', 'nice', 'cool']\n",
    "\n",
    "for key in keywords:\n",
    "    imdb[str(key)] = imdb.review.str.contains(' '+str(key)+ ' ', case=False)"
   ]
  },
  {
   "cell_type": "code",
   "execution_count": 7,
   "metadata": {},
   "outputs": [
    {
     "name": "stdout",
     "output_type": "stream",
     "text": [
      "           pos_neg  best  love  good  great  beautiful  enjoy  perfect  \\\n",
      "pos_neg       1.00  0.05  0.06  0.08   0.11       0.01   0.01     0.08   \n",
      "best          0.05  1.00  0.04  0.09   0.12       0.21   0.21    -0.01   \n",
      "love          0.06  0.04  1.00  0.14   0.12       0.11   0.22    -0.01   \n",
      "good          0.08  0.09  0.14  1.00   0.11       0.13   0.13    -0.02   \n",
      "great         0.11  0.12  0.12  0.11   1.00       0.16   0.24    -0.02   \n",
      "beautiful     0.01  0.21  0.11  0.13   0.16       1.00   0.40    -0.01   \n",
      "enjoy         0.01  0.21  0.22  0.13   0.24       0.40   1.00    -0.01   \n",
      "perfect       0.08 -0.01 -0.01 -0.02  -0.02      -0.01  -0.01     1.00   \n",
      "wonderful     0.12  0.11 -0.02  0.01   0.07       0.10   0.10    -0.01   \n",
      "nice          0.08 -0.01 -0.01 -0.02  -0.02      -0.01  -0.01    -0.01   \n",
      "cool          0.05 -0.01  0.11  0.13   0.07      -0.01  -0.01    -0.01   \n",
      "\n",
      "           wonderful  nice  cool  \n",
      "pos_neg         0.12  0.08  0.05  \n",
      "best            0.11 -0.01 -0.01  \n",
      "love           -0.02 -0.01  0.11  \n",
      "good            0.01 -0.02  0.13  \n",
      "great           0.07 -0.02  0.07  \n",
      "beautiful       0.10 -0.01 -0.01  \n",
      "enjoy           0.10 -0.01 -0.01  \n",
      "perfect        -0.01 -0.01 -0.01  \n",
      "wonderful       1.00 -0.01  0.10  \n",
      "nice           -0.01  1.00 -0.01  \n",
      "cool            0.10 -0.01  1.00  \n"
     ]
    },
    {
     "data": {
      "image/png": "[encoded data removed]",
      "text/plain": [
       "<matplotlib.figure.Figure at 0x105ab9438>"
      ]
     },
     "metadata": {},
     "output_type": "display_data"
    }
   ],
   "source": [
    "corrmat = imdb.corr()\n",
    "\n",
    "print(corrmat)\n",
    "\n",
    "sns.heatmap(corrmat, vmax=.8)\n",
    "plt.show()"
   ]
  },
  {
   "cell_type": "markdown",
   "metadata": {},
   "source": [
    "We note higher than normal correlation between 'beautiful' feature and 'enjoy' feature, though still fairly low at 0.396."
   ]
  },
  {
   "cell_type": "code",
   "execution_count": 8,
   "metadata": {},
   "outputs": [],
   "source": [
    "# Assign our feature data and target variable\n",
    "data = imdb[keywords]\n",
    "target = imdb['pos_neg']"
   ]
  },
  {
   "cell_type": "code",
   "execution_count": 9,
   "metadata": {},
   "outputs": [
    {
     "name": "stdout",
     "output_type": "stream",
     "text": [
      "Number of mislabeled points out of a total 748 points : 316\n",
      "Accuracy of model: 57.75401069518716\n"
     ]
    }
   ],
   "source": [
    "# Our data is binary / boolean, so we're importing the Bernoulli classifier.\n",
    "from sklearn.naive_bayes import BernoulliNB\n",
    "\n",
    "# Instantiate our model and store it in a new variable.\n",
    "bnb = BernoulliNB()\n",
    "\n",
    "# Fit our model to the data.\n",
    "bnb.fit(data, target)\n",
    "\n",
    "# Classify, storing the result in a new variable.\n",
    "y_pred = bnb.predict(data)\n",
    "\n",
    "# Display our results.\n",
    "print(\"Number of mislabeled points out of a total {} points : {}\".format(\n",
    "    data.shape[0],\n",
    "    (target != y_pred).sum()\n",
    "))\n",
    "\n",
    "print(\"Accuracy of model: {}\".format((target == y_pred).sum()/data.shape[0]*100))"
   ]
  },
  {
   "cell_type": "code",
   "execution_count": 10,
   "metadata": {},
   "outputs": [
    {
     "name": "stdout",
     "output_type": "stream",
     "text": [
      "[[341  21]\n",
      " [295  91]]\n"
     ]
    }
   ],
   "source": [
    "from sklearn.metrics import confusion_matrix\n",
    "conmat = confusion_matrix(target, y_pred)\n",
    "print(conmat)"
   ]
  },
  {
   "cell_type": "code",
   "execution_count": 11,
   "metadata": {},
   "outputs": [
    {
     "name": "stdout",
     "output_type": "stream",
     "text": [
      "Sensitivity:  23.57512953367876\n",
      "Specificity:  94.1988950276243\n"
     ]
    }
   ],
   "source": [
    "def sensitivity(confusion_matrix):\n",
    "    return confusion_matrix[1,1] / (confusion_matrix[1,1] + confusion_matrix[1,0]) * 100\n",
    "\n",
    "def specificity(confusion_matrix):\n",
    "    return confusion_matrix[0,0] / (confusion_matrix[0,1] + confusion_matrix[0,0]) * 100\n",
    "\n",
    "print('Sensitivity: ', sensitivity(conmat))\n",
    "print('Specificity: ', specificity(conmat))"
   ]
  },
  {
   "cell_type": "markdown",
   "metadata": {},
   "source": [
    "From this we see that the majority of the error is coming from failure to predict the positive reviews, with 92/386 of our errors failing to identify positive reviews. While our ability to identify negative reviews is at 341/362. So, we want to get better at predicting the positive reviews. "
   ]
  },
  {
   "cell_type": "code",
   "execution_count": 12,
   "metadata": {},
   "outputs": [
    {
     "name": "stdout",
     "output_type": "stream",
     "text": [
      "With 30% Holdout: 0.5644444444444444\n",
      "Testing on Sample: 0.5775401069518716\n"
     ]
    }
   ],
   "source": [
    "# Test your model with different holdout groups.\n",
    "\n",
    "from sklearn.model_selection import train_test_split\n",
    "# Use train_test_split to create the necessary training and test groups\n",
    "X_train, X_test, y_train, y_test = train_test_split(data, target, test_size=0.3, random_state=20)\n",
    "print('With 30% Holdout: ' + str(bnb.fit(X_train, y_train).score(X_test, y_test)))\n",
    "print('Testing on Sample: ' + str(bnb.fit(data, target).score(data, target)))"
   ]
  },
  {
   "cell_type": "code",
   "execution_count": 13,
   "metadata": {},
   "outputs": [
    {
     "data": {
      "text/plain": [
       "array([0.52631579, 0.52631579, 0.61333333, 0.54666667, 0.6       ,\n",
       "       0.56      , 0.67567568, 0.58108108, 0.59459459, 0.5       ])"
      ]
     },
     "execution_count": 13,
     "metadata": {},
     "output_type": "execute_result"
    }
   ],
   "source": [
    "from sklearn.model_selection import cross_val_score\n",
    "cross_val_score(bnb, data, target, cv=10)"
   ]
  },
  {
   "cell_type": "markdown",
   "metadata": {},
   "source": [
    "After receiving roughly equal performance between the whole sample and the 20% holdout, I'll attempt to add a few features to improve the performance of the model. We also note that we have a sensitivity of 23.83% and a specificity of 94.2%, and fairly consistent scores upon cross validation though we do note potential overfitting on a couple of our folds."
   ]
  },
  {
   "cell_type": "markdown",
   "metadata": {},
   "source": [
    "### Iteration #2"
   ]
  },
  {
   "cell_type": "markdown",
   "metadata": {},
   "source": [
    "The strategy for this iteration will be to take a look at the existing positive reviews and pull out potential high value words/features from them. "
   ]
  },
  {
   "cell_type": "code",
   "execution_count": 14,
   "metadata": {},
   "outputs": [
    {
     "name": "stdout",
     "output_type": "stream",
     "text": [
      "4      The best scene in the movie was when Gerardo i...\n",
      "7      Saw the movie today and thought it was a good ...\n",
      "9      Loved the casting of Jimmy Buffet as the scien...\n",
      "10                  And those baby owls were adorable.  \n",
      "11     The movie showed a lot of Florida at it's best...\n",
      "12     The Songs Were The Best And The Muppets Were S...\n",
      "13                                     It Was So Cool.  \n",
      "14     This is a very \"right on case\" movie that deli...\n",
      "16     This review is long overdue, since I consider ...\n",
      "17     I'll put this gem up against any movie in term...\n",
      "18     It's practically perfect in all of them  a tr...\n",
      "20     This if the first movie I've given a 10 to in ...\n",
      "21     If there was ever a movie that needed word-of-...\n",
      "22     Overall, the film is interesting and thought-p...\n",
      "23     Plus, it was well-paced and suited its relativ...\n",
      "24                               Give this one a look.  \n",
      "25                                      I gave it a 10  \n",
      "26     The Wind and the Lion is well written and supe...\n",
      "27                               It is a true classic.  \n",
      "28     It actually turned out to be pretty decent as ...\n",
      "29                      Definitely worth checking out.  \n",
      "34     MANNA FROM HEAVEN is a terrific film that is b...\n",
      "35     The scenes are often funny and occasionally to...\n",
      "36     The cast of veteran actors are more than just ...\n",
      "37     Ursula Burton's portrayal of the nun is both t...\n",
      "38     If you are looking for a movie with a terrific...\n",
      "39             I don't think you will be disappointed.  \n",
      "45     The only thing really worth watching was the s...\n",
      "48     But in terms of the writing it's very fresh an...\n",
      "49     The acting helps the writing along very well (...\n",
      "                             ...                        \n",
      "708    I was particularly pleased with the acting abi...\n",
      "709    Both actors truly understand and become their ...\n",
      "710    Their on-screen chemistry, critical to the ent...\n",
      "711      The film's dialogue is natural, real to life.  \n",
      "712    The writer, Gorman Bechard, undoubtedly did hi...\n",
      "713    The incredible soundtrack truly captures the e...\n",
      "714    Each track commands sentiment, actually contri...\n",
      "715    Definitely worth seeing",
      " it's the sort of thou...\n",
      "716    Hayao Miyazaki's latest and eighth film for St...\n",
      "717    At a time when it seems that film animation ha...\n",
      "718    Enough can not be said of the remarkable anima...\n",
      "719    The art style has the appearance of crayon/pen...\n",
      "723    Still, it makes up for all of this with a supe...\n",
      "724    Just consider the excellent story, solid actin...\n",
      "726    Then I watched it again two Sundays ago (March...\n",
      "727         It is a very well acted and done TV Movie.  \n",
      "728    Judith Light is one of my favorite actresses a...\n",
      "729                  I keep watching it over and over.  \n",
      "730                   It's a sad movie, but very good.  \n",
      "731    If you have not seen this movie, I definitely ...\n",
      "732             She is as lovely as usual, this cutie!  \n",
      "733    Still it's quite interesting and entertaining ...\n",
      "734                      ;) Recommend with confidence!  \n",
      "735    This movie is well-balanced with comedy and dr...\n",
      "736    It was a riot to see Hugo Weaving play a sex-o...\n",
      "737    :) Anyway, the plot flowed smoothly and the ma...\n",
      "738    The opening sequence of this gem is a classic,...\n",
      "739               Fans of the genre will be in heaven.  \n",
      "740                  Lange had become a great actress.  \n",
      "741                  It looked like a wonderful story.  \n",
      "Name: review, Length: 386, dtype: object\n"
     ]
    }
   ],
   "source": [
    "print(imdb[imdb['pos_neg'] == 1]['review'])"
   ]
  },
  {
   "cell_type": "code",
   "execution_count": 15,
   "metadata": {},
   "outputs": [],
   "source": [
    "keywords2 = ['best', 'loved', 'good', 'great', 'beautiful', 'love', 'lovely', 'enjoyed', 'perfect', 'wonderful', 'nice', 'cool', 'treat', 'worth', 'classic', '10', 'terrific', 'superb', 'well', 'interesting', 'entertaining']\n",
    "\n",
    "for key in keywords2:\n",
    "    imdb[str(key)] = imdb.review.str.contains(' '+str(key)+ ' ', case=False)"
   ]
  },
  {
   "cell_type": "code",
   "execution_count": 16,
   "metadata": {},
   "outputs": [
    {
     "name": "stdout",
     "output_type": "stream",
     "text": [
      "              pos_neg  best  love  good  great  beautiful  enjoy  perfect  \\\n",
      "pos_neg          1.00  0.05  0.06  0.08   0.11       0.01   0.01     0.08   \n",
      "best             0.05  1.00  0.04  0.09   0.12       0.21   0.21    -0.01   \n",
      "love             0.06  0.04  1.00  0.14   0.12       0.11   0.22    -0.01   \n",
      "good             0.08  0.09  0.14  1.00   0.11       0.13   0.13    -0.02   \n",
      "great            0.11  0.12  0.12  0.11   1.00       0.16   0.24    -0.02   \n",
      "beautiful        0.01  0.21  0.11  0.13   0.16       1.00   0.40    -0.01   \n",
      "enjoy            0.01  0.21  0.22  0.13   0.24       0.40   1.00    -0.01   \n",
      "perfect          0.08 -0.01 -0.01 -0.02  -0.02      -0.01  -0.01     1.00   \n",
      "wonderful        0.12  0.11 -0.02  0.01   0.07       0.10   0.10    -0.01   \n",
      "nice             0.08 -0.01 -0.01 -0.02  -0.02      -0.01  -0.01    -0.01   \n",
      "cool             0.05 -0.01  0.11  0.13   0.07      -0.01  -0.01    -0.01   \n",
      "loved            0.07  0.07  0.08  0.04   0.12       0.15   0.15    -0.01   \n",
      "lovely           0.02  0.14  0.14  0.08   0.10       0.25   0.25    -0.01   \n",
      "enjoyed          0.05  0.16  0.08  0.09   0.12       0.31   0.31    -0.01   \n",
      "treat            0.04 -0.01 -0.01 -0.01  -0.01      -0.00  -0.00    -0.00   \n",
      "worth            0.05  0.05  0.13  0.06   0.03       0.11   0.11    -0.01   \n",
      "classic          0.04 -0.01 -0.01 -0.01  -0.01      -0.00  -0.00    -0.00   \n",
      "10               0.05  0.07  0.08  0.09   0.05       0.15   0.15    -0.01   \n",
      "terrific         0.07 -0.01 -0.01  0.07   0.08      -0.01  -0.01    -0.01   \n",
      "superb           0.06 -0.01 -0.01 -0.01  -0.01      -0.01  -0.01    -0.01   \n",
      "well             0.06  0.11 -0.02  0.05   0.07       0.11   0.11     0.22   \n",
      "interesting      0.10  0.07  0.08  0.09   0.05      -0.01  -0.01    -0.01   \n",
      "entertaining     0.06 -0.01 -0.01 -0.01  -0.01      -0.01  -0.01    -0.01   \n",
      "\n",
      "              wonderful  nice      ...       enjoyed  treat  worth  classic  \\\n",
      "pos_neg            0.12  0.08      ...          0.05   0.04   0.05     0.04   \n",
      "best               0.11 -0.01      ...          0.16  -0.01   0.05    -0.01   \n",
      "love              -0.02 -0.01      ...          0.08  -0.01   0.13    -0.01   \n",
      "good               0.01 -0.02      ...          0.09  -0.01   0.06    -0.01   \n",
      "great              0.07 -0.02      ...          0.12  -0.01   0.03    -0.01   \n",
      "beautiful          0.10 -0.01      ...          0.31  -0.00   0.11    -0.00   \n",
      "enjoy              0.10 -0.01      ...          0.31  -0.00   0.11    -0.00   \n",
      "perfect           -0.01 -0.01      ...         -0.01  -0.00  -0.01    -0.00   \n",
      "wonderful          1.00 -0.01      ...          0.07  -0.01  -0.02    -0.01   \n",
      "nice              -0.01  1.00      ...         -0.01  -0.00  -0.01    -0.00   \n",
      "cool               0.10 -0.01      ...         -0.01  -0.00  -0.01    -0.00   \n",
      "loved              0.07 -0.01      ...          0.12  -0.00  -0.01    -0.00   \n",
      "lovely            -0.01 -0.01      ...          0.20  -0.00   0.15    -0.00   \n",
      "enjoyed            0.07 -0.01      ...          1.00  -0.00   0.09    -0.00   \n",
      "treat             -0.01 -0.00      ...         -0.00   1.00  -0.00    -0.00   \n",
      "worth             -0.02 -0.01      ...          0.09  -0.00   1.00     0.28   \n",
      "classic           -0.01 -0.00      ...         -0.00  -0.00   0.28     1.00   \n",
      "10                 0.07 -0.01      ...          0.12  -0.00  -0.01    -0.00   \n",
      "terrific          -0.01 -0.01      ...         -0.01  -0.00  -0.01    -0.00   \n",
      "superb            -0.01 -0.01      ...         -0.01  -0.00  -0.01    -0.00   \n",
      "well               0.04 -0.01      ...          0.08  -0.01   0.05     0.26   \n",
      "interesting       -0.02 -0.01      ...         -0.01  -0.00  -0.01    -0.00   \n",
      "entertaining      -0.01 -0.01      ...         -0.01  -0.00  -0.01    -0.00   \n",
      "\n",
      "                10  terrific  superb  well  interesting  entertaining  \n",
      "pos_neg       0.05      0.07    0.06  0.06         0.10          0.06  \n",
      "best          0.07     -0.01   -0.01  0.11         0.07         -0.01  \n",
      "love          0.08     -0.01   -0.01 -0.02         0.08         -0.01  \n",
      "good          0.09      0.07   -0.01  0.05         0.09         -0.01  \n",
      "great         0.05      0.08   -0.01  0.07         0.05         -0.01  \n",
      "beautiful     0.15     -0.01   -0.01  0.11        -0.01         -0.01  \n",
      "enjoy         0.15     -0.01   -0.01  0.11        -0.01         -0.01  \n",
      "perfect      -0.01     -0.01   -0.01  0.22        -0.01         -0.01  \n",
      "wonderful     0.07     -0.01   -0.01  0.04        -0.02         -0.01  \n",
      "nice         -0.01     -0.01   -0.01 -0.01        -0.01         -0.01  \n",
      "cool          0.15     -0.01   -0.01 -0.01        -0.01         -0.01  \n",
      "loved         0.12     -0.01   -0.01  0.08        -0.01         -0.01  \n",
      "lovely       -0.01     -0.00   -0.00 -0.01        -0.01         -0.00  \n",
      "enjoyed       0.12     -0.01   -0.01  0.08        -0.01         -0.01  \n",
      "treat        -0.00     -0.00   -0.00 -0.01        -0.00         -0.00  \n",
      "worth        -0.01     -0.01   -0.01  0.05        -0.01         -0.01  \n",
      "classic      -0.00     -0.00   -0.00  0.26        -0.00         -0.00  \n",
      "10            1.00     -0.01   -0.01  0.08        -0.01         -0.01  \n",
      "terrific     -0.01      1.00   -0.00 -0.01        -0.01         -0.00  \n",
      "superb       -0.01     -0.00    1.00 -0.01        -0.01         -0.00  \n",
      "well          0.08     -0.01   -0.01  1.00        -0.01         -0.01  \n",
      "interesting  -0.01     -0.01   -0.01 -0.01         1.00          0.20  \n",
      "entertaining -0.01     -0.00   -0.00 -0.01         0.20          1.00  \n",
      "\n",
      "[23 rows x 23 columns]\n"
     ]
    },
    {
     "data": {
      "image/png": "[encoded data removed]",
      "text/plain": [
       "<matplotlib.figure.Figure at 0x1143a27f0>"
      ]
     },
     "metadata": {},
     "output_type": "display_data"
    }
   ],
   "source": [
    "# Checking correlation amongst our features\n",
    "corrmat2 = imdb.corr()\n",
    "\n",
    "print(corrmat2)\n",
    "\n",
    "plt.figure(figsize=(10, 10))\n",
    "sns.heatmap(corrmat2, vmax=.8)\n",
    "plt.show()"
   ]
  },
  {
   "cell_type": "code",
   "execution_count": 17,
   "metadata": {},
   "outputs": [],
   "source": [
    "# Assigning our features and target variable\n",
    "data2 = imdb[keywords2]\n",
    "target = imdb['pos_neg']"
   ]
  },
  {
   "cell_type": "code",
   "execution_count": 18,
   "metadata": {},
   "outputs": [
    {
     "name": "stdout",
     "output_type": "stream",
     "text": [
      "Number of mislabeled points out of a total 748 points : 280\n",
      "Accuracy of model: 62.56684491978609\n"
     ]
    }
   ],
   "source": [
    "# Display our results.\n",
    "# Our data is binary / boolean, so we're importing the Bernoulli classifier.\n",
    "from sklearn.naive_bayes import BernoulliNB\n",
    "\n",
    "# Instantiate our model and store it in a new variable.\n",
    "bnb = BernoulliNB()\n",
    "\n",
    "# Fit our model to the data.\n",
    "bnb.fit(data2, target)\n",
    "\n",
    "# Classify, storing the result in a new variable.\n",
    "y_pred2 = bnb.predict(data2)\n",
    "\n",
    "# Display our results.\n",
    "print(\"Number of mislabeled points out of a total {} points : {}\".format(\n",
    "    data2.shape[0],\n",
    "    (target != y_pred2).sum()\n",
    "))\n",
    "\n",
    "print(\"Accuracy of model: {}\".format((target == y_pred2).sum()/data2.shape[0]*100))"
   ]
  },
  {
   "cell_type": "code",
   "execution_count": 19,
   "metadata": {},
   "outputs": [
    {
     "name": "stdout",
     "output_type": "stream",
     "text": [
      "[[335  27]\n",
      " [253 133]]\n"
     ]
    }
   ],
   "source": [
    "# Get Confusion Matrix\n",
    "conmat2 = confusion_matrix(target, y_pred2)\n",
    "print(conmat2)"
   ]
  },
  {
   "cell_type": "code",
   "execution_count": 20,
   "metadata": {},
   "outputs": [
    {
     "name": "stdout",
     "output_type": "stream",
     "text": [
      "Sensitivity:  34.4559585492228\n",
      "Specificity:  92.5414364640884\n"
     ]
    }
   ],
   "source": [
    "# Print our Sensitivity/Specificity scores\n",
    "print('Sensitivity: ', sensitivity(conmat2))\n",
    "print('Specificity: ', specificity(conmat2))"
   ]
  },
  {
   "cell_type": "code",
   "execution_count": 21,
   "metadata": {},
   "outputs": [
    {
     "name": "stdout",
     "output_type": "stream",
     "text": [
      "With 30% Holdout: 0.6133333333333333\n",
      "Testing on Sample: 0.6256684491978609\n"
     ]
    }
   ],
   "source": [
    "from sklearn.model_selection import train_test_split\n",
    "# Use train_test_split to create the necessary training and test groups\n",
    "X_train, X_test, y_train, y_test = train_test_split(data2, target, test_size=0.3, random_state=20)\n",
    "print('With 30% Holdout: ' + str(bnb.fit(X_train, y_train).score(X_test, y_test)))\n",
    "print('Testing on Sample: ' + str(bnb.fit(data2, target).score(data2, target)))"
   ]
  },
  {
   "cell_type": "code",
   "execution_count": 22,
   "metadata": {},
   "outputs": [
    {
     "data": {
      "text/plain": [
       "array([0.63157895, 0.60526316, 0.65333333, 0.6       , 0.68      ,\n",
       "       0.58666667, 0.7027027 , 0.59459459, 0.59459459, 0.58108108])"
      ]
     },
     "execution_count": 22,
     "metadata": {},
     "output_type": "execute_result"
    }
   ],
   "source": [
    "from sklearn.model_selection import cross_val_score\n",
    "cross_val_score(bnb, data2, target, cv=10)"
   ]
  },
  {
   "cell_type": "markdown",
   "metadata": {},
   "source": [
    "We do see better performance with the addition of more features so we will keep these additional features, with an accuracy jump from 57.8% to 62.6% as well as improving the sensitivity of our model from 23.6% to 34.5% which was our goal. "
   ]
  },
  {
   "cell_type": "markdown",
   "metadata": {},
   "source": [
    "#### Iteration #3\n",
    "\n",
    "For this iteration, let's again add some features but instead of creating single word features, I'll try to add some phrases that again might improve our models ability to predict positive reviews."
   ]
  },
  {
   "cell_type": "code",
   "execution_count": 23,
   "metadata": {},
   "outputs": [
    {
     "data": {
      "text/plain": [
       "0      A very, very, very slow-moving, aimless movie ...\n",
       "1      Not sure who was more lost - the flat characte...\n",
       "2      Attempting artiness with black & white and cle...\n",
       "3           Very little music or anything to speak of.  \n",
       "4      The best scene in the movie was when Gerardo i...\n",
       "5      The rest of the movie lacks art, charm, meanin...\n",
       "6                                    Wasted two hours.  \n",
       "7      Saw the movie today and thought it was a good ...\n",
       "8                                   A bit predictable.  \n",
       "9      Loved the casting of Jimmy Buffet as the scien...\n",
       "10                  And those baby owls were adorable.  \n",
       "11     The movie showed a lot of Florida at it's best...\n",
       "12     The Songs Were The Best And The Muppets Were S...\n",
       "13                                     It Was So Cool.  \n",
       "14     This is a very \"right on case\" movie that deli...\n",
       "15     It had some average acting from the main perso...\n",
       "16     This review is long overdue, since I consider ...\n",
       "17     I'll put this gem up against any movie in term...\n",
       "18     It's practically perfect in all of them  a tr...\n",
       "19      The structure of this film is easily the most...\n",
       "20     This if the first movie I've given a 10 to in ...\n",
       "21     If there was ever a movie that needed word-of-...\n",
       "22     Overall, the film is interesting and thought-p...\n",
       "23     Plus, it was well-paced and suited its relativ...\n",
       "24                               Give this one a look.  \n",
       "25                                      I gave it a 10  \n",
       "26     The Wind and the Lion is well written and supe...\n",
       "27                               It is a true classic.  \n",
       "28     It actually turned out to be pretty decent as ...\n",
       "29                      Definitely worth checking out.  \n",
       "                             ...                        \n",
       "718    Enough can not be said of the remarkable anima...\n",
       "719    The art style has the appearance of crayon/pen...\n",
       "720    If you act in such a film, you should be glad ...\n",
       "721    This one wants to surf on the small wave of sp...\n",
       "722    If you haven't choked in your own vomit by the...\n",
       "723    Still, it makes up for all of this with a supe...\n",
       "724    Just consider the excellent story, solid actin...\n",
       "725    Instead, we got a bore fest about a whiny, spo...\n",
       "726    Then I watched it again two Sundays ago (March...\n",
       "727         It is a very well acted and done TV Movie.  \n",
       "728    Judith Light is one of my favorite actresses a...\n",
       "729                  I keep watching it over and over.  \n",
       "730                   It's a sad movie, but very good.  \n",
       "731    If you have not seen this movie, I definitely ...\n",
       "732             She is as lovely as usual, this cutie!  \n",
       "733    Still it's quite interesting and entertaining ...\n",
       "734                      ;) Recommend with confidence!  \n",
       "735    This movie is well-balanced with comedy and dr...\n",
       "736    It was a riot to see Hugo Weaving play a sex-o...\n",
       "737    :) Anyway, the plot flowed smoothly and the ma...\n",
       "738    The opening sequence of this gem is a classic,...\n",
       "739               Fans of the genre will be in heaven.  \n",
       "740                  Lange had become a great actress.  \n",
       "741                  It looked like a wonderful story.  \n",
       "742              I never walked out of a movie faster.  \n",
       "743    I just got bored watching Jessice Lange take h...\n",
       "744    Unfortunately, any virtue in this film's produ...\n",
       "745                     In a word, it is embarrassing.  \n",
       "746                                 Exceptionally bad!  \n",
       "747    All in all its an insult to one's intelligence...\n",
       "Name: review, Length: 748, dtype: object"
      ]
     },
     "execution_count": 23,
     "metadata": {},
     "output_type": "execute_result"
    }
   ],
   "source": [
    "imdb.iloc[:,0]"
   ]
  },
  {
   "cell_type": "code",
   "execution_count": 24,
   "metadata": {},
   "outputs": [],
   "source": [
    "# Updating our keywords\n",
    "keywords3 = ['best', 'loved', 'good', 'great', 'beautiful', 'love', 'lovely', 'enjoyed', 'perfect', 'wonderful', 'nice', 'cool', 'treat', 'worth', 'classic', '10', 'terrific', 'superb', 'well', 'interesting', 'entertaining', 'turned out to be', 'enough can not be said', 'stellar performance', 'if you have not seen this movie', 'makes up for', 'well-balanced']\n",
    "\n",
    "# Adding the features to the dataframe\n",
    "for key in keywords3:\n",
    "    imdb[str(key)] = imdb.review.str.contains(' '+str(key)+ ' ', case=False)\n",
    "    "
   ]
  },
  {
   "cell_type": "code",
   "execution_count": 25,
   "metadata": {},
   "outputs": [
    {
     "name": "stdout",
     "output_type": "stream",
     "text": [
      "                                 pos_neg  best  love  good  great  beautiful  \\\n",
      "pos_neg                             1.00  0.05  0.06  0.08   0.11       0.01   \n",
      "best                                0.05  1.00  0.04  0.09   0.12       0.21   \n",
      "love                                0.06  0.04  1.00  0.14   0.12       0.11   \n",
      "good                                0.08  0.09  0.14  1.00   0.11       0.13   \n",
      "great                               0.11  0.12  0.12  0.11   1.00       0.16   \n",
      "beautiful                           0.01  0.21  0.11  0.13   0.16       1.00   \n",
      "enjoy                               0.01  0.21  0.22  0.13   0.24       0.40   \n",
      "perfect                             0.08 -0.01 -0.01 -0.02  -0.02      -0.01   \n",
      "wonderful                           0.12  0.11 -0.02  0.01   0.07       0.10   \n",
      "nice                                0.08 -0.01 -0.01 -0.02  -0.02      -0.01   \n",
      "cool                                0.05 -0.01  0.11  0.13   0.07      -0.01   \n",
      "loved                               0.07  0.07  0.08  0.04   0.12       0.15   \n",
      "lovely                              0.02  0.14  0.14  0.08   0.10       0.25   \n",
      "enjoyed                             0.05  0.16  0.08  0.09   0.12       0.31   \n",
      "treat                               0.04 -0.01 -0.01 -0.01  -0.01      -0.00   \n",
      "worth                               0.05  0.05  0.13  0.06   0.03       0.11   \n",
      "classic                             0.04 -0.01 -0.01 -0.01  -0.01      -0.00   \n",
      "10                                  0.05  0.07  0.08  0.09   0.05       0.15   \n",
      "terrific                            0.07 -0.01 -0.01  0.07   0.08      -0.01   \n",
      "superb                              0.06 -0.01 -0.01 -0.01  -0.01      -0.01   \n",
      "well                                0.06  0.11 -0.02  0.05   0.07       0.11   \n",
      "interesting                         0.10  0.07  0.08  0.09   0.05      -0.01   \n",
      "entertaining                        0.06 -0.01 -0.01 -0.01  -0.01      -0.01   \n",
      "turned out to be                    0.04 -0.01 -0.01 -0.01  -0.01      -0.00   \n",
      "enough can not be said               nan   nan   nan   nan    nan        nan   \n",
      "stellar performance                  nan   nan   nan   nan    nan        nan   \n",
      "if you have not seen this movie      nan   nan   nan   nan    nan        nan   \n",
      "makes up for                        0.04 -0.01 -0.01 -0.01   0.19      -0.00   \n",
      "well-balanced                       0.04 -0.01 -0.01 -0.01  -0.01      -0.00   \n",
      "\n",
      "                                 enjoy  perfect  wonderful  nice  \\\n",
      "pos_neg                           0.01     0.08       0.12  0.08   \n",
      "best                              0.21    -0.01       0.11 -0.01   \n",
      "love                              0.22    -0.01      -0.02 -0.01   \n",
      "good                              0.13    -0.02       0.01 -0.02   \n",
      "great                             0.24    -0.02       0.07 -0.02   \n",
      "beautiful                         0.40    -0.01       0.10 -0.01   \n",
      "enjoy                             1.00    -0.01       0.10 -0.01   \n",
      "perfect                          -0.01     1.00      -0.01 -0.01   \n",
      "wonderful                         0.10    -0.01       1.00 -0.01   \n",
      "nice                             -0.01    -0.01      -0.01  1.00   \n",
      "cool                             -0.01    -0.01       0.10 -0.01   \n",
      "loved                             0.15    -0.01       0.07 -0.01   \n",
      "lovely                            0.25    -0.01      -0.01 -0.01   \n",
      "enjoyed                           0.31    -0.01       0.07 -0.01   \n",
      "treat                            -0.00    -0.00      -0.01 -0.00   \n",
      "worth                             0.11    -0.01      -0.02 -0.01   \n",
      "classic                          -0.00    -0.00      -0.01 -0.00   \n",
      "10                                0.15    -0.01       0.07 -0.01   \n",
      "terrific                         -0.01    -0.01      -0.01 -0.01   \n",
      "superb                           -0.01    -0.01      -0.01 -0.01   \n",
      "well                              0.11     0.22       0.04 -0.01   \n",
      "interesting                      -0.01    -0.01      -0.02 -0.01   \n",
      "entertaining                     -0.01    -0.01      -0.01 -0.01   \n",
      "turned out to be                 -0.00    -0.00      -0.01 -0.00   \n",
      "enough can not be said             nan      nan        nan   nan   \n",
      "stellar performance                nan      nan        nan   nan   \n",
      "if you have not seen this movie    nan      nan        nan   nan   \n",
      "makes up for                     -0.00    -0.00      -0.01 -0.00   \n",
      "well-balanced                    -0.00    -0.00      -0.01 -0.00   \n",
      "\n",
      "                                     ...        superb  well  interesting  \\\n",
      "pos_neg                              ...          0.06  0.06         0.10   \n",
      "best                                 ...         -0.01  0.11         0.07   \n",
      "love                                 ...         -0.01 -0.02         0.08   \n",
      "good                                 ...         -0.01  0.05         0.09   \n",
      "great                                ...         -0.01  0.07         0.05   \n",
      "beautiful                            ...         -0.01  0.11        -0.01   \n",
      "enjoy                                ...         -0.01  0.11        -0.01   \n",
      "perfect                              ...         -0.01  0.22        -0.01   \n",
      "wonderful                            ...         -0.01  0.04        -0.02   \n",
      "nice                                 ...         -0.01 -0.01        -0.01   \n",
      "cool                                 ...         -0.01 -0.01        -0.01   \n",
      "loved                                ...         -0.01  0.08        -0.01   \n",
      "lovely                               ...         -0.00 -0.01        -0.01   \n",
      "enjoyed                              ...         -0.01  0.08        -0.01   \n",
      "treat                                ...         -0.00 -0.01        -0.00   \n",
      "worth                                ...         -0.01  0.05        -0.01   \n",
      "classic                              ...         -0.00  0.26        -0.00   \n",
      "10                                   ...         -0.01  0.08        -0.01   \n",
      "terrific                             ...         -0.00 -0.01        -0.01   \n",
      "superb                               ...          1.00 -0.01        -0.01   \n",
      "well                                 ...         -0.01  1.00        -0.01   \n",
      "interesting                          ...         -0.01 -0.01         1.00   \n",
      "entertaining                         ...         -0.00 -0.01         0.20   \n",
      "turned out to be                     ...         -0.00 -0.01        -0.00   \n",
      "enough can not be said               ...           nan   nan          nan   \n",
      "stellar performance                  ...           nan   nan          nan   \n",
      "if you have not seen this movie      ...           nan   nan          nan   \n",
      "makes up for                         ...         -0.00 -0.01        -0.00   \n",
      "well-balanced                        ...         -0.00 -0.01        -0.00   \n",
      "\n",
      "                                 entertaining  turned out to be  \\\n",
      "pos_neg                                  0.06              0.04   \n",
      "best                                    -0.01             -0.01   \n",
      "love                                    -0.01             -0.01   \n",
      "good                                    -0.01             -0.01   \n",
      "great                                   -0.01             -0.01   \n",
      "beautiful                               -0.01             -0.00   \n",
      "enjoy                                   -0.01             -0.00   \n",
      "perfect                                 -0.01             -0.00   \n",
      "wonderful                               -0.01             -0.01   \n",
      "nice                                    -0.01             -0.00   \n",
      "cool                                    -0.01             -0.00   \n",
      "loved                                   -0.01             -0.00   \n",
      "lovely                                  -0.00             -0.00   \n",
      "enjoyed                                 -0.01             -0.00   \n",
      "treat                                   -0.00             -0.00   \n",
      "worth                                   -0.01             -0.00   \n",
      "classic                                 -0.00             -0.00   \n",
      "10                                      -0.01             -0.00   \n",
      "terrific                                -0.00             -0.00   \n",
      "superb                                  -0.00             -0.00   \n",
      "well                                    -0.01             -0.01   \n",
      "interesting                              0.20             -0.00   \n",
      "entertaining                             1.00             -0.00   \n",
      "turned out to be                        -0.00              1.00   \n",
      "enough can not be said                    nan               nan   \n",
      "stellar performance                       nan               nan   \n",
      "if you have not seen this movie           nan               nan   \n",
      "makes up for                            -0.00             -0.00   \n",
      "well-balanced                           -0.00             -0.00   \n",
      "\n",
      "                                 enough can not be said  stellar performance  \\\n",
      "pos_neg                                             nan                  nan   \n",
      "best                                                nan                  nan   \n",
      "love                                                nan                  nan   \n",
      "good                                                nan                  nan   \n",
      "great                                               nan                  nan   \n",
      "beautiful                                           nan                  nan   \n",
      "enjoy                                               nan                  nan   \n",
      "perfect                                             nan                  nan   \n",
      "wonderful                                           nan                  nan   \n",
      "nice                                                nan                  nan   \n",
      "cool                                                nan                  nan   \n",
      "loved                                               nan                  nan   \n",
      "lovely                                              nan                  nan   \n",
      "enjoyed                                             nan                  nan   \n",
      "treat                                               nan                  nan   \n",
      "worth                                               nan                  nan   \n",
      "classic                                             nan                  nan   \n",
      "10                                                  nan                  nan   \n",
      "terrific                                            nan                  nan   \n",
      "superb                                              nan                  nan   \n",
      "well                                                nan                  nan   \n",
      "interesting                                         nan                  nan   \n",
      "entertaining                                        nan                  nan   \n",
      "turned out to be                                    nan                  nan   \n",
      "enough can not be said                              nan                  nan   \n",
      "stellar performance                                 nan                  nan   \n",
      "if you have not seen this movie                     nan                  nan   \n",
      "makes up for                                        nan                  nan   \n",
      "well-balanced                                       nan                  nan   \n",
      "\n",
      "                                 if you have not seen this movie  \\\n",
      "pos_neg                                                      nan   \n",
      "best                                                         nan   \n",
      "love                                                         nan   \n",
      "good                                                         nan   \n",
      "great                                                        nan   \n",
      "beautiful                                                    nan   \n",
      "enjoy                                                        nan   \n",
      "perfect                                                      nan   \n",
      "wonderful                                                    nan   \n",
      "nice                                                         nan   \n",
      "cool                                                         nan   \n",
      "loved                                                        nan   \n",
      "lovely                                                       nan   \n",
      "enjoyed                                                      nan   \n",
      "treat                                                        nan   \n",
      "worth                                                        nan   \n",
      "classic                                                      nan   \n",
      "10                                                           nan   \n",
      "terrific                                                     nan   \n",
      "superb                                                       nan   \n",
      "well                                                         nan   \n",
      "interesting                                                  nan   \n",
      "entertaining                                                 nan   \n",
      "turned out to be                                             nan   \n",
      "enough can not be said                                       nan   \n",
      "stellar performance                                          nan   \n",
      "if you have not seen this movie                              nan   \n",
      "makes up for                                                 nan   \n",
      "well-balanced                                                nan   \n",
      "\n",
      "                                 makes up for  well-balanced  \n",
      "pos_neg                                  0.04           0.04  \n",
      "best                                    -0.01          -0.01  \n",
      "love                                    -0.01          -0.01  \n",
      "good                                    -0.01          -0.01  \n",
      "great                                    0.19          -0.01  \n",
      "beautiful                               -0.00          -0.00  \n",
      "enjoy                                   -0.00          -0.00  \n",
      "perfect                                 -0.00          -0.00  \n",
      "wonderful                               -0.01          -0.01  \n",
      "nice                                    -0.00          -0.00  \n",
      "cool                                    -0.00          -0.00  \n",
      "loved                                   -0.00          -0.00  \n",
      "lovely                                  -0.00          -0.00  \n",
      "enjoyed                                 -0.00           0.35  \n",
      "treat                                   -0.00          -0.00  \n",
      "worth                                   -0.00          -0.00  \n",
      "classic                                 -0.00          -0.00  \n",
      "10                                      -0.00          -0.00  \n",
      "terrific                                -0.00          -0.00  \n",
      "superb                                  -0.00          -0.00  \n",
      "well                                    -0.01          -0.01  \n",
      "interesting                             -0.00          -0.00  \n",
      "entertaining                            -0.00          -0.00  \n",
      "turned out to be                        -0.00          -0.00  \n",
      "enough can not be said                    nan            nan  \n",
      "stellar performance                       nan            nan  \n",
      "if you have not seen this movie           nan            nan  \n",
      "makes up for                             1.00          -0.00  \n",
      "well-balanced                           -0.00           1.00  \n",
      "\n",
      "[29 rows x 29 columns]\n"
     ]
    },
    {
     "data": {
      "image/png": "[encoded data removed]",
      "text/plain": [
       "<matplotlib.figure.Figure at 0x1143e7da0>"
      ]
     },
     "metadata": {},
     "output_type": "display_data"
    }
   ],
   "source": [
    "# Checking correlation amongst our features\n",
    "corrmat3 = imdb.corr()\n",
    "\n",
    "print(corrmat3)\n",
    "\n",
    "plt.figure(figsize=(10, 10))\n",
    "sns.heatmap(corrmat3, vmax=.8)\n",
    "plt.show()"
   ]
  },
  {
   "cell_type": "markdown",
   "metadata": {},
   "source": [
    "It looks like a few of our newer features aren't helpful so we will drop them and keep the better performing ones."
   ]
  },
  {
   "cell_type": "code",
   "execution_count": 26,
   "metadata": {},
   "outputs": [],
   "source": [
    "# Dropping poor features\n",
    "imdb = imdb.drop(labels=['enough can not be said', 'stellar performance', 'if you have not seen this movie'], axis=1)"
   ]
  },
  {
   "cell_type": "code",
   "execution_count": 27,
   "metadata": {},
   "outputs": [
    {
     "name": "stdout",
     "output_type": "stream",
     "text": [
      "Number of mislabeled points out of a total 748 points : 279\n",
      "Accuracy of model: 62.700534759358284\n"
     ]
    }
   ],
   "source": [
    "# Assigning our features and target variable\n",
    "data3 = imdb.drop(['review', 'pos_neg'], axis=1)\n",
    "target = imdb['pos_neg']\n",
    "\n",
    "# Fit our model to the data.\n",
    "bnb.fit(data3, target)\n",
    "\n",
    "# Classify, storing the result in a new variable.\n",
    "y_pred3 = bnb.predict(data3)\n",
    "\n",
    "# Display our results.\n",
    "print(\"Number of mislabeled points out of a total {} points : {}\".format(\n",
    "    data3.shape[0],\n",
    "    (target != y_pred3).sum()\n",
    "))\n",
    "\n",
    "print(\"Accuracy of model: {}\".format((target == y_pred3).sum()/data3.shape[0]*100))"
   ]
  },
  {
   "cell_type": "code",
   "execution_count": 28,
   "metadata": {},
   "outputs": [
    {
     "name": "stdout",
     "output_type": "stream",
     "text": [
      "[[335  27]\n",
      " [252 134]]\n",
      "Sensitivity:  34.715025906735754\n",
      "Specificity:  92.5414364640884\n"
     ]
    }
   ],
   "source": [
    "# Get Confusion Matrix\n",
    "conmat3 = confusion_matrix(target, y_pred3)\n",
    "print(conmat3)\n",
    "\n",
    "# Print our Sensitivity/Specificity scores\n",
    "print('Sensitivity: ', sensitivity(conmat3))\n",
    "print('Specificity: ', specificity(conmat3))"
   ]
  },
  {
   "cell_type": "code",
   "execution_count": 29,
   "metadata": {},
   "outputs": [
    {
     "name": "stdout",
     "output_type": "stream",
     "text": [
      "With 30% Holdout: 0.6177777777777778\n",
      "Testing on Sample: 0.6270053475935828\n"
     ]
    }
   ],
   "source": [
    "# Use train_test_split to create the necessary training and test groups\n",
    "X_train, X_test, y_train, y_test = train_test_split(data3, target, test_size=0.3, random_state=20)\n",
    "print('With 30% Holdout: ' + str(bnb.fit(X_train, y_train).score(X_test, y_test)))\n",
    "print('Testing on Sample: ' + str(bnb.fit(data3, target).score(data3, target)))"
   ]
  },
  {
   "cell_type": "code",
   "execution_count": 30,
   "metadata": {},
   "outputs": [
    {
     "data": {
      "text/plain": [
       "array([0.63157895, 0.60526316, 0.65333333, 0.6       , 0.68      ,\n",
       "       0.58666667, 0.7027027 , 0.59459459, 0.59459459, 0.58108108])"
      ]
     },
     "execution_count": 30,
     "metadata": {},
     "output_type": "execute_result"
    }
   ],
   "source": [
    "# Perform Cross Validation with 10 k-folds\n",
    "from sklearn.model_selection import cross_val_score\n",
    "cross_val_score(bnb, data3, target, cv=10)"
   ]
  },
  {
   "cell_type": "markdown",
   "metadata": {},
   "source": [
    "Again we se slight improvement in our model performance though not as much compared to Iteration #1 to Iteration #2. We also see very slight improvement in our sensitivity without much loss in specificity. Through cross validation we see a bit much variation across our folds indicating some overfitting with some of our features. Let's try and address this in the next iteration."
   ]
  },
  {
   "cell_type": "markdown",
   "metadata": {},
   "source": [
    "#### Iteration #4\n",
    "\n",
    "To address some of the overfitting in our model, I'll attempt to drop features that have lower correlation to our target variable as well as simplifying our feature-space. "
   ]
  },
  {
   "cell_type": "code",
   "execution_count": 40,
   "metadata": {},
   "outputs": [
    {
     "name": "stdout",
     "output_type": "stream",
     "text": [
      "pos_neg        1.00\n",
      "wonderful      0.12\n",
      "great          0.11\n",
      "interesting    0.10\n",
      "nice           0.08\n",
      "perfect        0.08\n",
      "good           0.08\n",
      "loved          0.07\n",
      "terrific       0.07\n",
      "well           0.06\n",
      "love           0.06\n",
      "entertaining   0.06\n",
      "superb         0.06\n",
      "best           0.05\n",
      "enjoyed        0.05\n",
      "10             0.05\n",
      "Name: pos_neg, dtype: float64\n"
     ]
    }
   ],
   "source": [
    "# Get top performing features in our correlation matrix\n",
    "\n",
    "target = 'pos_neg'\n",
    "nr_cols = 16\n",
    "corrmat = imdb.corr()\n",
    "print (corrmat.nlargest(nr_cols, target)[target])"
   ]
  },
  {
   "cell_type": "code",
   "execution_count": 43,
   "metadata": {},
   "outputs": [],
   "source": [
    "keywords4 = ['wonderful', 'great', 'interesting', 'nice', 'perfect', 'well', 'love', 'entertaining', 'superb', 'best', 'enjoyed', '10']\n",
    "\n",
    "# Create new dataframe to hold simplified feature set.\n",
    "new_imdb = pd.DataFrame()\n",
    "\n",
    "# Adding the features to the dataframe\n",
    "for key in keywords4:\n",
    "    new_imdb[str(key)] = imdb.review.str.contains(' '+str(key)+ ' ', case=False)\n",
    "    \n",
    "# Add back in reviews and pos_neg columns\n",
    "new_imdb['review'] = imdb['review']\n",
    "new_imdb['pos_neg'] = imdb['pos_neg']"
   ]
  },
  {
   "cell_type": "code",
   "execution_count": 45,
   "metadata": {},
   "outputs": [
    {
     "name": "stdout",
     "output_type": "stream",
     "text": [
      "              wonderful  great  interesting  nice  perfect  well  love  \\\n",
      "wonderful          1.00   0.07        -0.02 -0.01    -0.01  0.04 -0.02   \n",
      "great              0.07   1.00         0.05 -0.02    -0.02  0.07  0.12   \n",
      "interesting       -0.02   0.05         1.00 -0.01    -0.01 -0.01  0.08   \n",
      "nice              -0.01  -0.02        -0.01  1.00    -0.01 -0.01 -0.01   \n",
      "perfect           -0.01  -0.02        -0.01 -0.01     1.00  0.22 -0.01   \n",
      "well               0.04   0.07        -0.01 -0.01     0.22  1.00 -0.02   \n",
      "love              -0.02   0.12         0.08 -0.01    -0.01 -0.02  1.00   \n",
      "entertaining      -0.01  -0.01         0.20 -0.01    -0.01 -0.01 -0.01   \n",
      "superb            -0.01  -0.01        -0.01 -0.01    -0.01 -0.01 -0.01   \n",
      "best               0.11   0.12         0.07 -0.01    -0.01  0.11  0.04   \n",
      "enjoyed            0.07   0.12        -0.01 -0.01    -0.01  0.08  0.08   \n",
      "10                 0.07   0.05        -0.01 -0.01    -0.01  0.08  0.08   \n",
      "pos_neg            0.12   0.11         0.10  0.08     0.08  0.06  0.06   \n",
      "\n",
      "              entertaining  superb  best  enjoyed    10  pos_neg  \n",
      "wonderful            -0.01   -0.01  0.11     0.07  0.07     0.12  \n",
      "great                -0.01   -0.01  0.12     0.12  0.05     0.11  \n",
      "interesting           0.20   -0.01  0.07    -0.01 -0.01     0.10  \n",
      "nice                 -0.01   -0.01 -0.01    -0.01 -0.01     0.08  \n",
      "perfect              -0.01   -0.01 -0.01    -0.01 -0.01     0.08  \n",
      "well                 -0.01   -0.01  0.11     0.08  0.08     0.06  \n",
      "love                 -0.01   -0.01  0.04     0.08  0.08     0.06  \n",
      "entertaining          1.00   -0.00 -0.01    -0.01 -0.01     0.06  \n",
      "superb               -0.00    1.00 -0.01    -0.01 -0.01     0.06  \n",
      "best                 -0.01   -0.01  1.00     0.16  0.07     0.05  \n",
      "enjoyed              -0.01   -0.01  0.16     1.00  0.12     0.05  \n",
      "10                   -0.01   -0.01  0.07     0.12  1.00     0.05  \n",
      "pos_neg               0.06    0.06  0.05     0.05  0.05     1.00  \n"
     ]
    },
    {
     "data": {
      "image/png": "[encoded data removed]",
      "text/plain": [
       "<matplotlib.figure.Figure at 0x1148895f8>"
      ]
     },
     "metadata": {},
     "output_type": "display_data"
    }
   ],
   "source": [
    "# Checking correlation amongst our features\n",
    "corrmat4 = new_imdb.corr()\n",
    "\n",
    "print(corrmat4)\n",
    "\n",
    "plt.figure(figsize=(10, 10))\n",
    "sns.heatmap(corrmat4, vmax=.8, square=True)\n",
    "plt.show()"
   ]
  },
  {
   "cell_type": "code",
   "execution_count": 46,
   "metadata": {},
   "outputs": [
    {
     "name": "stdout",
     "output_type": "stream",
     "text": [
      "Number of mislabeled points out of a total 748 points : 307\n",
      "Accuracy of model: 58.9572192513369\n"
     ]
    }
   ],
   "source": [
    "# Assigning our features and target variable\n",
    "data4 = new_imdb.drop(['review', 'pos_neg'], axis=1)\n",
    "target = new_imdb['pos_neg']\n",
    "\n",
    "# Fit our model to the data.\n",
    "bnb.fit(data4, target)\n",
    "\n",
    "# Classify, storing the result in a new variable.\n",
    "y_pred4 = bnb.predict(data4)\n",
    "\n",
    "# Display our results.\n",
    "print(\"Number of mislabeled points out of a total {} points : {}\".format(\n",
    "    data4.shape[0],\n",
    "    (target != y_pred4).sum()\n",
    "))\n",
    "\n",
    "print(\"Accuracy of model: {}\".format((target == y_pred4).sum()/data4.shape[0]*100))"
   ]
  },
  {
   "cell_type": "code",
   "execution_count": 48,
   "metadata": {},
   "outputs": [
    {
     "name": "stdout",
     "output_type": "stream",
     "text": [
      "[[347  15]\n",
      " [292  94]]\n",
      "Sensitivity:  24.352331606217618\n",
      "Specificity:  95.85635359116023\n"
     ]
    }
   ],
   "source": [
    "# Get Confusion Matrix\n",
    "conmat4 = confusion_matrix(target, y_pred4)\n",
    "print(conmat4)\n",
    "\n",
    "# Print our Sensitivity/Specificity scores\n",
    "print('Sensitivity: ', sensitivity(conmat4))\n",
    "print('Specificity: ', specificity(conmat4))"
   ]
  },
  {
   "cell_type": "code",
   "execution_count": 49,
   "metadata": {},
   "outputs": [
    {
     "name": "stdout",
     "output_type": "stream",
     "text": [
      "With 30% Holdout: 0.5911111111111111\n",
      "Testing on Sample: 0.589572192513369\n"
     ]
    }
   ],
   "source": [
    "# Use train_test_split to create the necessary training and test groups\n",
    "X_train, X_test, y_train, y_test = train_test_split(data4, target, test_size=0.3, random_state=20)\n",
    "print('With 30% Holdout: ' + str(bnb.fit(X_train, y_train).score(X_test, y_test)))\n",
    "print('Testing on Sample: ' + str(bnb.fit(data4, target).score(data4, target)))"
   ]
  },
  {
   "cell_type": "code",
   "execution_count": 64,
   "metadata": {},
   "outputs": [
    {
     "data": {
      "text/plain": [
       "array([0.56578947, 0.60526316, 0.54666667, 0.57333333, 0.65333333,\n",
       "       0.58666667, 0.62162162, 0.55405405, 0.59459459, 0.59459459])"
      ]
     },
     "execution_count": 64,
     "metadata": {},
     "output_type": "execute_result"
    }
   ],
   "source": [
    "# Perform Cross Validation with 10 k-folds\n",
    "from sklearn.model_selection import cross_val_score\n",
    "cross_val_score(bnb, data4, target, cv=10)"
   ]
  },
  {
   "cell_type": "markdown",
   "metadata": {},
   "source": [
    "Upon reduction in our feature set, we do see a 4 point drop in our accuracy score, a 10 point drop in Sensitivity, but a 3 point increase in Specificity. So we've lost some ability to predict our target but the model shows relatively consistent performance across holdout groups and doesn't appear to be wildly overfitting. "
   ]
  },
  {
   "cell_type": "markdown",
   "metadata": {},
   "source": [
    "#### Iteration #5\n",
    "\n",
    "For our final iteration, let's do something a bit more radical and greatly simplify our features to only the top performing positive feature, 'wonderful' and see how the model does."
   ]
  },
  {
   "cell_type": "code",
   "execution_count": 51,
   "metadata": {},
   "outputs": [
    {
     "data": {
      "text/html": [
       "<div>\n",
       "<style scoped>\n",
       "    .dataframe tbody tr th:only-of-type {\n",
       "        vertical-align: middle;\n",
       "    }\n",
       "\n",
       "    .dataframe tbody tr th {\n",
       "        vertical-align: top;\n",
       "    }\n",
       "\n",
       "    .dataframe thead th {\n",
       "        text-align: right;\n",
       "    }\n",
       "</style>\n",
       "<table border=\"1\" class=\"dataframe\">\n",
       "  <thead>\n",
       "    <tr style=\"text-align: right;\">\n",
       "      <th></th>\n",
       "      <th>wonderful</th>\n",
       "      <th>great</th>\n",
       "      <th>interesting</th>\n",
       "      <th>nice</th>\n",
       "      <th>perfect</th>\n",
       "      <th>well</th>\n",
       "      <th>love</th>\n",
       "      <th>entertaining</th>\n",
       "      <th>superb</th>\n",
       "      <th>best</th>\n",
       "      <th>enjoyed</th>\n",
       "      <th>10</th>\n",
       "      <th>review</th>\n",
       "      <th>pos_neg</th>\n",
       "    </tr>\n",
       "  </thead>\n",
       "  <tbody>\n",
       "    <tr>\n",
       "      <th>0</th>\n",
       "      <td>False</td>\n",
       "      <td>False</td>\n",
       "      <td>False</td>\n",
       "      <td>False</td>\n",
       "      <td>False</td>\n",
       "      <td>False</td>\n",
       "      <td>False</td>\n",
       "      <td>False</td>\n",
       "      <td>False</td>\n",
       "      <td>False</td>\n",
       "      <td>False</td>\n",
       "      <td>False</td>\n",
       "      <td>A very, very, very slow-moving, aimless movie ...</td>\n",
       "      <td>0</td>\n",
       "    </tr>\n",
       "    <tr>\n",
       "      <th>1</th>\n",
       "      <td>False</td>\n",
       "      <td>False</td>\n",
       "      <td>False</td>\n",
       "      <td>False</td>\n",
       "      <td>False</td>\n",
       "      <td>False</td>\n",
       "      <td>False</td>\n",
       "      <td>False</td>\n",
       "      <td>False</td>\n",
       "      <td>False</td>\n",
       "      <td>False</td>\n",
       "      <td>False</td>\n",
       "      <td>Not sure who was more lost - the flat characte...</td>\n",
       "      <td>0</td>\n",
       "    </tr>\n",
       "    <tr>\n",
       "      <th>2</th>\n",
       "      <td>False</td>\n",
       "      <td>False</td>\n",
       "      <td>False</td>\n",
       "      <td>False</td>\n",
       "      <td>False</td>\n",
       "      <td>False</td>\n",
       "      <td>False</td>\n",
       "      <td>False</td>\n",
       "      <td>False</td>\n",
       "      <td>False</td>\n",
       "      <td>False</td>\n",
       "      <td>False</td>\n",
       "      <td>Attempting artiness with black &amp; white and cle...</td>\n",
       "      <td>0</td>\n",
       "    </tr>\n",
       "    <tr>\n",
       "      <th>3</th>\n",
       "      <td>False</td>\n",
       "      <td>False</td>\n",
       "      <td>False</td>\n",
       "      <td>False</td>\n",
       "      <td>False</td>\n",
       "      <td>False</td>\n",
       "      <td>False</td>\n",
       "      <td>False</td>\n",
       "      <td>False</td>\n",
       "      <td>False</td>\n",
       "      <td>False</td>\n",
       "      <td>False</td>\n",
       "      <td>Very little music or anything to speak of.</td>\n",
       "      <td>0</td>\n",
       "    </tr>\n",
       "    <tr>\n",
       "      <th>4</th>\n",
       "      <td>False</td>\n",
       "      <td>False</td>\n",
       "      <td>False</td>\n",
       "      <td>False</td>\n",
       "      <td>False</td>\n",
       "      <td>False</td>\n",
       "      <td>False</td>\n",
       "      <td>False</td>\n",
       "      <td>False</td>\n",
       "      <td>True</td>\n",
       "      <td>False</td>\n",
       "      <td>False</td>\n",
       "      <td>The best scene in the movie was when Gerardo i...</td>\n",
       "      <td>1</td>\n",
       "    </tr>\n",
       "  </tbody>\n",
       "</table>\n",
       "</div>"
      ],
      "text/plain": [
       "   wonderful  great  interesting   nice  perfect   well   love  entertaining  \\\n",
       "0      False  False        False  False    False  False  False         False   \n",
       "1      False  False        False  False    False  False  False         False   \n",
       "2      False  False        False  False    False  False  False         False   \n",
       "3      False  False        False  False    False  False  False         False   \n",
       "4      False  False        False  False    False  False  False         False   \n",
       "\n",
       "   superb   best  enjoyed     10  \\\n",
       "0   False  False    False  False   \n",
       "1   False  False    False  False   \n",
       "2   False  False    False  False   \n",
       "3   False  False    False  False   \n",
       "4   False   True    False  False   \n",
       "\n",
       "                                              review  pos_neg  \n",
       "0  A very, very, very slow-moving, aimless movie ...        0  \n",
       "1  Not sure who was more lost - the flat characte...        0  \n",
       "2  Attempting artiness with black & white and cle...        0  \n",
       "3       Very little music or anything to speak of.          0  \n",
       "4  The best scene in the movie was when Gerardo i...        1  "
      ]
     },
     "execution_count": 51,
     "metadata": {},
     "output_type": "execute_result"
    }
   ],
   "source": [
    "new_imdb.head()"
   ]
  },
  {
   "cell_type": "code",
   "execution_count": 53,
   "metadata": {},
   "outputs": [],
   "source": [
    "new_imdb = new_imdb.drop(labels=['great', 'interesting', 'nice', 'perfect', 'well', 'love', 'entertaining', 'superb', 'best', 'enjoyed', '10'], axis=1)"
   ]
  },
  {
   "cell_type": "code",
   "execution_count": 61,
   "metadata": {},
   "outputs": [
    {
     "name": "stdout",
     "output_type": "stream",
     "text": [
      "Number of mislabeled points out of a total 748 points : 362\n",
      "Accuracy of model: 51.60427807486631\n"
     ]
    }
   ],
   "source": [
    "data5 = new_imdb['wonderful'].values.reshape(-1,1)\n",
    "target = new_imdb['pos_neg']\n",
    "\n",
    "# Fit our model to the data.\n",
    "bnb.fit(data5, target)\n",
    "\n",
    "# Classify, storing the result in a new variable.\n",
    "y_pred5 = bnb.predict(data5)\n",
    "\n",
    "# Display our results.\n",
    "print(\"Number of mislabeled points out of a total {} points : {}\".format(\n",
    "    data5.shape[0],\n",
    "    (target != y_pred5).sum()\n",
    "))\n",
    "\n",
    "print(\"Accuracy of model: {}\".format((target == y_pred5).sum()/data5.shape[0]*100))"
   ]
  },
  {
   "cell_type": "code",
   "execution_count": 62,
   "metadata": {},
   "outputs": [
    {
     "name": "stdout",
     "output_type": "stream",
     "text": [
      "[[  0 362]\n",
      " [  0 386]]\n",
      "Sensitivity:  100.0\n",
      "Specificity:  0.0\n"
     ]
    }
   ],
   "source": [
    "# Get Confusion Matrix\n",
    "conmat5 = confusion_matrix(target, y_pred5)\n",
    "print(conmat5)\n",
    "\n",
    "# Print our Sensitivity/Specificity scores\n",
    "print('Sensitivity: ', sensitivity(conmat5))\n",
    "print('Specificity: ', specificity(conmat5))"
   ]
  },
  {
   "cell_type": "code",
   "execution_count": 65,
   "metadata": {},
   "outputs": [
    {
     "data": {
      "text/plain": [
       "array([0.51315789, 0.51315789, 0.52      , 0.52      , 0.52      ,\n",
       "       0.52      , 0.51351351, 0.51351351, 0.51351351, 0.51351351])"
      ]
     },
     "execution_count": 65,
     "metadata": {},
     "output_type": "execute_result"
    }
   ],
   "source": [
    "# Perform Cross Validation with 10 k-folds\n",
    "from sklearn.model_selection import cross_val_score\n",
    "cross_val_score(bnb, data5, target, cv=10)"
   ]
  },
  {
   "cell_type": "markdown",
   "metadata": {},
   "source": [
    "### Conclusions\n",
    "\n",
    "Iterating through different classifiers we don't note much overfitting from model to model. Our best performing classifier, Iteration #3, had the highest model accuracy with 62.7% largely due to an increased number of features and greater ability to make up for some of the class imbalance found in the data between positive and negative reviews. Simpler, more generalized features seemed to boost performance the most. \n"
   ]
  },
  {
   "cell_type": "code",
   "execution_count": null,
   "metadata": {},
   "outputs": [],
   "source": []
  }
 ],
 "metadata": {
  "kernelspec": {
   "display_name": "Python 3",
   "language": "python",
   "name": "python3"
  }
 },
 "nbformat": 4,
 "nbformat_minor": 2
}
