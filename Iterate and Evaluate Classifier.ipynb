{
 "cells": [
  {
   "cell_type": "code",
   "execution_count": 2,
   "metadata": {},
   "outputs": [],
   "source": [
    "import numpy as np\n",
    "import pandas as pd\n",
    "import scipy\n",
    "import sklearn\n",
    "import matplotlib.pyplot as plt\n",
    "import seaborn as sns\n",
    "%matplotlib inline"
   ]
  },
  {
   "cell_type": "code",
   "execution_count": 3,
   "metadata": {},
   "outputs": [
    {
     "data": {
      "text/html": [
       "<div>\n",
       "<style scoped>\n",
       "    .dataframe tbody tr th:only-of-type {\n",
       "        vertical-align: middle;\n",
       "    }\n",
       "\n",
       "    .dataframe tbody tr th {\n",
       "        vertical-align: top;\n",
       "    }\n",
       "\n",
       "    .dataframe thead th {\n",
       "        text-align: right;\n",
       "    }\n",
       "</style>\n",
       "<table border=\"1\" class=\"dataframe\">\n",
       "  <thead>\n",
       "    <tr style=\"text-align: right;\">\n",
       "      <th></th>\n",
       "      <th>0</th>\n",
       "      <th>1</th>\n",
       "    </tr>\n",
       "  </thead>\n",
       "  <tbody>\n",
       "    <tr>\n",
       "      <th>0</th>\n",
       "      <td>A very, very, very slow-moving, aimless movie ...</td>\n",
       "      <td>0</td>\n",
       "    </tr>\n",
       "    <tr>\n",
       "      <th>1</th>\n",
       "      <td>Not sure who was more lost - the flat characte...</td>\n",
       "      <td>0</td>\n",
       "    </tr>\n",
       "    <tr>\n",
       "      <th>2</th>\n",
       "      <td>Attempting artiness with black &amp; white and cle...</td>\n",
       "      <td>0</td>\n",
       "    </tr>\n",
       "    <tr>\n",
       "      <th>3</th>\n",
       "      <td>Very little music or anything to speak of.</td>\n",
       "      <td>0</td>\n",
       "    </tr>\n",
       "    <tr>\n",
       "      <th>4</th>\n",
       "      <td>The best scene in the movie was when Gerardo i...</td>\n",
       "      <td>1</td>\n",
       "    </tr>\n",
       "    <tr>\n",
       "      <th>5</th>\n",
       "      <td>The rest of the movie lacks art, charm, meanin...</td>\n",
       "      <td>0</td>\n",
       "    </tr>\n",
       "    <tr>\n",
       "      <th>6</th>\n",
       "      <td>Wasted two hours.</td>\n",
       "      <td>0</td>\n",
       "    </tr>\n",
       "    <tr>\n",
       "      <th>7</th>\n",
       "      <td>Saw the movie today and thought it was a good ...</td>\n",
       "      <td>1</td>\n",
       "    </tr>\n",
       "    <tr>\n",
       "      <th>8</th>\n",
       "      <td>A bit predictable.</td>\n",
       "      <td>0</td>\n",
       "    </tr>\n",
       "    <tr>\n",
       "      <th>9</th>\n",
       "      <td>Loved the casting of Jimmy Buffet as the scien...</td>\n",
       "      <td>1</td>\n",
       "    </tr>\n",
       "    <tr>\n",
       "      <th>10</th>\n",
       "      <td>And those baby owls were adorable.</td>\n",
       "      <td>1</td>\n",
       "    </tr>\n",
       "    <tr>\n",
       "      <th>11</th>\n",
       "      <td>The movie showed a lot of Florida at it's best...</td>\n",
       "      <td>1</td>\n",
       "    </tr>\n",
       "    <tr>\n",
       "      <th>12</th>\n",
       "      <td>The Songs Were The Best And The Muppets Were S...</td>\n",
       "      <td>1</td>\n",
       "    </tr>\n",
       "    <tr>\n",
       "      <th>13</th>\n",
       "      <td>It Was So Cool.</td>\n",
       "      <td>1</td>\n",
       "    </tr>\n",
       "    <tr>\n",
       "      <th>14</th>\n",
       "      <td>This is a very \"right on case\" movie that deli...</td>\n",
       "      <td>1</td>\n",
       "    </tr>\n",
       "    <tr>\n",
       "      <th>15</th>\n",
       "      <td>It had some average acting from the main perso...</td>\n",
       "      <td>0</td>\n",
       "    </tr>\n",
       "    <tr>\n",
       "      <th>16</th>\n",
       "      <td>This review is long overdue, since I consider ...</td>\n",
       "      <td>1</td>\n",
       "    </tr>\n",
       "    <tr>\n",
       "      <th>17</th>\n",
       "      <td>I'll put this gem up against any movie in term...</td>\n",
       "      <td>1</td>\n",
       "    </tr>\n",
       "    <tr>\n",
       "      <th>18</th>\n",
       "      <td>It's practically perfect in all of them  a tr...</td>\n",
       "      <td>1</td>\n",
       "    </tr>\n",
       "    <tr>\n",
       "      <th>19</th>\n",
       "      <td>The structure of this film is easily the most...</td>\n",
       "      <td>0</td>\n",
       "    </tr>\n",
       "    <tr>\n",
       "      <th>20</th>\n",
       "      <td>This if the first movie I've given a 10 to in ...</td>\n",
       "      <td>1</td>\n",
       "    </tr>\n",
       "    <tr>\n",
       "      <th>21</th>\n",
       "      <td>If there was ever a movie that needed word-of-...</td>\n",
       "      <td>1</td>\n",
       "    </tr>\n",
       "    <tr>\n",
       "      <th>22</th>\n",
       "      <td>Overall, the film is interesting and thought-p...</td>\n",
       "      <td>1</td>\n",
       "    </tr>\n",
       "    <tr>\n",
       "      <th>23</th>\n",
       "      <td>Plus, it was well-paced and suited its relativ...</td>\n",
       "      <td>1</td>\n",
       "    </tr>\n",
       "    <tr>\n",
       "      <th>24</th>\n",
       "      <td>Give this one a look.</td>\n",
       "      <td>1</td>\n",
       "    </tr>\n",
       "  </tbody>\n",
       "</table>\n",
       "</div>"
      ],
      "text/plain": [
       "                                                    0  1\n",
       "0   A very, very, very slow-moving, aimless movie ...  0\n",
       "1   Not sure who was more lost - the flat characte...  0\n",
       "2   Attempting artiness with black & white and cle...  0\n",
       "3        Very little music or anything to speak of.    0\n",
       "4   The best scene in the movie was when Gerardo i...  1\n",
       "5   The rest of the movie lacks art, charm, meanin...  0\n",
       "6                                 Wasted two hours.    0\n",
       "7   Saw the movie today and thought it was a good ...  1\n",
       "8                                A bit predictable.    0\n",
       "9   Loved the casting of Jimmy Buffet as the scien...  1\n",
       "10               And those baby owls were adorable.    1\n",
       "11  The movie showed a lot of Florida at it's best...  1\n",
       "12  The Songs Were The Best And The Muppets Were S...  1\n",
       "13                                  It Was So Cool.    1\n",
       "14  This is a very \"right on case\" movie that deli...  1\n",
       "15  It had some average acting from the main perso...  0\n",
       "16  This review is long overdue, since I consider ...  1\n",
       "17  I'll put this gem up against any movie in term...  1\n",
       "18  It's practically perfect in all of them  a tr...  1\n",
       "19   The structure of this film is easily the most...  0\n",
       "20  This if the first movie I've given a 10 to in ...  1\n",
       "21  If there was ever a movie that needed word-of-...  1\n",
       "22  Overall, the film is interesting and thought-p...  1\n",
       "23  Plus, it was well-paced and suited its relativ...  1\n",
       "24                            Give this one a look.    1"
      ]
     },
     "execution_count": 3,
     "metadata": {},
     "output_type": "execute_result"
    }
   ],
   "source": [
    "imdb = pd.read_csv('imdb_labelled.txt', delimiter= '\\t', header=None)\n",
    "imdb.head(25)"
   ]
  },
  {
   "cell_type": "code",
   "execution_count": 4,
   "metadata": {},
   "outputs": [],
   "source": [
    "imdb.columns = ['review', 'pos_neg']"
   ]
  },
  {
   "cell_type": "code",
   "execution_count": 5,
   "metadata": {},
   "outputs": [],
   "source": [
    "keywords = ['best', 'loved', 'good', 'great', 'beautiful', 'love', 'enjoyed', 'perfect', 'wonderful', 'nice', 'cool', 'treat', 'worth', 'classic', '10']\n",
    "\n",
    "for key in keywords:\n",
    "    imdb[str(key)] = imdb.review.str.contains(' '+str(key)+ ' ', case=False)"
   ]
  },
  {
   "cell_type": "code",
   "execution_count": 6,
   "metadata": {},
   "outputs": [],
   "source": [
    "data = imdb[keywords]\n",
    "target = imdb['pos_neg']"
   ]
  },
  {
   "cell_type": "code",
   "execution_count": 7,
   "metadata": {},
   "outputs": [
    {
     "name": "stdout",
     "output_type": "stream",
     "text": [
      "Accuracy of model: 60.6951871657754\n"
     ]
    }
   ],
   "source": [
    "from sklearn.naive_bayes import BernoulliNB\n",
    "\n",
    "bnb = BernoulliNB()\n",
    "\n",
    "y_pred = bnb.fit(data, target).predict(data)\n",
    "\n",
    "print(\"Accuracy of model: {}\".format((target == y_pred).sum()/data.shape[0]*100))"
   ]
  },
  {
   "cell_type": "code",
   "execution_count": 8,
   "metadata": {},
   "outputs": [
    {
     "data": {
      "text/plain": [
       "array([[338,  24],\n",
       "       [270, 116]])"
      ]
     },
     "execution_count": 8,
     "metadata": {},
     "output_type": "execute_result"
    }
   ],
   "source": [
    "from sklearn.metrics import confusion_matrix\n",
    "confusion_matrix(target, y_pred)"
   ]
  },
  {
   "cell_type": "markdown",
   "metadata": {},
   "source": [
    "From this we see that the majority of the error is coming from failure to predict the positive reviews, with 270/294 of our errors failing to identify positive reviews. So, we want to get better at predicting the positive reviews. "
   ]
  },
  {
   "cell_type": "code",
   "execution_count": 9,
   "metadata": {},
   "outputs": [
    {
     "name": "stdout",
     "output_type": "stream",
     "text": [
      "With 20% Holdout: 0.56\n",
      "Testing on Sample: 0.606951871657754\n"
     ]
    }
   ],
   "source": [
    "# Test your model with different holdout groups.\n",
    "\n",
    "from sklearn.model_selection import train_test_split\n",
    "# Use train_test_split to create the necessary training and test groups\n",
    "X_train, X_test, y_train, y_test = train_test_split(data, target, test_size=0.2, random_state=20)\n",
    "print('With 20% Holdout: ' + str(bnb.fit(X_train, y_train).score(X_test, y_test)))\n",
    "print('Testing on Sample: ' + str(bnb.fit(data, target).score(data, target)))"
   ]
  },
  {
   "cell_type": "code",
   "execution_count": 10,
   "metadata": {},
   "outputs": [
    {
     "data": {
      "text/plain": [
       "array([0.57894737, 0.57894737, 0.64      , 0.61333333, 0.64      ,\n",
       "       0.57333333, 0.68918919, 0.59459459, 0.58108108, 0.54054054])"
      ]
     },
     "execution_count": 10,
     "metadata": {},
     "output_type": "execute_result"
    }
   ],
   "source": [
    "from sklearn.model_selection import cross_val_score\n",
    "cross_val_score(bnb, data, target, cv=10)"
   ]
  },
  {
   "cell_type": "markdown",
   "metadata": {},
   "source": [
    "After receiving better performance on the whole sample compared to our holdout, I'll attempt to add a few features to improve the performance of the model."
   ]
  },
  {
   "cell_type": "code",
   "execution_count": 20,
   "metadata": {},
   "outputs": [
    {
     "data": {
      "text/plain": [
       "4      The best scene in the movie was when Gerardo i...\n",
       "7      Saw the movie today and thought it was a good ...\n",
       "9      Loved the casting of Jimmy Buffet as the scien...\n",
       "10                  And those baby owls were adorable.  \n",
       "11     The movie showed a lot of Florida at it's best...\n",
       "12     The Songs Were The Best And The Muppets Were S...\n",
       "13                                     It Was So Cool.  \n",
       "14     This is a very \"right on case\" movie that deli...\n",
       "16     This review is long overdue, since I consider ...\n",
       "17     I'll put this gem up against any movie in term...\n",
       "18     It's practically perfect in all of them  a tr...\n",
       "20     This if the first movie I've given a 10 to in ...\n",
       "21     If there was ever a movie that needed word-of-...\n",
       "22     Overall, the film is interesting and thought-p...\n",
       "23     Plus, it was well-paced and suited its relativ...\n",
       "24                               Give this one a look.  \n",
       "25                                      I gave it a 10  \n",
       "26     The Wind and the Lion is well written and supe...\n",
       "27                               It is a true classic.  \n",
       "28     It actually turned out to be pretty decent as ...\n",
       "29                      Definitely worth checking out.  \n",
       "34     MANNA FROM HEAVEN is a terrific film that is b...\n",
       "35     The scenes are often funny and occasionally to...\n",
       "36     The cast of veteran actors are more than just ...\n",
       "37     Ursula Burton's portrayal of the nun is both t...\n",
       "38     If you are looking for a movie with a terrific...\n",
       "39             I don't think you will be disappointed.  \n",
       "45     The only thing really worth watching was the s...\n",
       "48     But in terms of the writing it's very fresh an...\n",
       "49     The acting helps the writing along very well (...\n",
       "                             ...                        \n",
       "708    I was particularly pleased with the acting abi...\n",
       "709    Both actors truly understand and become their ...\n",
       "710    Their on-screen chemistry, critical to the ent...\n",
       "711      The film's dialogue is natural, real to life.  \n",
       "712    The writer, Gorman Bechard, undoubtedly did hi...\n",
       "713    The incredible soundtrack truly captures the e...\n",
       "714    Each track commands sentiment, actually contri...\n",
       "715    Definitely worth seeing\n",
       " it's the sort of thou...\n",
       "716    Hayao Miyazaki's latest and eighth film for St...\n",
       "717    At a time when it seems that film animation ha...\n",
       "718    Enough can not be said of the remarkable anima...\n",
       "719    The art style has the appearance of crayon/pen...\n",
       "723    Still, it makes up for all of this with a supe...\n",
       "724    Just consider the excellent story, solid actin...\n",
       "726    Then I watched it again two Sundays ago (March...\n",
       "727         It is a very well acted and done TV Movie.  \n",
       "728    Judith Light is one of my favorite actresses a...\n",
       "729                  I keep watching it over and over.  \n",
       "730                   It's a sad movie, but very good.  \n",
       "731    If you have not seen this movie, I definitely ...\n",
       "732             She is as lovely as usual, this cutie!  \n",
       "733    Still it's quite interesting and entertaining ...\n",
       "734                      ;) Recommend with confidence!  \n",
       "735    This movie is well-balanced with comedy and dr...\n",
       "736    It was a riot to see Hugo Weaving play a sex-o...\n",
       "737    :) Anyway, the plot flowed smoothly and the ma...\n",
       "738    The opening sequence of this gem is a classic,...\n",
       "739               Fans of the genre will be in heaven.  \n",
       "740                  Lange had become a great actress.  \n",
       "741                  It looked like a wonderful story.  \n",
       "Name: review, Length: 386, dtype: object"
      ]
     },
     "execution_count": 20,
     "metadata": {},
     "output_type": "execute_result"
    }
   ],
   "source": [
    "imdb.iloc[np.where(imdb['pos_neg'] == 1)]['review']"
   ]
  },
  {
   "cell_type": "code",
   "execution_count": 21,
   "metadata": {},
   "outputs": [],
   "source": [
    "keywords = ['best', 'loved', 'good', 'great', 'beautiful', 'love', 'enjoyed', 'perfect', 'wonderful', 'nice', 'cool', 'treat', 'worth', 'classic', '10', 'terrific', 'superb', 'well']\n",
    "\n",
    "for key in keywords:\n",
    "    imdb[str(key)] = imdb.review.str.contains(' '+str(key)+ ' ', case=False)"
   ]
  },
  {
   "cell_type": "code",
   "execution_count": 22,
   "metadata": {},
   "outputs": [],
   "source": [
    "data = imdb[keywords]\n",
    "target = imdb['pos_neg']"
   ]
  },
  {
   "cell_type": "code",
   "execution_count": 24,
   "metadata": {},
   "outputs": [
    {
     "name": "stdout",
     "output_type": "stream",
     "text": [
      "With 30% Holdout: 0.6044444444444445\n",
      "Testing on Sample: 0.6163101604278075\n"
     ]
    }
   ],
   "source": [
    "from sklearn.model_selection import train_test_split\n",
    "# Use train_test_split to create the necessary training and test groups\n",
    "X_train, X_test, y_train, y_test = train_test_split(data, target, test_size=0.3, random_state=20)\n",
    "print('With 30% Holdout: ' + str(bnb.fit(X_train, y_train).score(X_test, y_test)))\n",
    "print('Testing on Sample: ' + str(bnb.fit(data, target).score(data, target)))"
   ]
  },
  {
   "cell_type": "code",
   "execution_count": 25,
   "metadata": {},
   "outputs": [
    {
     "data": {
      "text/plain": [
       "array([0.61842105, 0.59210526, 0.65333333, 0.6       , 0.64      ,\n",
       "       0.58666667, 0.68918919, 0.58108108, 0.59459459, 0.56756757])"
      ]
     },
     "execution_count": 25,
     "metadata": {},
     "output_type": "execute_result"
    }
   ],
   "source": [
    "from sklearn.model_selection import cross_val_score\n",
    "cross_val_score(bnb, data, target, cv=10)"
   ]
  },
  {
   "cell_type": "markdown",
   "metadata": {},
   "source": [
    "We do see better performance with the addition of more features so we will keep these additional features. "
   ]
  },
  {
   "cell_type": "code",
   "execution_count": null,
   "metadata": {},
   "outputs": [],
   "source": []
  }
 ],
 "metadata": {
  "kernelspec": {
   "display_name": "Python 3",
   "language": "python",
   "name": "python3"
  },
  "language_info": {
   "codemirror_mode": {
    "name": "ipython",
    "version": 3
   },
   "file_extension": ".py",
   "mimetype": "text/x-python",
   "name": "python",
   "nbconvert_exporter": "python",
   "pygments_lexer": "ipython3",
   "version": "3.6.3"
  }
 },
 "nbformat": 4,
 "nbformat_minor": 2
}
