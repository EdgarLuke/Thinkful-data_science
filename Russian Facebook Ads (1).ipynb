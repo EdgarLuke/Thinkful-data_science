{
 "cells": [
  {
   "cell_type": "markdown",
   "metadata": {},
   "source": [
    "For this analysis and research proposal, I'll be looking into the recently released data on Russian-linked Facebook ads, purchased by the Internet Research Agency (IRA) and identified by Facebook, during the 2016 presidential campaign. These ads and their corresponding data were published by Democrats on the House Permanent Select Committee on Intelligence (HPSCI). The reasoning behind this release according to the minority committee members was, \"As part of that continuing effort to educate the public and seek additional analysis, the Committee Minority is making available all IRA advertisements identified by Facebook\". This is a very interesting data set so let's see what types of questions and potential experiments can be derived from it. "
   ]
  },
  {
   "cell_type": "code",
   "execution_count": 1,
   "metadata": {},
   "outputs": [],
   "source": [
    "# Importing necessary modules for data and visual analysis\n",
    "import pandas as pd\n",
    "import numpy as np\n",
    "import seaborn as sns\n",
    "import matplotlib.pyplot as plt\n",
    "import scipy.stats as stats\n",
    "%matplotlib inline"
   ]
  },
  {
   "cell_type": "code",
   "execution_count": 2,
   "metadata": {},
   "outputs": [],
   "source": [
    "# Reading in the data set\n",
    "fbook = pd.read_csv('FacebookAds.csv')"
   ]
  },
  {
   "cell_type": "code",
   "execution_count": 3,
   "metadata": {},
   "outputs": [
    {
     "data": {
      "text/html": [
       "<div>\n",
       "<style scoped>\n",
       "    .dataframe tbody tr th:only-of-type {\n",
       "        vertical-align: middle;\n",
       "    }\n",
       "\n",
       "    .dataframe tbody tr th {\n",
       "        vertical-align: top;\n",
       "    }\n",
       "\n",
       "    .dataframe thead th {\n",
       "        text-align: right;\n",
       "    }\n",
       "</style>\n",
       "<table border=\"1\" class=\"dataframe\">\n",
       "  <thead>\n",
       "    <tr style=\"text-align: right;\">\n",
       "      <th></th>\n",
       "      <th>AdID</th>\n",
       "      <th>AdText</th>\n",
       "      <th>Impressions</th>\n",
       "      <th>Age</th>\n",
       "      <th>Clicks</th>\n",
       "      <th>CreationDate</th>\n",
       "      <th>EndDate</th>\n",
       "      <th>Location</th>\n",
       "      <th>Behaviors</th>\n",
       "      <th>Placements</th>\n",
       "      <th>...</th>\n",
       "      <th>Language</th>\n",
       "      <th>FriendsOfConnections</th>\n",
       "      <th>ExcludedConnections</th>\n",
       "      <th>Gender</th>\n",
       "      <th>Generation</th>\n",
       "      <th>Politics</th>\n",
       "      <th>AdSpend</th>\n",
       "      <th>AdSpendCurrency</th>\n",
       "      <th>SourceFile</th>\n",
       "      <th>SourceZip</th>\n",
       "    </tr>\n",
       "  </thead>\n",
       "  <tbody>\n",
       "    <tr>\n",
       "      <th>0</th>\n",
       "      <td>374</td>\n",
       "      <td>Join us because we care. Black matters.</td>\n",
       "      <td>137.0</td>\n",
       "      <td>18 - 65+</td>\n",
       "      <td>0.0</td>\n",
       "      <td>06/10/15 02:59:53 AM PDT</td>\n",
       "      <td>NaN</td>\n",
       "      <td>United States: Baltimore (+20 km) Maryland; St...</td>\n",
       "      <td>NaN</td>\n",
       "      <td>News Feed on desktop computers or News Feed on...</td>\n",
       "      <td>...</td>\n",
       "      <td>English (UK) or English (US)</td>\n",
       "      <td>NaN</td>\n",
       "      <td>Exclude people who like Black Matters</td>\n",
       "      <td>NaN</td>\n",
       "      <td>NaN</td>\n",
       "      <td>NaN</td>\n",
       "      <td>44.87</td>\n",
       "      <td>RUB</td>\n",
       "      <td>/2015-06/P(1)0000054.pdf</td>\n",
       "      <td>2015-q2.zip</td>\n",
       "    </tr>\n",
       "    <tr>\n",
       "      <th>1</th>\n",
       "      <td>655</td>\n",
       "      <td>NOT EVERY BOY WANTS TO BE A SOLDIER. A beautif...</td>\n",
       "      <td>452.0</td>\n",
       "      <td>18 - 65+</td>\n",
       "      <td>35.0</td>\n",
       "      <td>06/23/15 07:04:01 AM PDT</td>\n",
       "      <td>06/24/15 07:04:00 AM PDT</td>\n",
       "      <td>Living In: United States</td>\n",
       "      <td>NaN</td>\n",
       "      <td>News Feed on desktop computers or News Feed on...</td>\n",
       "      <td>...</td>\n",
       "      <td>NaN</td>\n",
       "      <td>Friends of people who are connected to LGBT Un...</td>\n",
       "      <td>NaN</td>\n",
       "      <td>NaN</td>\n",
       "      <td>NaN</td>\n",
       "      <td>NaN</td>\n",
       "      <td>184.81</td>\n",
       "      <td>RUB</td>\n",
       "      <td>/2015-06/P(1)0000180.pdf</td>\n",
       "      <td>2015-q2.zip</td>\n",
       "    </tr>\n",
       "    <tr>\n",
       "      <th>2</th>\n",
       "      <td>664</td>\n",
       "      <td>\"People can tolerate two homosexuals they see ...</td>\n",
       "      <td>37.0</td>\n",
       "      <td>18 - 65+</td>\n",
       "      <td>4.0</td>\n",
       "      <td>06/23/15 07:02:40 AM PDT</td>\n",
       "      <td>06/24/15 07:02:39 AM PDT</td>\n",
       "      <td>Living In: United States</td>\n",
       "      <td>NaN</td>\n",
       "      <td>News Feed on desktop computers or News Feed on...</td>\n",
       "      <td>...</td>\n",
       "      <td>NaN</td>\n",
       "      <td>Friends of people who are connected to LGBT Un...</td>\n",
       "      <td>NaN</td>\n",
       "      <td>NaN</td>\n",
       "      <td>NaN</td>\n",
       "      <td>NaN</td>\n",
       "      <td>99.95</td>\n",
       "      <td>RUB</td>\n",
       "      <td>/2015-06/P(1)0000182.pdf</td>\n",
       "      <td>2015-q2.zip</td>\n",
       "    </tr>\n",
       "    <tr>\n",
       "      <th>3</th>\n",
       "      <td>79</td>\n",
       "      <td>?????? ??? ????? ? ??????????</td>\n",
       "      <td>31.0</td>\n",
       "      <td>18 - 65+</td>\n",
       "      <td>0.0</td>\n",
       "      <td>06/09/15 03:50:21 AM PDT</td>\n",
       "      <td>06/11/15 03:48:00 AM PDT</td>\n",
       "      <td>United States</td>\n",
       "      <td>NaN</td>\n",
       "      <td>News Feed on desktop computers, News Feed on m...</td>\n",
       "      <td>...</td>\n",
       "      <td>English (UK) or English (US)</td>\n",
       "      <td>NaN</td>\n",
       "      <td>Exclude people who like L for life</td>\n",
       "      <td>NaN</td>\n",
       "      <td>NaN</td>\n",
       "      <td>NaN</td>\n",
       "      <td>33.59</td>\n",
       "      <td>RUB</td>\n",
       "      <td>/2015-06/P(1)0001844.pdf</td>\n",
       "      <td>2015-q2.zip</td>\n",
       "    </tr>\n",
       "    <tr>\n",
       "      <th>4</th>\n",
       "      <td>325</td>\n",
       "      <td>California... knows how to party California......</td>\n",
       "      <td>326.0</td>\n",
       "      <td>18 - 65+</td>\n",
       "      <td>4.0</td>\n",
       "      <td>06/10/15 07:34:52 AM PDT</td>\n",
       "      <td>06/11/15 07:34:51 AM PDT</td>\n",
       "      <td>United States: Baltimore Maryland; Ferguson, S...</td>\n",
       "      <td>NaN</td>\n",
       "      <td>News Feed on desktop computers or News Feed on...</td>\n",
       "      <td>...</td>\n",
       "      <td>NaN</td>\n",
       "      <td>NaN</td>\n",
       "      <td>NaN</td>\n",
       "      <td>NaN</td>\n",
       "      <td>NaN</td>\n",
       "      <td>NaN</td>\n",
       "      <td>45.94</td>\n",
       "      <td>RUB</td>\n",
       "      <td>/2015-06/P(1)0002111.pdf</td>\n",
       "      <td>2015-q2.zip</td>\n",
       "    </tr>\n",
       "  </tbody>\n",
       "</table>\n",
       "<p>5 rows × 22 columns</p>\n",
       "</div>"
      ],
      "text/plain": [
       "   AdID                                             AdText  Impressions  \\\n",
       "0   374            Join us because we care. Black matters.        137.0   \n",
       "1   655  NOT EVERY BOY WANTS TO BE A SOLDIER. A beautif...        452.0   \n",
       "2   664  \"People can tolerate two homosexuals they see ...         37.0   \n",
       "3    79                      ?????? ??? ????? ? ??????????         31.0   \n",
       "4   325  California... knows how to party California......        326.0   \n",
       "\n",
       "        Age  Clicks              CreationDate                   EndDate  \\\n",
       "0  18 - 65+     0.0  06/10/15 02:59:53 AM PDT                       NaN   \n",
       "1  18 - 65+    35.0  06/23/15 07:04:01 AM PDT  06/24/15 07:04:00 AM PDT   \n",
       "2  18 - 65+     4.0  06/23/15 07:02:40 AM PDT  06/24/15 07:02:39 AM PDT   \n",
       "3  18 - 65+     0.0  06/09/15 03:50:21 AM PDT  06/11/15 03:48:00 AM PDT   \n",
       "4  18 - 65+     4.0  06/10/15 07:34:52 AM PDT  06/11/15 07:34:51 AM PDT   \n",
       "\n",
       "                                            Location Behaviors  \\\n",
       "0  United States: Baltimore (+20 km) Maryland; St...       NaN   \n",
       "1                           Living In: United States       NaN   \n",
       "2                           Living In: United States       NaN   \n",
       "3                                      United States       NaN   \n",
       "4  United States: Baltimore Maryland; Ferguson, S...       NaN   \n",
       "\n",
       "                                          Placements     ...       \\\n",
       "0  News Feed on desktop computers or News Feed on...     ...        \n",
       "1  News Feed on desktop computers or News Feed on...     ...        \n",
       "2  News Feed on desktop computers or News Feed on...     ...        \n",
       "3  News Feed on desktop computers, News Feed on m...     ...        \n",
       "4  News Feed on desktop computers or News Feed on...     ...        \n",
       "\n",
       "                       Language  \\\n",
       "0  English (UK) or English (US)   \n",
       "1                           NaN   \n",
       "2                           NaN   \n",
       "3  English (UK) or English (US)   \n",
       "4                           NaN   \n",
       "\n",
       "                                FriendsOfConnections  \\\n",
       "0                                                NaN   \n",
       "1  Friends of people who are connected to LGBT Un...   \n",
       "2  Friends of people who are connected to LGBT Un...   \n",
       "3                                                NaN   \n",
       "4                                                NaN   \n",
       "\n",
       "                     ExcludedConnections Gender Generation Politics AdSpend  \\\n",
       "0  Exclude people who like Black Matters    NaN        NaN      NaN   44.87   \n",
       "1                                    NaN    NaN        NaN      NaN  184.81   \n",
       "2                                    NaN    NaN        NaN      NaN   99.95   \n",
       "3     Exclude people who like L for life    NaN        NaN      NaN   33.59   \n",
       "4                                    NaN    NaN        NaN      NaN   45.94   \n",
       "\n",
       "  AdSpendCurrency                SourceFile    SourceZip  \n",
       "0             RUB  /2015-06/P(1)0000054.pdf  2015-q2.zip  \n",
       "1             RUB  /2015-06/P(1)0000180.pdf  2015-q2.zip  \n",
       "2             RUB  /2015-06/P(1)0000182.pdf  2015-q2.zip  \n",
       "3             RUB  /2015-06/P(1)0001844.pdf  2015-q2.zip  \n",
       "4             RUB  /2015-06/P(1)0002111.pdf  2015-q2.zip  \n",
       "\n",
       "[5 rows x 22 columns]"
      ]
     },
     "execution_count": 3,
     "metadata": {},
     "output_type": "execute_result"
    }
   ],
   "source": [
    "# Taking a first look at the data, its column info and types of data recorded\n",
    "fbook.head()"
   ]
  },
  {
   "cell_type": "markdown",
   "metadata": {},
   "source": [
    "Taking a look at the dataset, we have a wide range of info for each ad including the ad text, number of views(impressions), targeted age ranges, clicks, creation and end dates, etc. Now that we have a sense of the breadth of the data, consisting of continuous and categorical data, just how much data,  a.k.a. how many ads, do we have to explore? "
   ]
  },
  {
   "cell_type": "code",
   "execution_count": 4,
   "metadata": {},
   "outputs": [
    {
     "data": {
      "text/plain": [
       "(3516, 22)"
      ]
     },
     "execution_count": 4,
     "metadata": {},
     "output_type": "execute_result"
    }
   ],
   "source": [
    "# To get a better sense of the amount of data we're working with, examine the shape of the dataframe\n",
    "fbook.shape"
   ]
  },
  {
   "cell_type": "markdown",
   "metadata": {},
   "source": [
    "It appears we have data for roughly 3,500 ads purchased by the Russia-based IRA, with 22 columns describing specific aspects of each ad. A better understanding of this data will require a bit more exploration which I would like to focus on how broad a target were these ads aimed at, what potential impacts these ads had, how much money was spent on these ads and how might these variables be correlated?"
   ]
  },
  {
   "cell_type": "code",
   "execution_count": 5,
   "metadata": {},
   "outputs": [],
   "source": [
    "# For cleaner viz, set visualization to default Seaborn parameters\n",
    "sns.set()"
   ]
  },
  {
   "cell_type": "code",
   "execution_count": 6,
   "metadata": {},
   "outputs": [
    {
     "data": {
      "image/png": "[encoded data removed]",
      "text/plain": [
       "<matplotlib.figure.Figure at 0x105abed30>"
      ]
     },
     "metadata": {},
     "output_type": "display_data"
    }
   ],
   "source": [
    "# Examining the age ranges targeted by the Russian-linked ads\n",
    "fbook.Age.value_counts().head(10).plot(kind='bar', figsize=(15,5))\n",
    "plt.xlabel('Targeted Age Range')\n",
    "plt.ylabel('Number of Ads')\n",
    "plt.show()"
   ]
  },
  {
   "cell_type": "markdown",
   "metadata": {},
   "source": [
    "Taking a look at how the ads were targeted by age, it appears almost all of the ads were aimed at the widest range of possible ages. So the age of Facebook users is not what drove the targeting of the ads. Since we have a column for gender, let's see if there was a gendered aspect to how these ads were placed. "
   ]
  },
  {
   "cell_type": "code",
   "execution_count": 7,
   "metadata": {
    "scrolled": true
   },
   "outputs": [
    {
     "data": {
      "image/png": "[encoded data removed]",
      "text/plain": [
       "<matplotlib.figure.Figure at 0x1141d7588>"
      ]
     },
     "metadata": {},
     "output_type": "display_data"
    }
   ],
   "source": [
    "plt.subplot(1,2,1)\n",
    "fbook['Gender'].value_counts().plot(kind='bar')\n",
    "plt.title(\"Number of Ads Targeted by Gender\")\n",
    "\n",
    "plt.subplot(1,2,2)\n",
    "sns.barplot(x='Gender', y='Clicks', data=fbook)\n",
    "plt.title('Average # of Clicks by Gender')\n",
    "plt.tight_layout()\n",
    "\n",
    "plt.show()"
   ]
  },
  {
   "cell_type": "markdown",
   "metadata": {},
   "source": [
    "From these plots, we can see that a relatively small number of ads were targeted by gender, roughly 150 out of 3500, yet more than double the ads were targeted at males with over 100 while only 40 were targeted at females. However, when looking at the average number of clicks generated by each group, female-targeted ads have more than double the average clicks that male targeted ads received although this overrepresentation of female clicks could be explained by any high outliers dragging mean clicks up.  "
   ]
  },
  {
   "cell_type": "code",
   "execution_count": 8,
   "metadata": {},
   "outputs": [
    {
     "data": {
      "text/plain": [
       "count    3.456000e+03\n",
       "mean     2.130852e+03\n",
       "std      7.326575e+04\n",
       "min      0.000000e+00\n",
       "25%      0.000000e+00\n",
       "50%      4.700000e+01\n",
       "75%      5.410000e+02\n",
       "max      4.303896e+06\n",
       "Name: Clicks, dtype: float64"
      ]
     },
     "execution_count": 8,
     "metadata": {},
     "output_type": "execute_result"
    }
   ],
   "source": [
    "fbook.Clicks.dropna().describe()"
   ]
  },
  {
   "cell_type": "code",
   "execution_count": 9,
   "metadata": {
    "scrolled": true
   },
   "outputs": [
    {
     "data": {
      "text/html": [
       "<div>\n",
       "<style scoped>\n",
       "    .dataframe tbody tr th:only-of-type {\n",
       "        vertical-align: middle;\n",
       "    }\n",
       "\n",
       "    .dataframe tbody tr th {\n",
       "        vertical-align: top;\n",
       "    }\n",
       "\n",
       "    .dataframe thead tr th {\n",
       "        text-align: left;\n",
       "    }\n",
       "\n",
       "    .dataframe thead tr:last-of-type th {\n",
       "        text-align: right;\n",
       "    }\n",
       "</style>\n",
       "<table border=\"1\" class=\"dataframe\">\n",
       "  <thead>\n",
       "    <tr>\n",
       "      <th></th>\n",
       "      <th colspan=\"8\" halign=\"left\">Clicks</th>\n",
       "    </tr>\n",
       "    <tr>\n",
       "      <th></th>\n",
       "      <th>count</th>\n",
       "      <th>mean</th>\n",
       "      <th>std</th>\n",
       "      <th>min</th>\n",
       "      <th>25%</th>\n",
       "      <th>50%</th>\n",
       "      <th>75%</th>\n",
       "      <th>max</th>\n",
       "    </tr>\n",
       "    <tr>\n",
       "      <th>Gender</th>\n",
       "      <th></th>\n",
       "      <th></th>\n",
       "      <th></th>\n",
       "      <th></th>\n",
       "      <th></th>\n",
       "      <th></th>\n",
       "      <th></th>\n",
       "      <th></th>\n",
       "    </tr>\n",
       "  </thead>\n",
       "  <tbody>\n",
       "    <tr>\n",
       "      <th>Female</th>\n",
       "      <td>40.0</td>\n",
       "      <td>264.150000</td>\n",
       "      <td>828.877200</td>\n",
       "      <td>0.0</td>\n",
       "      <td>0.0</td>\n",
       "      <td>0.0</td>\n",
       "      <td>1.25</td>\n",
       "      <td>3501.0</td>\n",
       "    </tr>\n",
       "    <tr>\n",
       "      <th>Male</th>\n",
       "      <td>108.0</td>\n",
       "      <td>122.518519</td>\n",
       "      <td>483.315951</td>\n",
       "      <td>0.0</td>\n",
       "      <td>0.0</td>\n",
       "      <td>0.0</td>\n",
       "      <td>0.00</td>\n",
       "      <td>3160.0</td>\n",
       "    </tr>\n",
       "  </tbody>\n",
       "</table>\n",
       "</div>"
      ],
      "text/plain": [
       "       Clicks                                                     \n",
       "        count        mean         std  min  25%  50%   75%     max\n",
       "Gender                                                            \n",
       "Female   40.0  264.150000  828.877200  0.0  0.0  0.0  1.25  3501.0\n",
       "Male    108.0  122.518519  483.315951  0.0  0.0  0.0  0.00  3160.0"
      ]
     },
     "execution_count": 9,
     "metadata": {},
     "output_type": "execute_result"
    }
   ],
   "source": [
    "fbook[['Clicks', 'Gender']].dropna().groupby('Gender').describe()"
   ]
  },
  {
   "cell_type": "code",
   "execution_count": 11,
   "metadata": {},
   "outputs": [
    {
     "data": {
      "image/png": "[encoded data removed]",
      "text/plain": [
       "<matplotlib.figure.Figure at 0x114758400>"
      ]
     },
     "metadata": {},
     "output_type": "display_data"
    }
   ],
   "source": [
    "sns.boxplot(fbook['Clicks'], fbook['Gender'], hue='Gender', data=fbook)\n",
    "plt.show()"
   ]
  },
  {
   "cell_type": "markdown",
   "metadata": {},
   "source": [
    "From this plot, there appear to be several possible outliers for male and female targeted ads. Let's drop rows with values that lie outside of 1.5 x IQR to get a better sense of the data."
   ]
  },
  {
   "cell_type": "code",
   "execution_count": 12,
   "metadata": {},
   "outputs": [],
   "source": [
    "# Function that drops outliers based on specified column\n",
    "def remove_outlier(df_in, col_name):\n",
    "    q1 = df_in[col_name].quantile(0.25)\n",
    "    q3 = df_in[col_name].quantile(0.75)\n",
    "    iqr = q3-q1 #Interquartile range\n",
    "    fence_low  = q1-1.5*iqr\n",
    "    fence_high = q3+1.5*iqr\n",
    "    df_out = df_in.loc[(df_in[col_name] > fence_low) & (df_in[col_name] < fence_high)]\n",
    "    return df_out"
   ]
  },
  {
   "cell_type": "code",
   "execution_count": 13,
   "metadata": {},
   "outputs": [],
   "source": [
    "# Perform drop on outliers to clean data. \n",
    "fbook = remove_outlier(fbook, 'Clicks')"
   ]
  },
  {
   "cell_type": "code",
   "execution_count": 14,
   "metadata": {},
   "outputs": [
    {
     "data": {
      "image/png": "[encoded data removed]",
      "text/plain": [
       "<matplotlib.figure.Figure at 0x1148f8080>"
      ]
     },
     "metadata": {},
     "output_type": "display_data"
    }
   ],
   "source": [
    "sns.boxplot(fbook['Clicks'], fbook['Gender'], hue='Gender', data=fbook)\n",
    "plt.show()"
   ]
  },
  {
   "cell_type": "code",
   "execution_count": 15,
   "metadata": {},
   "outputs": [
    {
     "data": {
      "image/png": "[encoded data removed]",
      "text/plain": [
       "<matplotlib.figure.Figure at 0x114b93860>"
      ]
     },
     "metadata": {},
     "output_type": "display_data"
    }
   ],
   "source": [
    "plt.subplot(1,2,1)\n",
    "fbook['Gender'].value_counts().plot(kind='bar')\n",
    "plt.title(\"Number of Ads Targeted by Gender\")\n",
    "\n",
    "plt.subplot(1,2,2)\n",
    "sns.barplot(x='Gender', y='Clicks', data=fbook)\n",
    "plt.title('Average # of Clicks by Gender')\n",
    "plt.tight_layout()\n",
    "\n",
    "plt.show()"
   ]
  },
  {
   "cell_type": "markdown",
   "metadata": {},
   "source": [
    "Now with outliers removed from dataset, we still see the disparity by gender between targeted ads, but the average number of clicks between male and female targeted ads are basically equal, although still quite a large error bar for female targeted ads. "
   ]
  },
  {
   "cell_type": "markdown",
   "metadata": {},
   "source": [
    "My next area of inquiry is where were these ads placed? Were they focused on one particular platform or more broadly targeted?"
   ]
  },
  {
   "cell_type": "code",
   "execution_count": 16,
   "metadata": {},
   "outputs": [
    {
     "data": {
      "image/png": "[encoded data removed]",
      "text/plain": [
       "<matplotlib.figure.Figure at 0x1149ed080>"
      ]
     },
     "metadata": {},
     "output_type": "display_data"
    }
   ],
   "source": [
    "sns.set()\n",
    "fbook.Placements.value_counts().head(10).plot(kind='bar')\n",
    "plt.show()"
   ]
  },
  {
   "cell_type": "code",
   "execution_count": 17,
   "metadata": {},
   "outputs": [
    {
     "data": {
      "text/html": [
       "<div>\n",
       "<style scoped>\n",
       "    .dataframe tbody tr th:only-of-type {\n",
       "        vertical-align: middle;\n",
       "    }\n",
       "\n",
       "    .dataframe tbody tr th {\n",
       "        vertical-align: top;\n",
       "    }\n",
       "\n",
       "    .dataframe thead th {\n",
       "        text-align: right;\n",
       "    }\n",
       "</style>\n",
       "<table border=\"1\" class=\"dataframe\">\n",
       "  <thead>\n",
       "    <tr style=\"text-align: right;\">\n",
       "      <th></th>\n",
       "      <th>AdText</th>\n",
       "      <th>Clicks</th>\n",
       "      <th>CreationDate</th>\n",
       "      <th>EndDate</th>\n",
       "    </tr>\n",
       "  </thead>\n",
       "  <tbody>\n",
       "    <tr>\n",
       "      <th>2964</th>\n",
       "      <td>The legendary tennis player Serena Williams ha...</td>\n",
       "      <td>1348.0</td>\n",
       "      <td>05/19/17 07:30:24 AM PDT</td>\n",
       "      <td>05/20/17 07:30:24 AM PDT</td>\n",
       "    </tr>\n",
       "    <tr>\n",
       "      <th>2820</th>\n",
       "      <td>Brown Power is a platform designed to educate,...</td>\n",
       "      <td>1342.0</td>\n",
       "      <td>04/25/17 05:56:10 AM PDT</td>\n",
       "      <td>NaN</td>\n",
       "    </tr>\n",
       "    <tr>\n",
       "      <th>3385</th>\n",
       "      <td>Let's make it go viral! Like and share!</td>\n",
       "      <td>1342.0</td>\n",
       "      <td>03/28/17 05:09:49 AM PDT</td>\n",
       "      <td>03/29/17 05:09:49 AM PDT</td>\n",
       "    </tr>\n",
       "    <tr>\n",
       "      <th>2541</th>\n",
       "      <td>Proud moments! Preschool , High School and Col...</td>\n",
       "      <td>1340.0</td>\n",
       "      <td>04/21/17 04:34:00 PM PDT</td>\n",
       "      <td>NaN</td>\n",
       "    </tr>\n",
       "    <tr>\n",
       "      <th>2554</th>\n",
       "      <td>Are you ready to protect your community?</td>\n",
       "      <td>1338.0</td>\n",
       "      <td>04/28/17 07:53:48 AM PDT</td>\n",
       "      <td>04/29/17 07:53:48 AM PDT</td>\n",
       "    </tr>\n",
       "    <tr>\n",
       "      <th>2628</th>\n",
       "      <td>Actor and comedian Charlie Murphy died at the ...</td>\n",
       "      <td>1337.0</td>\n",
       "      <td>04/13/17 04:40:03 AM PDT</td>\n",
       "      <td>04/14/17 12:00:00 PM PDT</td>\n",
       "    </tr>\n",
       "    <tr>\n",
       "      <th>3050</th>\n",
       "      <td>Would you buy it for your girlfriend?</td>\n",
       "      <td>1332.0</td>\n",
       "      <td>05/18/17 04:51:43 AM PDT</td>\n",
       "      <td>05/19/17 08:05:00 AM PDT</td>\n",
       "    </tr>\n",
       "    <tr>\n",
       "      <th>2643</th>\n",
       "      <td>Unconditional love and God is her secret to li...</td>\n",
       "      <td>1325.0</td>\n",
       "      <td>04/21/17 05:44:37 AM PDT</td>\n",
       "      <td>04/23/17 08:00:00 AM PDT</td>\n",
       "    </tr>\n",
       "    <tr>\n",
       "      <th>2750</th>\n",
       "      <td>Natural heirs of Aztlan.</td>\n",
       "      <td>1318.0</td>\n",
       "      <td>04/18/17 07:36:30 AM PDT</td>\n",
       "      <td>04/19/17 08:20:00 AM PDT</td>\n",
       "    </tr>\n",
       "    <tr>\n",
       "      <th>2336</th>\n",
       "      <td>This holiday season, take some time to visit y...</td>\n",
       "      <td>1314.0</td>\n",
       "      <td>12/27/16 05:42:56 AM PST</td>\n",
       "      <td>12/28/16 05:42:56 AM PST</td>\n",
       "    </tr>\n",
       "    <tr>\n",
       "      <th>1608</th>\n",
       "      <td>Hillary Clinton is the co-author of Obama's an...</td>\n",
       "      <td>1312.0</td>\n",
       "      <td>07/12/16 02:52:38 AM PDT</td>\n",
       "      <td>07/23/16 02:52:36 AM PDT</td>\n",
       "    </tr>\n",
       "    <tr>\n",
       "      <th>2265</th>\n",
       "      <td>#NotMyPresident hashtag has become popular aft...</td>\n",
       "      <td>1310.0</td>\n",
       "      <td>11/11/16 04:48:49 AM PST</td>\n",
       "      <td>NaN</td>\n",
       "    </tr>\n",
       "    <tr>\n",
       "      <th>291</th>\n",
       "      <td>Dear patriots, today we start our new competit...</td>\n",
       "      <td>1310.0</td>\n",
       "      <td>08/14/15 07:32:52 AM PDT</td>\n",
       "      <td>08/19/15 06:17:00 AM PDT</td>\n",
       "    </tr>\n",
       "    <tr>\n",
       "      <th>2814</th>\n",
       "      <td>Black Queens made history and keep making hist...</td>\n",
       "      <td>1300.0</td>\n",
       "      <td>04/13/17 07:01:59 AM PDT</td>\n",
       "      <td>04/14/17 08:00:00 AM PDT</td>\n",
       "    </tr>\n",
       "    <tr>\n",
       "      <th>1519</th>\n",
       "      <td>A 58-year-old man from India was violently sla...</td>\n",
       "      <td>1300.0</td>\n",
       "      <td>06/07/16 01:34:40 AM PDT</td>\n",
       "      <td>06/08/16 01:34:39 AM PDT</td>\n",
       "    </tr>\n",
       "    <tr>\n",
       "      <th>2499</th>\n",
       "      <td>Possible.</td>\n",
       "      <td>1293.0</td>\n",
       "      <td>04/17/17 08:15:54 AM PDT</td>\n",
       "      <td>NaN</td>\n",
       "    </tr>\n",
       "    <tr>\n",
       "      <th>352</th>\n",
       "      <td>Heart of Texas! Time to secede!</td>\n",
       "      <td>1290.0</td>\n",
       "      <td>09/22/15 07:44:46 AM PDT</td>\n",
       "      <td>NaN</td>\n",
       "    </tr>\n",
       "    <tr>\n",
       "      <th>2647</th>\n",
       "      <td>Comment if you like this show.</td>\n",
       "      <td>1290.0</td>\n",
       "      <td>04/14/17 07:09:51 AM PDT</td>\n",
       "      <td>NaN</td>\n",
       "    </tr>\n",
       "    <tr>\n",
       "      <th>2885</th>\n",
       "      <td>STOP BOMBING SYRIA!!!</td>\n",
       "      <td>1289.0</td>\n",
       "      <td>NaN</td>\n",
       "      <td>NaN</td>\n",
       "    </tr>\n",
       "    <tr>\n",
       "      <th>2297</th>\n",
       "      <td>Knowledge will free you! Buy here: https://rep...</td>\n",
       "      <td>1288.0</td>\n",
       "      <td>NaN</td>\n",
       "      <td>NaN</td>\n",
       "    </tr>\n",
       "  </tbody>\n",
       "</table>\n",
       "</div>"
      ],
      "text/plain": [
       "                                                 AdText  Clicks  \\\n",
       "2964  The legendary tennis player Serena Williams ha...  1348.0   \n",
       "2820  Brown Power is a platform designed to educate,...  1342.0   \n",
       "3385            Let's make it go viral! Like and share!  1342.0   \n",
       "2541  Proud moments! Preschool , High School and Col...  1340.0   \n",
       "2554           Are you ready to protect your community?  1338.0   \n",
       "2628  Actor and comedian Charlie Murphy died at the ...  1337.0   \n",
       "3050              Would you buy it for your girlfriend?  1332.0   \n",
       "2643  Unconditional love and God is her secret to li...  1325.0   \n",
       "2750                           Natural heirs of Aztlan.  1318.0   \n",
       "2336  This holiday season, take some time to visit y...  1314.0   \n",
       "1608  Hillary Clinton is the co-author of Obama's an...  1312.0   \n",
       "2265  #NotMyPresident hashtag has become popular aft...  1310.0   \n",
       "291   Dear patriots, today we start our new competit...  1310.0   \n",
       "2814  Black Queens made history and keep making hist...  1300.0   \n",
       "1519  A 58-year-old man from India was violently sla...  1300.0   \n",
       "2499                                          Possible.  1293.0   \n",
       "352                     Heart of Texas! Time to secede!  1290.0   \n",
       "2647                     Comment if you like this show.  1290.0   \n",
       "2885                              STOP BOMBING SYRIA!!!  1289.0   \n",
       "2297  Knowledge will free you! Buy here: https://rep...  1288.0   \n",
       "\n",
       "                  CreationDate                   EndDate  \n",
       "2964  05/19/17 07:30:24 AM PDT  05/20/17 07:30:24 AM PDT  \n",
       "2820  04/25/17 05:56:10 AM PDT                       NaN  \n",
       "3385  03/28/17 05:09:49 AM PDT  03/29/17 05:09:49 AM PDT  \n",
       "2541  04/21/17 04:34:00 PM PDT                       NaN  \n",
       "2554  04/28/17 07:53:48 AM PDT  04/29/17 07:53:48 AM PDT  \n",
       "2628  04/13/17 04:40:03 AM PDT  04/14/17 12:00:00 PM PDT  \n",
       "3050  05/18/17 04:51:43 AM PDT  05/19/17 08:05:00 AM PDT  \n",
       "2643  04/21/17 05:44:37 AM PDT  04/23/17 08:00:00 AM PDT  \n",
       "2750  04/18/17 07:36:30 AM PDT  04/19/17 08:20:00 AM PDT  \n",
       "2336  12/27/16 05:42:56 AM PST  12/28/16 05:42:56 AM PST  \n",
       "1608  07/12/16 02:52:38 AM PDT  07/23/16 02:52:36 AM PDT  \n",
       "2265  11/11/16 04:48:49 AM PST                       NaN  \n",
       "291   08/14/15 07:32:52 AM PDT  08/19/15 06:17:00 AM PDT  \n",
       "2814  04/13/17 07:01:59 AM PDT  04/14/17 08:00:00 AM PDT  \n",
       "1519  06/07/16 01:34:40 AM PDT  06/08/16 01:34:39 AM PDT  \n",
       "2499  04/17/17 08:15:54 AM PDT                       NaN  \n",
       "352   09/22/15 07:44:46 AM PDT                       NaN  \n",
       "2647  04/14/17 07:09:51 AM PDT                       NaN  \n",
       "2885                       NaN                       NaN  \n",
       "2297                       NaN                       NaN  "
      ]
     },
     "execution_count": 17,
     "metadata": {},
     "output_type": "execute_result"
    }
   ],
   "source": [
    "fbook[['AdText','Clicks', 'CreationDate', 'EndDate']].sort_values('Clicks', ascending=False).head(20)"
   ]
  },
  {
   "cell_type": "markdown",
   "metadata": {},
   "source": [
    "While ads appear to have been placed across several different aspects of the Facebook platform, the vast majority were placed in the News Feed on both desktop and mobile devices, and not particularly limited to one or the other. Nor were they targeted at specific pages that users were affiliated with. \n",
    "\n",
    "So we know these ads were targeted at the widest potential audience, but how much money was spent and did that correspond to an increased number of clicks? "
   ]
  },
  {
   "cell_type": "code",
   "execution_count": 18,
   "metadata": {},
   "outputs": [
    {
     "data": {
      "text/plain": [
       "count     1954.000000\n",
       "mean       818.155404\n",
       "std       1842.407397\n",
       "min          0.050000\n",
       "25%        100.000000\n",
       "50%        255.230000\n",
       "75%        531.745000\n",
       "max      27500.000000\n",
       "Name: AdSpend, dtype: float64"
      ]
     },
     "execution_count": 18,
     "metadata": {},
     "output_type": "execute_result"
    }
   ],
   "source": [
    "fbook.AdSpend.dropna().describe()"
   ]
  },
  {
   "cell_type": "code",
   "execution_count": 19,
   "metadata": {},
   "outputs": [
    {
     "name": "stdout",
     "output_type": "stream",
     "text": [
      "Total Ad Spend:  1598675.6600000001\n"
     ]
    }
   ],
   "source": [
    "print('Total Ad Spend: ', fbook.AdSpend.sum())"
   ]
  },
  {
   "cell_type": "markdown",
   "metadata": {},
   "source": [
    "The data shows ad spend varied quite significantly with the least being spent a mere \\$0.05 and max of \\$27,500, averaging out to around \\$818 per ad. The total spent on the ads amounted to \\$1,598,675. So how did this money perform in terms of clicks?"
   ]
  },
  {
   "cell_type": "code",
   "execution_count": 28,
   "metadata": {},
   "outputs": [
    {
     "data": {
      "text/html": [
       "<div>\n",
       "<style scoped>\n",
       "    .dataframe tbody tr th:only-of-type {\n",
       "        vertical-align: middle;\n",
       "    }\n",
       "\n",
       "    .dataframe tbody tr th {\n",
       "        vertical-align: top;\n",
       "    }\n",
       "\n",
       "    .dataframe thead th {\n",
       "        text-align: right;\n",
       "    }\n",
       "</style>\n",
       "<table border=\"1\" class=\"dataframe\">\n",
       "  <thead>\n",
       "    <tr style=\"text-align: right;\">\n",
       "      <th></th>\n",
       "      <th>Clicks</th>\n",
       "      <th>AdSpend</th>\n",
       "    </tr>\n",
       "  </thead>\n",
       "  <tbody>\n",
       "    <tr>\n",
       "      <th>2964</th>\n",
       "      <td>1348.0</td>\n",
       "      <td>300.00</td>\n",
       "    </tr>\n",
       "    <tr>\n",
       "      <th>2820</th>\n",
       "      <td>1342.0</td>\n",
       "      <td>4413.97</td>\n",
       "    </tr>\n",
       "    <tr>\n",
       "      <th>3385</th>\n",
       "      <td>1342.0</td>\n",
       "      <td>87.68</td>\n",
       "    </tr>\n",
       "    <tr>\n",
       "      <th>2541</th>\n",
       "      <td>1340.0</td>\n",
       "      <td>200.00</td>\n",
       "    </tr>\n",
       "    <tr>\n",
       "      <th>2554</th>\n",
       "      <td>1338.0</td>\n",
       "      <td>400.00</td>\n",
       "    </tr>\n",
       "    <tr>\n",
       "      <th>2628</th>\n",
       "      <td>1337.0</td>\n",
       "      <td>499.49</td>\n",
       "    </tr>\n",
       "    <tr>\n",
       "      <th>3050</th>\n",
       "      <td>1332.0</td>\n",
       "      <td>300.00</td>\n",
       "    </tr>\n",
       "    <tr>\n",
       "      <th>2643</th>\n",
       "      <td>1325.0</td>\n",
       "      <td>200.00</td>\n",
       "    </tr>\n",
       "    <tr>\n",
       "      <th>2750</th>\n",
       "      <td>1318.0</td>\n",
       "      <td>320.00</td>\n",
       "    </tr>\n",
       "    <tr>\n",
       "      <th>2336</th>\n",
       "      <td>1314.0</td>\n",
       "      <td>300.00</td>\n",
       "    </tr>\n",
       "    <tr>\n",
       "      <th>1608</th>\n",
       "      <td>1312.0</td>\n",
       "      <td>14705.68</td>\n",
       "    </tr>\n",
       "    <tr>\n",
       "      <th>291</th>\n",
       "      <td>1310.0</td>\n",
       "      <td>4886.23</td>\n",
       "    </tr>\n",
       "    <tr>\n",
       "      <th>2265</th>\n",
       "      <td>1310.0</td>\n",
       "      <td>1378.45</td>\n",
       "    </tr>\n",
       "    <tr>\n",
       "      <th>2814</th>\n",
       "      <td>1300.0</td>\n",
       "      <td>400.00</td>\n",
       "    </tr>\n",
       "    <tr>\n",
       "      <th>1519</th>\n",
       "      <td>1300.0</td>\n",
       "      <td>500.00</td>\n",
       "    </tr>\n",
       "  </tbody>\n",
       "</table>\n",
       "</div>"
      ],
      "text/plain": [
       "      Clicks   AdSpend\n",
       "2964  1348.0    300.00\n",
       "2820  1342.0   4413.97\n",
       "3385  1342.0     87.68\n",
       "2541  1340.0    200.00\n",
       "2554  1338.0    400.00\n",
       "2628  1337.0    499.49\n",
       "3050  1332.0    300.00\n",
       "2643  1325.0    200.00\n",
       "2750  1318.0    320.00\n",
       "2336  1314.0    300.00\n",
       "1608  1312.0  14705.68\n",
       "291   1310.0   4886.23\n",
       "2265  1310.0   1378.45\n",
       "2814  1300.0    400.00\n",
       "1519  1300.0    500.00"
      ]
     },
     "execution_count": 28,
     "metadata": {},
     "output_type": "execute_result"
    }
   ],
   "source": [
    "# Extract the top performing ads in terms of clicks and their corresponding Ad Spend\n",
    "fbook[['Clicks', 'AdSpend']].dropna().sort_values(by='Clicks', ascending=False).head(15)"
   ]
  },
  {
   "cell_type": "code",
   "execution_count": 29,
   "metadata": {},
   "outputs": [
    {
     "data": {
      "text/html": [
       "<div>\n",
       "<style scoped>\n",
       "    .dataframe tbody tr th:only-of-type {\n",
       "        vertical-align: middle;\n",
       "    }\n",
       "\n",
       "    .dataframe tbody tr th {\n",
       "        vertical-align: top;\n",
       "    }\n",
       "\n",
       "    .dataframe thead th {\n",
       "        text-align: right;\n",
       "    }\n",
       "</style>\n",
       "<table border=\"1\" class=\"dataframe\">\n",
       "  <thead>\n",
       "    <tr style=\"text-align: right;\">\n",
       "      <th></th>\n",
       "      <th>Clicks</th>\n",
       "      <th>AdSpend</th>\n",
       "    </tr>\n",
       "  </thead>\n",
       "  <tbody>\n",
       "    <tr>\n",
       "      <th>722</th>\n",
       "      <td>0.0</td>\n",
       "      <td>27500.00</td>\n",
       "    </tr>\n",
       "    <tr>\n",
       "      <th>759</th>\n",
       "      <td>819.0</td>\n",
       "      <td>20181.68</td>\n",
       "    </tr>\n",
       "    <tr>\n",
       "      <th>697</th>\n",
       "      <td>432.0</td>\n",
       "      <td>17339.78</td>\n",
       "    </tr>\n",
       "    <tr>\n",
       "      <th>908</th>\n",
       "      <td>857.0</td>\n",
       "      <td>17306.95</td>\n",
       "    </tr>\n",
       "    <tr>\n",
       "      <th>1677</th>\n",
       "      <td>865.0</td>\n",
       "      <td>17081.05</td>\n",
       "    </tr>\n",
       "    <tr>\n",
       "      <th>1777</th>\n",
       "      <td>873.0</td>\n",
       "      <td>15088.78</td>\n",
       "    </tr>\n",
       "    <tr>\n",
       "      <th>1698</th>\n",
       "      <td>65.0</td>\n",
       "      <td>14881.75</td>\n",
       "    </tr>\n",
       "    <tr>\n",
       "      <th>1608</th>\n",
       "      <td>1312.0</td>\n",
       "      <td>14705.68</td>\n",
       "    </tr>\n",
       "    <tr>\n",
       "      <th>1676</th>\n",
       "      <td>427.0</td>\n",
       "      <td>12918.43</td>\n",
       "    </tr>\n",
       "    <tr>\n",
       "      <th>2095</th>\n",
       "      <td>1.0</td>\n",
       "      <td>11399.64</td>\n",
       "    </tr>\n",
       "    <tr>\n",
       "      <th>836</th>\n",
       "      <td>977.0</td>\n",
       "      <td>11311.79</td>\n",
       "    </tr>\n",
       "    <tr>\n",
       "      <th>845</th>\n",
       "      <td>942.0</td>\n",
       "      <td>10921.57</td>\n",
       "    </tr>\n",
       "    <tr>\n",
       "      <th>1196</th>\n",
       "      <td>867.0</td>\n",
       "      <td>10892.53</td>\n",
       "    </tr>\n",
       "    <tr>\n",
       "      <th>1568</th>\n",
       "      <td>1079.0</td>\n",
       "      <td>10370.08</td>\n",
       "    </tr>\n",
       "    <tr>\n",
       "      <th>451</th>\n",
       "      <td>877.0</td>\n",
       "      <td>10012.58</td>\n",
       "    </tr>\n",
       "  </tbody>\n",
       "</table>\n",
       "</div>"
      ],
      "text/plain": [
       "      Clicks   AdSpend\n",
       "722      0.0  27500.00\n",
       "759    819.0  20181.68\n",
       "697    432.0  17339.78\n",
       "908    857.0  17306.95\n",
       "1677   865.0  17081.05\n",
       "1777   873.0  15088.78\n",
       "1698    65.0  14881.75\n",
       "1608  1312.0  14705.68\n",
       "1676   427.0  12918.43\n",
       "2095     1.0  11399.64\n",
       "836    977.0  11311.79\n",
       "845    942.0  10921.57\n",
       "1196   867.0  10892.53\n",
       "1568  1079.0  10370.08\n",
       "451    877.0  10012.58"
      ]
     },
     "execution_count": 29,
     "metadata": {},
     "output_type": "execute_result"
    }
   ],
   "source": [
    "fbook[['Clicks', 'AdSpend']].dropna().sort_values(by='AdSpend', ascending=False).head(15)"
   ]
  },
  {
   "cell_type": "markdown",
   "metadata": {},
   "source": [
    "Examining the data in terms of clicks by ad spend, we can see that larger ad spend doesn't necessarily mean a higher click count. The highest performance in clicks only had an ad spend of \\$300 while the next highest performance by clicks had an ad spend of roughly \\$4,414. Let's look at this graphically to get a sense of performance by ad spend and examine the correlation between these 2 variables. "
   ]
  },
  {
   "cell_type": "code",
   "execution_count": 30,
   "metadata": {},
   "outputs": [
    {
     "data": {
      "image/png": "[encoded data removed]",
      "text/plain": [
       "<matplotlib.figure.Figure at 0x115a90320>"
      ]
     },
     "metadata": {},
     "output_type": "display_data"
    }
   ],
   "source": [
    "# Plot the relationship between Ad Spend and Clicks\n",
    "sns.regplot('AdSpend', 'Clicks', data=fbook)\n",
    "plt.xlabel('Expenditure per Ad')\n",
    "plt.ylabel('Clicks')\n",
    "plt.show()"
   ]
  },
  {
   "cell_type": "markdown",
   "metadata": {},
   "source": [
    "As for any correlation between the 2 variables, I'd like to see what sort of t-value and p-value exist for these variables. If our null hypothesis is that the two variables are uncorrelated, we can expect a p-value greater than 0.05, elsewise we can consider ad spend a potential factor in any experiment we conduct."
   ]
  },
  {
   "cell_type": "code",
   "execution_count": 31,
   "metadata": {},
   "outputs": [
    {
     "data": {
      "text/plain": [
       "Ttest_indResult(statistic=-18.991842728420814, pvalue=1.1905453436538214e-77)"
      ]
     },
     "execution_count": 31,
     "metadata": {},
     "output_type": "execute_result"
    }
   ],
   "source": [
    "stats.ttest_ind(fbook['Clicks'], fbook['AdSpend'].dropna())"
   ]
  },
  {
   "cell_type": "markdown",
   "metadata": {},
   "source": [
    "With our outliers removed, we see both graphically and through statistical testing, there is some relationship between the variables. Though our statistical tests simply indicate that a null hypothesis that no relationship exists between these variables is false, it could be productive to take this relationship into account when devising an experiment. Still, we would like to know what types of messages received the highest number of clicks. "
   ]
  },
  {
   "cell_type": "code",
   "execution_count": 32,
   "metadata": {},
   "outputs": [
    {
     "data": {
      "text/html": [
       "<div>\n",
       "<style scoped>\n",
       "    .dataframe tbody tr th:only-of-type {\n",
       "        vertical-align: middle;\n",
       "    }\n",
       "\n",
       "    .dataframe tbody tr th {\n",
       "        vertical-align: top;\n",
       "    }\n",
       "\n",
       "    .dataframe thead th {\n",
       "        text-align: right;\n",
       "    }\n",
       "</style>\n",
       "<table border=\"1\" class=\"dataframe\">\n",
       "  <thead>\n",
       "    <tr style=\"text-align: right;\">\n",
       "      <th></th>\n",
       "      <th>AdID</th>\n",
       "      <th>AdText</th>\n",
       "      <th>Clicks</th>\n",
       "      <th>AdSpend</th>\n",
       "    </tr>\n",
       "  </thead>\n",
       "  <tbody>\n",
       "    <tr>\n",
       "      <th>2964</th>\n",
       "      <td>2004</td>\n",
       "      <td>The legendary tennis player Serena Williams ha...</td>\n",
       "      <td>1348.0</td>\n",
       "      <td>300.00</td>\n",
       "    </tr>\n",
       "    <tr>\n",
       "      <th>2820</th>\n",
       "      <td>3251</td>\n",
       "      <td>Brown Power is a platform designed to educate,...</td>\n",
       "      <td>1342.0</td>\n",
       "      <td>4413.97</td>\n",
       "    </tr>\n",
       "    <tr>\n",
       "      <th>3385</th>\n",
       "      <td>3041</td>\n",
       "      <td>Let's make it go viral! Like and share!</td>\n",
       "      <td>1342.0</td>\n",
       "      <td>87.68</td>\n",
       "    </tr>\n",
       "    <tr>\n",
       "      <th>2541</th>\n",
       "      <td>2174</td>\n",
       "      <td>Proud moments! Preschool , High School and Col...</td>\n",
       "      <td>1340.0</td>\n",
       "      <td>200.00</td>\n",
       "    </tr>\n",
       "    <tr>\n",
       "      <th>2554</th>\n",
       "      <td>2612</td>\n",
       "      <td>Are you ready to protect your community?</td>\n",
       "      <td>1338.0</td>\n",
       "      <td>400.00</td>\n",
       "    </tr>\n",
       "    <tr>\n",
       "      <th>2628</th>\n",
       "      <td>1016</td>\n",
       "      <td>Actor and comedian Charlie Murphy died at the ...</td>\n",
       "      <td>1337.0</td>\n",
       "      <td>499.49</td>\n",
       "    </tr>\n",
       "    <tr>\n",
       "      <th>3050</th>\n",
       "      <td>2669</td>\n",
       "      <td>Would you buy it for your girlfriend?</td>\n",
       "      <td>1332.0</td>\n",
       "      <td>300.00</td>\n",
       "    </tr>\n",
       "    <tr>\n",
       "      <th>2643</th>\n",
       "      <td>1992</td>\n",
       "      <td>Unconditional love and God is her secret to li...</td>\n",
       "      <td>1325.0</td>\n",
       "      <td>200.00</td>\n",
       "    </tr>\n",
       "    <tr>\n",
       "      <th>2750</th>\n",
       "      <td>2636</td>\n",
       "      <td>Natural heirs of Aztlan.</td>\n",
       "      <td>1318.0</td>\n",
       "      <td>320.00</td>\n",
       "    </tr>\n",
       "    <tr>\n",
       "      <th>2336</th>\n",
       "      <td>3127</td>\n",
       "      <td>This holiday season, take some time to visit y...</td>\n",
       "      <td>1314.0</td>\n",
       "      <td>300.00</td>\n",
       "    </tr>\n",
       "    <tr>\n",
       "      <th>1608</th>\n",
       "      <td>477</td>\n",
       "      <td>Hillary Clinton is the co-author of Obama's an...</td>\n",
       "      <td>1312.0</td>\n",
       "      <td>14705.68</td>\n",
       "    </tr>\n",
       "    <tr>\n",
       "      <th>2265</th>\n",
       "      <td>2542</td>\n",
       "      <td>#NotMyPresident hashtag has become popular aft...</td>\n",
       "      <td>1310.0</td>\n",
       "      <td>1378.45</td>\n",
       "    </tr>\n",
       "    <tr>\n",
       "      <th>291</th>\n",
       "      <td>439</td>\n",
       "      <td>Dear patriots, today we start our new competit...</td>\n",
       "      <td>1310.0</td>\n",
       "      <td>4886.23</td>\n",
       "    </tr>\n",
       "    <tr>\n",
       "      <th>2814</th>\n",
       "      <td>3102</td>\n",
       "      <td>Black Queens made history and keep making hist...</td>\n",
       "      <td>1300.0</td>\n",
       "      <td>400.00</td>\n",
       "    </tr>\n",
       "    <tr>\n",
       "      <th>1519</th>\n",
       "      <td>1555</td>\n",
       "      <td>A 58-year-old man from India was violently sla...</td>\n",
       "      <td>1300.0</td>\n",
       "      <td>500.00</td>\n",
       "    </tr>\n",
       "    <tr>\n",
       "      <th>2499</th>\n",
       "      <td>1997</td>\n",
       "      <td>Possible.</td>\n",
       "      <td>1293.0</td>\n",
       "      <td>200.00</td>\n",
       "    </tr>\n",
       "    <tr>\n",
       "      <th>352</th>\n",
       "      <td>701</td>\n",
       "      <td>Heart of Texas! Time to secede!</td>\n",
       "      <td>1290.0</td>\n",
       "      <td>8074.87</td>\n",
       "    </tr>\n",
       "    <tr>\n",
       "      <th>2647</th>\n",
       "      <td>2005</td>\n",
       "      <td>Comment if you like this show.</td>\n",
       "      <td>1290.0</td>\n",
       "      <td>200.00</td>\n",
       "    </tr>\n",
       "    <tr>\n",
       "      <th>2885</th>\n",
       "      <td>2452</td>\n",
       "      <td>STOP BOMBING SYRIA!!!</td>\n",
       "      <td>1289.0</td>\n",
       "      <td>2000.00</td>\n",
       "    </tr>\n",
       "    <tr>\n",
       "      <th>2297</th>\n",
       "      <td>771</td>\n",
       "      <td>Knowledge will free you! Buy here: https://rep...</td>\n",
       "      <td>1288.0</td>\n",
       "      <td>400.00</td>\n",
       "    </tr>\n",
       "  </tbody>\n",
       "</table>\n",
       "</div>"
      ],
      "text/plain": [
       "      AdID                                             AdText  Clicks  \\\n",
       "2964  2004  The legendary tennis player Serena Williams ha...  1348.0   \n",
       "2820  3251  Brown Power is a platform designed to educate,...  1342.0   \n",
       "3385  3041            Let's make it go viral! Like and share!  1342.0   \n",
       "2541  2174  Proud moments! Preschool , High School and Col...  1340.0   \n",
       "2554  2612           Are you ready to protect your community?  1338.0   \n",
       "2628  1016  Actor and comedian Charlie Murphy died at the ...  1337.0   \n",
       "3050  2669              Would you buy it for your girlfriend?  1332.0   \n",
       "2643  1992  Unconditional love and God is her secret to li...  1325.0   \n",
       "2750  2636                           Natural heirs of Aztlan.  1318.0   \n",
       "2336  3127  This holiday season, take some time to visit y...  1314.0   \n",
       "1608   477  Hillary Clinton is the co-author of Obama's an...  1312.0   \n",
       "2265  2542  #NotMyPresident hashtag has become popular aft...  1310.0   \n",
       "291    439  Dear patriots, today we start our new competit...  1310.0   \n",
       "2814  3102  Black Queens made history and keep making hist...  1300.0   \n",
       "1519  1555  A 58-year-old man from India was violently sla...  1300.0   \n",
       "2499  1997                                          Possible.  1293.0   \n",
       "352    701                    Heart of Texas! Time to secede!  1290.0   \n",
       "2647  2005                     Comment if you like this show.  1290.0   \n",
       "2885  2452                              STOP BOMBING SYRIA!!!  1289.0   \n",
       "2297   771  Knowledge will free you! Buy here: https://rep...  1288.0   \n",
       "\n",
       "       AdSpend  \n",
       "2964    300.00  \n",
       "2820   4413.97  \n",
       "3385     87.68  \n",
       "2541    200.00  \n",
       "2554    400.00  \n",
       "2628    499.49  \n",
       "3050    300.00  \n",
       "2643    200.00  \n",
       "2750    320.00  \n",
       "2336    300.00  \n",
       "1608  14705.68  \n",
       "2265   1378.45  \n",
       "291    4886.23  \n",
       "2814    400.00  \n",
       "1519    500.00  \n",
       "2499    200.00  \n",
       "352    8074.87  \n",
       "2647    200.00  \n",
       "2885   2000.00  \n",
       "2297    400.00  "
      ]
     },
     "execution_count": 32,
     "metadata": {},
     "output_type": "execute_result"
    }
   ],
   "source": [
    "fbook[['AdID', 'AdText','Clicks', 'AdSpend']].sort_values(by='Clicks', ascending=False).head(20)"
   ]
  },
  {
   "cell_type": "markdown",
   "metadata": {},
   "source": [
    "Upon inspecting the ad text with the highest number of clicks, no clear relationship in terms of subject is evident. So it would be best to proceed into our research proposal with the knowledge that ad spend plays some role in the performance of the ad.\n"
   ]
  },
  {
   "cell_type": "markdown",
   "metadata": {},
   "source": [
    "   ### Research Proposal"
   ]
  },
  {
   "cell_type": "markdown",
   "metadata": {},
   "source": [
    "It is a curious challenge to understand how the Russia-linked Internet Research Agency made decisions on how they created and dissiminated the ads they purchased. So to better understand that, I'd like to try and get at what strategies in terms of ad spend they might have taken in to account when making those decisions. Considering the broad targeting of ads, relative impact of ad expenditure, and apparent low importance of the ad text, I am lead to believe that a higher ad spend as compared to the average will have enough impact to justify the expenditure. This analysis might allow us to gain insight into any future Russian attempts to interfere with our elections. \n",
    "\n",
    "This leads us to a question: What level of ad spend is the most effective? \n",
    "\n",
    "To test this,let's say that ad spend has a higher impact on ad performance than the ad text. To determine this, let's use the ad text from the highest performing ad with the lowest ad spend. For an A/B test setup, I would use this ad text for both my test and control. and purchase ad space with the ad spend for the highest performing ad as my test case. For my control, I would use that ad's original ad spend. This will help to determine whether the ad spend is the most important factor in determing the ads performance or the actual text. \n",
    "\n",
    "The rollout of the test and control will be simultaneous, with the ads being targeted randomly and between two groups of facebook users, 100 in each group. Each ad will run for 24 hours, after which its performance will be measured. The outcome of interest will be the number of clicks, with our secondary outcome being impressions. Measuring the performance of each ad against this existing data will help determine if our hypothesis is correct.\n",
    "\n",
    "Evaluating the outcome of this experiment will be done by comparing the performance of our test case against the control. If the test outperforms the control by at least 15% we will consider the experiment a success. "
   ]
  },
  {
   "cell_type": "code",
   "execution_count": null,
   "metadata": {},
   "outputs": [],
   "source": []
  }
 ],
 "metadata": {
  "kernelspec": {
   "display_name": "Python 3",
   "language": "python",
   "name": "python3"
  },
  "language_info": {
   "codemirror_mode": {
    "name": "ipython",
    "version": 3
   },
   "file_extension": ".py",
   "mimetype": "text/x-python",
   "name": "python",
   "nbconvert_exporter": "python",
   "pygments_lexer": "ipython3",
   "version": "3.6.3"
  }
 },
 "nbformat": 4,
 "nbformat_minor": 2
}
